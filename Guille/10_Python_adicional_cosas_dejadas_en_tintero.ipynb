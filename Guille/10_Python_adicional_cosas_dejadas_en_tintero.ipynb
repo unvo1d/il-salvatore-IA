{
 "cells": [
  {
   "cell_type": "markdown",
   "metadata": {},
   "source": [
    "<div style=\"font-size: 200%; font-weight: bold; color: maroon;\">Python adicional - algunas cosas que se quedaron en tintero</div>\n"
   ]
  },
  {
   "cell_type": "markdown",
   "metadata": {},
   "source": [
    "# Recursividad\n",
    "\n",
    "## Ejemplo con secuencia Fibonacci\n",
    "\n",
    "Las funciones recursivas son funciones que se llaman a sí mismas durante su propia ejecución. La recursividad en programación es una técnica muy potente, ésta se realiza con funciones que se llaman a sí mismas, veámolos cómo una especie de bucle, ya que el mismo código se repetirá varias veces, hasta llegar a la solución.\n",
    "\n",
    "Es importante encargarse de planificar el momento en que dejan de llamarse a sí mismas o tendrá una función recursiva infinita.\n",
    "\n",
    "Veamos un ejemplo con la secuencia de Fibonacci: a partir de un número el siguiente elemento de la secuencia será la suma del siguiente número natural y el inmediantamente anterior."
   ]
  },
  {
   "cell_type": "code",
   "execution_count": null,
   "metadata": {},
   "outputs": [],
   "source": [
    "# Program to display the Fibonacci sequence up to n-th term\n",
    "# https://www.programiz.com/python-programming/examples/fibonacci-recursion\n",
    "\n",
    "n = int(input(\"Introduce un número entero > 1 y < 40 \"))\n",
    "\n",
    "def recur_fibo(n):\n",
    "   if n <= 1:\n",
    "       return n\n",
    "   else:\n",
    "       return(recur_fibo(n-1) + recur_fibo(n-2))\n",
    "\n",
    "#nterms = 10\n",
    "\n",
    "# check if the number of terms is valid\n",
    "if n <= 0:\n",
    "   print(\"Plese enter a positive integer\")\n",
    "else:\n",
    "   print(\"Fibonacci sequence:\")\n",
    "   for i in range(n):\n",
    "       print(recur_fibo(i))"
   ]
  },
  {
   "cell_type": "code",
   "execution_count": null,
   "metadata": {},
   "outputs": [],
   "source": [
    "# Program to display the Fibonacci sequence up to n-th term\n",
    "# https://www.programiz.com/python-programming/examples/fibonacci-sequence\n",
    "\n",
    "nterms = int(input(\"How many terms? \"))\n",
    "\n",
    "# first two terms\n",
    "n1, n2 = 0, 1\n",
    "count = 0\n",
    "\n",
    "# check if the number of terms is valid\n",
    "if nterms <= 0:\n",
    "   print(\"Please enter a positive integer\")\n",
    "elif nterms == 1:\n",
    "   print(\"Fibonacci sequence upto\",nterms,\":\")\n",
    "   print(n1)\n",
    "else:\n",
    "   print(\"Fibonacci sequence:\")\n",
    "   while count < nterms:\n",
    "       print(n1)\n",
    "       nth = n1 + n2\n",
    "       # update values\n",
    "       n1 = n2\n",
    "       n2 = nth\n",
    "       count += 1"
   ]
  },
  {
   "cell_type": "markdown",
   "metadata": {},
   "source": [
    "## String Formatting (la sintaxis %s y otras...)\n",
    "\n",
    "Referencias:\n",
    "\n",
    "https://www.learnpython.org/en/String_Formatting  (bastante didáctico)\n",
    "\n",
    "https://docs.python.org/2/library/stdtypes.html#string-formatting (documentación oficial)\n",
    "\n",
    "https://realpython.com/python-string-formatting/  (introduce el nuevo formato)\n",
    "\n",
    "https://pyformat.info/  (Old and new formatting; opcional, puede parecer complicado...)\n",
    "\n",
    "Python uses C-style string formatting to create new, formatted strings. The \"%\" operator is used to format a set of variables enclosed in a \"tuple\" (a fixed size list), together with a format string, which contains normal text together with \"argument specifiers\", special symbols like \"%s\" and \"%d\".\n",
    "\n",
    "Let's say you have a variable called \"name\" with your user name in it, and you would then like to print(out a greeting to that user.)"
   ]
  },
  {
   "cell_type": "code",
   "execution_count": null,
   "metadata": {},
   "outputs": [],
   "source": [
    "# This prints out \"John is 23 years old.\"\n",
    "name = \"John\"\n",
    "age = 23\n",
    "print(name + \" is \" + str(age) + \" years old.\")"
   ]
  },
  {
   "cell_type": "code",
   "execution_count": null,
   "metadata": {},
   "outputs": [],
   "source": [
    "# This prints out \"John is 23 years old.\"\n",
    "name = \"John\"\n",
    "age = 23\n",
    "print(\"%s is %d years old.\" % (name, age))"
   ]
  },
  {
   "cell_type": "markdown",
   "metadata": {},
   "source": [
    "Any object which is not a string can be formatted using the %s operator as well. The string which returns from the \"repr\" method of that object is formatted as the string. For example:"
   ]
  },
  {
   "cell_type": "code",
   "execution_count": null,
   "metadata": {},
   "outputs": [],
   "source": [
    "# This prints out: A list: [1, 2, 3]\n",
    "mylist = [1,2,3]\n",
    "print(\"A list: %s\" % mylist)"
   ]
  },
  {
   "cell_type": "markdown",
   "metadata": {},
   "source": [
    "Here are some basic argument specifiers you should know:\n",
    "\n",
    "%s - String (or any object with a string representation, like numbers)\n",
    "\n",
    "%d - Integers\n",
    "\n",
    "%f - Floating point numbers\n",
    "\n",
    "%.<number of digits>f - Floating point numbers with a fixed amount of digits to the right of the dot.\n",
    "\n",
    "%x/%X - Integers in hex representation (lowercase/uppercase)"
   ]
  },
  {
   "cell_type": "markdown",
   "metadata": {},
   "source": [
    "## Ejemplo de aplicación de diccionarios\n",
    "\n",
    "A partir de aquí (es gratuito pero exige registro previo):\n",
    "\n",
    "https://www.codecademy.com/courses/learn-python/lessons/a-day-at-the-supermarket/exercises/keeping-track-of-the-produce-\n",
    "\n",
    "ejemplo de aplicación de diccionarios (\"un día en el supermercado\")"
   ]
  },
  {
   "cell_type": "code",
   "execution_count": null,
   "metadata": {},
   "outputs": [],
   "source": [
    "prices = {\"banana\": 4,\"apple\": 2,\"orange\": 1.5,\"pear\": 3}\n",
    "\n",
    "stock = {\"banana\": 6, \"apple\": 0, \"orange\": 32, \"pear\": 15}\n",
    "\n",
    "for food in prices:\n",
    "  print(food)\n",
    "  print(\"price: %s\" % prices[food])\n",
    "  print(\"stock: %s\" % stock[food])\n"
   ]
  },
  {
   "cell_type": "markdown",
   "metadata": {},
   "source": [
    "Let’s determine how much money you would make if you sold all of your food.\n",
    "\n",
    "    Create a variable called total and set it to zero.\n",
    "    Loop through the prices dictionary.\n",
    "    For each key in prices, multiply the number in prices by the number in stock. Print that value into the console and then add it to total.\n",
    "    Finally, outside your loop, print total.\n",
    "\n"
   ]
  },
  {
   "cell_type": "code",
   "execution_count": null,
   "metadata": {},
   "outputs": [],
   "source": [
    "for k1, v1 in prices.items():\n",
    "    print(k1, v1)\n",
    "\n",
    "for k2, v2 in stock.items():\n",
    "    print(k2, v2)\n"
   ]
  },
  {
   "cell_type": "code",
   "execution_count": null,
   "metadata": {},
   "outputs": [],
   "source": [
    "total = 0\n",
    "\n",
    "for food in prices:\n",
    "    print(food + ' ' + str(prices[food] * stock[food]) )\n",
    "    total = total + prices[food] * stock[food]\n",
    "\n",
    "print('total is ' + str(total))"
   ]
  }
 ],
 "metadata": {
  "kernelspec": {
   "display_name": "Python 3",
   "language": "python",
   "name": "python3"
  },
  "language_info": {
   "codemirror_mode": {
    "name": "ipython",
    "version": 3
   },
   "file_extension": ".py",
   "mimetype": "text/x-python",
   "name": "python",
   "nbconvert_exporter": "python",
   "pygments_lexer": "ipython3",
   "version": "3.8.8"
  }
 },
 "nbformat": 4,
 "nbformat_minor": 2
}
