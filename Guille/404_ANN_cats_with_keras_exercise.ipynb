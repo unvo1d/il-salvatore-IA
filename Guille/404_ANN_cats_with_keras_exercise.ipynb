{
 "cells": [
  {
   "cell_type": "markdown",
   "metadata": {},
   "source": [
    "# ANN for classifying cats (vs. non-cats) WITH KERAS\n",
    "\n"
   ]
  },
  {
   "cell_type": "markdown",
   "metadata": {},
   "source": [
    "## 1 - What for ##\n",
    "\n",
    "- Learn to use keras for the simplest topologies (a number of dense layers)\n",
    "- Compare the behavior and the performance with the numpy implementation\n",
    "\n",
    "The following code is based on the ANN numpy notebook (codenamed 54) **only for loading and pre-processing the datasets**. The rest shall be new and done with keras\n",
    "\n",
    "**RESET THE WHOLE NOTEBOOK FOR BETTER RESULTS**"
   ]
  },
  {
   "cell_type": "code",
   "execution_count": 1,
   "metadata": {},
   "outputs": [],
   "source": [
    "import numpy as np\n",
    "import matplotlib.pyplot as plt\n",
    "import h5py\n",
    "import scipy\n",
    "from PIL import Image\n",
    "from scipy import ndimage\n",
    "\n",
    "%matplotlib inline"
   ]
  },
  {
   "cell_type": "markdown",
   "metadata": {
    "collapsed": true
   },
   "source": [
    "## 2 - Loading datasets ##\n",
    "\n",
    "**Problem Statement**: You are given a dataset (\"data.h5\") containing:\n",
    "    - a training set of m_train images labeled as cat (y=1) or non-cat (y=0)\n",
    "    - a test set of m_test images labeled as cat or non-cat\n",
    "    - each image is of shape (num_px, num_px, 3) where 3 is for the 3 channels (RGB). Thus, each image is square (height = num_px) and (width = num_px).\n",
    "\n",
    "You will build a simple image-recognition algorithm that can correctly classify pictures as cat or non-cat.\n",
    "\n",
    "Let's get more familiar with the dataset. Load the data by running the following code."
   ]
  },
  {
   "cell_type": "code",
   "execution_count": 2,
   "metadata": {},
   "outputs": [],
   "source": [
    "def load_dataset():\n",
    "    train_dataset = h5py.File('datasets/train_catvnoncat.h5', \"r\")\n",
    "    train_set_x_orig = np.array(train_dataset[\"train_set_x\"][:]) # your train set features\n",
    "    train_set_y_orig = np.array(train_dataset[\"train_set_y\"][:]) # your train set labels\n",
    "\n",
    "    test_dataset = h5py.File('datasets/test_catvnoncat.h5', \"r\")\n",
    "    test_set_x_orig = np.array(test_dataset[\"test_set_x\"][:]) # your test set features\n",
    "    test_set_y_orig = np.array(test_dataset[\"test_set_y\"][:]) # your test set labels\n",
    "\n",
    "    classes = np.array(test_dataset[\"list_classes\"][:]) # the list of classes\n",
    "    \n",
    "    train_set_y_orig = train_set_y_orig.reshape((1, train_set_y_orig.shape[0]))\n",
    "    test_set_y_orig = test_set_y_orig.reshape((1, test_set_y_orig.shape[0]))\n",
    "    \n",
    "    return train_set_x_orig, train_set_y_orig, test_set_x_orig, test_set_y_orig, classes"
   ]
  },
  {
   "cell_type": "code",
   "execution_count": 3,
   "metadata": {},
   "outputs": [],
   "source": [
    "# Loading the data (cat/non-cat)\n",
    "train_set_x_orig, train_set_y, test_set_x_orig, test_set_y, classes = load_dataset()"
   ]
  },
  {
   "cell_type": "markdown",
   "metadata": {},
   "source": [
    "We added \"_orig\" at the end of image datasets (train and test) because we are going to preprocess them. After preprocessing, we will end up with train_set_x and test_set_x (the labels train_set_y and test_set_y don't need any preprocessing).\n",
    "\n",
    "Each line of your train_set_x_orig and test_set_x_orig is an array representing an image. You can visualize an example by running the following code. Feel free also to change the `index` value and re-run to see other images. "
   ]
  },
  {
   "cell_type": "code",
   "execution_count": 4,
   "metadata": {},
   "outputs": [
    {
     "name": "stdout",
     "output_type": "stream",
     "text": [
      "y = [1], it's a 'cat' picture.\n"
     ]
    },
    {
     "data": {
      "image/png": "[encoded data removed]",
      "text/plain": [
       "<Figure size 640x480 with 1 Axes>"
      ]
     },
     "metadata": {},
     "output_type": "display_data"
    }
   ],
   "source": [
    "# Example of a picture\n",
    "index = 68\n",
    "\n",
    "plt.imshow(train_set_x_orig[index])\n",
    "print (\"y = \" + \n",
    "       str(train_set_y[:, index]) + \n",
    "       \", it's a '\" + \n",
    "       classes[np.squeeze(train_set_y[:, index])].decode(\"utf-8\") +  \n",
    "       \"' picture.\")"
   ]
  },
  {
   "cell_type": "markdown",
   "metadata": {
    "collapsed": true
   },
   "source": [
    "## 3 - Shape of arrays ##\n",
    "\n",
    "**Problem Statement**: \n",
    "\n",
    "- 3.1. Print the array dimensions **using the .shape functionality from numpy**\n",
    "\n",
    "- 3.2. You will have to \"flatten\" the images, so each image is one vector of all pixels * 3 (the RGB layers). What functions will you use? (consider this for later)\n",
    "\n",
    "- 3.3. In comparison with the MNIST example dataset, ¿is the shape of the y vector the same?\n",
    "\n",
    "- 3.4. What type of data (python data type) is each array? Can you use these directly?\n",
    "\n",
    "- 3.5. Have train and test datasets the same organization of data? (shape)\n",
    "\n",
    "\n",
    "\n"
   ]
  },
  {
   "cell_type": "code",
   "execution_count": 5,
   "metadata": {},
   "outputs": [
    {
     "name": "stdout",
     "output_type": "stream",
     "text": [
      "(209, 64, 64, 3) \n",
      " (1, 209) \n",
      " (50, 64, 64, 3) \n",
      " (1, 50) \n",
      "\n"
     ]
    }
   ],
   "source": [
    "train_set_x_orig.shape\n",
    "train_set_y.shape\n",
    "test_set_x_orig.shape\n",
    "test_set_y.shape\n",
    "print(train_set_x_orig.shape, '\\n', train_set_y.shape, '\\n', test_set_x_orig.shape, '\\n', test_set_y.shape, '\\n')"
   ]
  },
  {
   "cell_type": "code",
   "execution_count": 6,
   "metadata": {
    "scrolled": true
   },
   "outputs": [
    {
     "name": "stdout",
     "output_type": "stream",
     "text": [
      "<class 'numpy.ndarray'>\n"
     ]
    },
    {
     "data": {
      "text/plain": [
       "(259, 64, 64, 3)"
      ]
     },
     "execution_count": 6,
     "metadata": {},
     "output_type": "execute_result"
    }
   ],
   "source": [
    "print(type(train_set_x_orig))\n",
    "\n",
    "new_x = np.concatenate((train_set_x_orig, test_set_x_orig), axis=0)\n",
    "new_x.shape"
   ]
  },
  {
   "cell_type": "code",
   "execution_count": 7,
   "metadata": {},
   "outputs": [
    {
     "data": {
      "text/plain": [
       "(259, 1)"
      ]
     },
     "execution_count": 7,
     "metadata": {},
     "output_type": "execute_result"
    }
   ],
   "source": [
    "new_y = np.concatenate((train_set_y.T, test_set_y.T), axis=0)\n",
    "new_y.shape"
   ]
  },
  {
   "cell_type": "markdown",
   "metadata": {},
   "source": [
    "## 4. Reshape X arrays and convert RGB values to float\n",
    "\n",
    "- 4.1. (for both train and test) Flatten (reshape X array to a 1 column vector for each image). Verify that both train_ and test_x organization **is the same**\n",
    "- 4.2. Normalize (divide by 255) the pixel values and make sure the output is float32\n"
   ]
  },
  {
   "cell_type": "code",
   "execution_count": 8,
   "metadata": {},
   "outputs": [
    {
     "data": {
      "text/plain": [
       "(259, 12288)"
      ]
     },
     "execution_count": 8,
     "metadata": {},
     "output_type": "execute_result"
    }
   ],
   "source": [
    "new_x_2 = new_x.reshape(new_x.shape[0], -1)\n",
    "new_x_2.shape"
   ]
  },
  {
   "cell_type": "code",
   "execution_count": 9,
   "metadata": {},
   "outputs": [
    {
     "name": "stdout",
     "output_type": "stream",
     "text": [
      "255\n",
      "(259, 12288)\n"
     ]
    }
   ],
   "source": [
    "new_x_2[0]\n",
    "print(new_x_2.max())\n",
    "\n",
    "final_x = new_x_2/255\n",
    "print(final_x.shape)"
   ]
  },
  {
   "cell_type": "code",
   "execution_count": 10,
   "metadata": {},
   "outputs": [],
   "source": [
    "from sklearn.model_selection import train_test_split"
   ]
  },
  {
   "cell_type": "code",
   "execution_count": 11,
   "metadata": {},
   "outputs": [
    {
     "name": "stdout",
     "output_type": "stream",
     "text": [
      "(194, 12288)\n",
      "(194, 1)\n",
      "(65, 12288)\n",
      "(65, 1)\n"
     ]
    }
   ],
   "source": [
    "X_train, X_test, y_train, y_test = train_test_split(final_x,\n",
    "                                                   new_y,\n",
    "                                                   test_size=0.25,\n",
    "                                                   random_state=50)\n",
    "\n",
    "print(X_train.shape)\n",
    "print(y_train.shape)\n",
    "print(X_test.shape)\n",
    "print(y_test.shape)"
   ]
  },
  {
   "cell_type": "markdown",
   "metadata": {},
   "source": [
    "## 5. Prepare y (labels) for keras\n",
    "\n",
    "- 5.1. Reshape y vector so that it adapts to the keras convention: (number_of_instances, 1): use transpond (.T)\n",
    "- 5.2. Use the to_categorical utility from keras for preparing the labels \n"
   ]
  },
  {
   "cell_type": "code",
   "execution_count": 12,
   "metadata": {},
   "outputs": [],
   "source": [
    "from keras.utils import to_categorical"
   ]
  },
  {
   "cell_type": "code",
   "execution_count": 13,
   "metadata": {
    "scrolled": false
   },
   "outputs": [],
   "source": [
    "y_train = to_categorical(y_train)\n",
    "y_test = to_categorical(y_test)"
   ]
  },
  {
   "cell_type": "code",
   "execution_count": 14,
   "metadata": {},
   "outputs": [
    {
     "data": {
      "text/plain": [
       "array([[0., 1.],\n",
       "       [0., 1.],\n",
       "       [1., 0.],\n",
       "       [0., 1.],\n",
       "       [1., 0.],\n",
       "       [0., 1.],\n",
       "       [1., 0.],\n",
       "       [1., 0.],\n",
       "       [1., 0.],\n",
       "       [0., 1.],\n",
       "       [1., 0.],\n",
       "       [1., 0.],\n",
       "       [0., 1.],\n",
       "       [1., 0.],\n",
       "       [0., 1.],\n",
       "       [1., 0.],\n",
       "       [1., 0.],\n",
       "       [1., 0.],\n",
       "       [1., 0.],\n",
       "       [1., 0.],\n",
       "       [1., 0.],\n",
       "       [1., 0.],\n",
       "       [0., 1.],\n",
       "       [0., 1.],\n",
       "       [1., 0.],\n",
       "       [1., 0.],\n",
       "       [1., 0.],\n",
       "       [1., 0.],\n",
       "       [0., 1.],\n",
       "       [1., 0.],\n",
       "       [1., 0.],\n",
       "       [1., 0.],\n",
       "       [0., 1.],\n",
       "       [1., 0.],\n",
       "       [0., 1.],\n",
       "       [0., 1.],\n",
       "       [0., 1.],\n",
       "       [0., 1.],\n",
       "       [1., 0.],\n",
       "       [0., 1.],\n",
       "       [0., 1.],\n",
       "       [0., 1.],\n",
       "       [1., 0.],\n",
       "       [0., 1.],\n",
       "       [1., 0.],\n",
       "       [0., 1.],\n",
       "       [1., 0.],\n",
       "       [1., 0.],\n",
       "       [1., 0.],\n",
       "       [0., 1.],\n",
       "       [1., 0.],\n",
       "       [1., 0.],\n",
       "       [0., 1.],\n",
       "       [0., 1.],\n",
       "       [0., 1.],\n",
       "       [0., 1.],\n",
       "       [0., 1.],\n",
       "       [0., 1.],\n",
       "       [1., 0.],\n",
       "       [1., 0.],\n",
       "       [1., 0.],\n",
       "       [1., 0.],\n",
       "       [0., 1.],\n",
       "       [1., 0.],\n",
       "       [1., 0.],\n",
       "       [0., 1.],\n",
       "       [1., 0.],\n",
       "       [1., 0.],\n",
       "       [1., 0.],\n",
       "       [1., 0.],\n",
       "       [0., 1.],\n",
       "       [1., 0.],\n",
       "       [1., 0.],\n",
       "       [0., 1.],\n",
       "       [1., 0.],\n",
       "       [1., 0.],\n",
       "       [1., 0.],\n",
       "       [1., 0.],\n",
       "       [1., 0.],\n",
       "       [0., 1.],\n",
       "       [0., 1.],\n",
       "       [0., 1.],\n",
       "       [1., 0.],\n",
       "       [0., 1.],\n",
       "       [0., 1.],\n",
       "       [0., 1.],\n",
       "       [0., 1.],\n",
       "       [0., 1.],\n",
       "       [1., 0.],\n",
       "       [0., 1.],\n",
       "       [1., 0.],\n",
       "       [1., 0.],\n",
       "       [1., 0.],\n",
       "       [1., 0.],\n",
       "       [1., 0.],\n",
       "       [0., 1.],\n",
       "       [0., 1.],\n",
       "       [1., 0.],\n",
       "       [1., 0.],\n",
       "       [1., 0.],\n",
       "       [0., 1.],\n",
       "       [1., 0.],\n",
       "       [1., 0.],\n",
       "       [1., 0.],\n",
       "       [1., 0.],\n",
       "       [1., 0.],\n",
       "       [1., 0.],\n",
       "       [1., 0.],\n",
       "       [1., 0.],\n",
       "       [0., 1.],\n",
       "       [0., 1.],\n",
       "       [0., 1.],\n",
       "       [1., 0.],\n",
       "       [1., 0.],\n",
       "       [0., 1.],\n",
       "       [0., 1.],\n",
       "       [0., 1.],\n",
       "       [1., 0.],\n",
       "       [1., 0.],\n",
       "       [1., 0.],\n",
       "       [0., 1.],\n",
       "       [1., 0.],\n",
       "       [0., 1.],\n",
       "       [1., 0.],\n",
       "       [0., 1.],\n",
       "       [1., 0.],\n",
       "       [1., 0.],\n",
       "       [0., 1.],\n",
       "       [0., 1.],\n",
       "       [1., 0.],\n",
       "       [1., 0.],\n",
       "       [0., 1.],\n",
       "       [1., 0.],\n",
       "       [1., 0.],\n",
       "       [1., 0.],\n",
       "       [0., 1.],\n",
       "       [0., 1.],\n",
       "       [1., 0.],\n",
       "       [0., 1.],\n",
       "       [1., 0.],\n",
       "       [1., 0.],\n",
       "       [0., 1.],\n",
       "       [1., 0.],\n",
       "       [1., 0.],\n",
       "       [0., 1.],\n",
       "       [0., 1.],\n",
       "       [0., 1.],\n",
       "       [1., 0.],\n",
       "       [0., 1.],\n",
       "       [0., 1.],\n",
       "       [1., 0.],\n",
       "       [0., 1.],\n",
       "       [1., 0.],\n",
       "       [1., 0.],\n",
       "       [1., 0.],\n",
       "       [1., 0.],\n",
       "       [0., 1.],\n",
       "       [1., 0.],\n",
       "       [1., 0.],\n",
       "       [1., 0.],\n",
       "       [1., 0.],\n",
       "       [1., 0.],\n",
       "       [1., 0.],\n",
       "       [1., 0.],\n",
       "       [1., 0.],\n",
       "       [1., 0.],\n",
       "       [0., 1.],\n",
       "       [0., 1.],\n",
       "       [1., 0.],\n",
       "       [1., 0.],\n",
       "       [1., 0.],\n",
       "       [1., 0.],\n",
       "       [0., 1.],\n",
       "       [0., 1.],\n",
       "       [0., 1.],\n",
       "       [1., 0.],\n",
       "       [1., 0.],\n",
       "       [0., 1.],\n",
       "       [1., 0.],\n",
       "       [1., 0.],\n",
       "       [1., 0.],\n",
       "       [0., 1.],\n",
       "       [0., 1.],\n",
       "       [1., 0.],\n",
       "       [0., 1.],\n",
       "       [0., 1.],\n",
       "       [0., 1.],\n",
       "       [1., 0.],\n",
       "       [0., 1.],\n",
       "       [0., 1.],\n",
       "       [1., 0.],\n",
       "       [1., 0.],\n",
       "       [0., 1.],\n",
       "       [1., 0.]], dtype=float32)"
      ]
     },
     "execution_count": 14,
     "metadata": {},
     "output_type": "execute_result"
    }
   ],
   "source": [
    "y_train"
   ]
  },
  {
   "cell_type": "markdown",
   "metadata": {},
   "source": [
    "## 6 - Define and compile the ANN topology ##\n",
    "\n",
    "- 6.1. Define the layers (Dense). Remember you have to specify:\n",
    "- 6.2. Number of neurons for each layer\n",
    "- 6.3. Activation function\n",
    "- 6.4. For the first layer, the input_shape (already flattened)\n",
    "- 6.5. For the last layer (the output layer), the number of neurons and the activation\n",
    "\n",
    "And for the compilation you will need:\n",
    "\n",
    "- 6.6. The optimizer\n",
    "- 6.7. The loss function\n",
    "- 6.8. (optional but recommended) a metrics function to print each model iteration (epoch) performance"
   ]
  },
  {
   "cell_type": "code",
   "execution_count": 15,
   "metadata": {},
   "outputs": [],
   "source": [
    "from keras import models\n",
    "from keras import layers"
   ]
  },
  {
   "cell_type": "code",
   "execution_count": 36,
   "metadata": {},
   "outputs": [],
   "source": [
    "network = models.Sequential()\n",
    "network.add(layers.Dense(256, \n",
    "                         activation='relu', \n",
    "                         input_shape=(64 * 64 * 3,)))\n",
    "\n",
    "network.add(layers.Dense(64, \n",
    "                         activation='relu'))\n",
    "\n",
    "network.add(layers.Dense(2, \n",
    "                         activation='softmax'))"
   ]
  },
  {
   "cell_type": "code",
   "execution_count": 37,
   "metadata": {},
   "outputs": [
    {
     "name": "stdout",
     "output_type": "stream",
     "text": [
      "Model: \"sequential_7\"\n",
      "_________________________________________________________________\n",
      " Layer (type)                Output Shape              Param #   \n",
      "=================================================================\n",
      " dense_9 (Dense)             (None, 256)               3145984   \n",
      "                                                                 \n",
      " dense_10 (Dense)            (None, 64)                16448     \n",
      "                                                                 \n",
      " dense_11 (Dense)            (None, 2)                 130       \n",
      "                                                                 \n",
      "=================================================================\n",
      "Total params: 3,162,562\n",
      "Trainable params: 3,162,562\n",
      "Non-trainable params: 0\n",
      "_________________________________________________________________\n"
     ]
    }
   ],
   "source": [
    "network.summary()"
   ]
  },
  {
   "cell_type": "code",
   "execution_count": 38,
   "metadata": {},
   "outputs": [],
   "source": [
    "network.compile(optimizer='rmsprop',\n",
    "                loss='categorical_crossentropy',\n",
    "                metrics=['accuracy'])"
   ]
  },
  {
   "cell_type": "markdown",
   "metadata": {},
   "source": [
    "## 7 - Compute (fit) the model ##\n",
    "\n",
    "You need to specify:\n",
    "\n",
    "- 7.1. Train X and y datasets\n",
    "- 7.2. Number of epochs **Please do not use > 100, this problem might take looong in a normal laptop**\n",
    "- 7.3. Batch_size"
   ]
  },
  {
   "cell_type": "code",
   "execution_count": 39,
   "metadata": {},
   "outputs": [
    {
     "name": "stdout",
     "output_type": "stream",
     "text": [
      "Epoch 1/50\n",
      "4/4 [==============================] - 0s 15ms/step - loss: 17.2671 - accuracy: 0.4948\n",
      "Epoch 2/50\n",
      "4/4 [==============================] - 0s 14ms/step - loss: 4.6030 - accuracy: 0.5052\n",
      "Epoch 3/50\n",
      "4/4 [==============================] - 0s 14ms/step - loss: 3.9937 - accuracy: 0.5361\n",
      "Epoch 4/50\n",
      "4/4 [==============================] - 0s 14ms/step - loss: 2.2147 - accuracy: 0.5515\n",
      "Epoch 5/50\n",
      "4/4 [==============================] - 0s 13ms/step - loss: 2.2611 - accuracy: 0.5052\n",
      "Epoch 6/50\n",
      "4/4 [==============================] - 0s 14ms/step - loss: 2.0013 - accuracy: 0.5155\n",
      "Epoch 7/50\n",
      "4/4 [==============================] - 0s 14ms/step - loss: 2.3413 - accuracy: 0.5464\n",
      "Epoch 8/50\n",
      "4/4 [==============================] - 0s 14ms/step - loss: 0.7560 - accuracy: 0.6598\n",
      "Epoch 9/50\n",
      "4/4 [==============================] - 0s 14ms/step - loss: 2.0776 - accuracy: 0.5567\n",
      "Epoch 10/50\n",
      "4/4 [==============================] - 0s 14ms/step - loss: 1.4486 - accuracy: 0.6031\n",
      "Epoch 11/50\n",
      "4/4 [==============================] - 0s 14ms/step - loss: 1.8261 - accuracy: 0.5258\n",
      "Epoch 12/50\n",
      "4/4 [==============================] - 0s 14ms/step - loss: 2.6151 - accuracy: 0.5464\n",
      "Epoch 13/50\n",
      "4/4 [==============================] - 0s 16ms/step - loss: 1.8345 - accuracy: 0.4278\n",
      "Epoch 14/50\n",
      "4/4 [==============================] - 0s 16ms/step - loss: 4.9194 - accuracy: 0.4536\n",
      "Epoch 15/50\n",
      "4/4 [==============================] - 0s 15ms/step - loss: 2.2130 - accuracy: 0.4433\n",
      "Epoch 16/50\n",
      "4/4 [==============================] - 0s 15ms/step - loss: 2.1487 - accuracy: 0.5052\n",
      "Epoch 17/50\n",
      "4/4 [==============================] - 0s 16ms/step - loss: 1.9482 - accuracy: 0.5670\n",
      "Epoch 18/50\n",
      "4/4 [==============================] - 0s 15ms/step - loss: 1.9688 - accuracy: 0.5361\n",
      "Epoch 19/50\n",
      "4/4 [==============================] - 0s 16ms/step - loss: 0.8839 - accuracy: 0.6340\n",
      "Epoch 20/50\n",
      "4/4 [==============================] - 0s 18ms/step - loss: 1.1778 - accuracy: 0.5670\n",
      "Epoch 21/50\n",
      "4/4 [==============================] - 0s 19ms/step - loss: 0.6510 - accuracy: 0.6546\n",
      "Epoch 22/50\n",
      "4/4 [==============================] - 0s 17ms/step - loss: 1.3947 - accuracy: 0.5670\n",
      "Epoch 23/50\n",
      "4/4 [==============================] - 0s 16ms/step - loss: 1.6415 - accuracy: 0.5309\n",
      "Epoch 24/50\n",
      "4/4 [==============================] - 0s 16ms/step - loss: 1.5071 - accuracy: 0.5206\n",
      "Epoch 25/50\n",
      "4/4 [==============================] - 0s 15ms/step - loss: 1.5898 - accuracy: 0.4948\n",
      "Epoch 26/50\n",
      "4/4 [==============================] - 0s 16ms/step - loss: 1.0332 - accuracy: 0.5309\n",
      "Epoch 27/50\n",
      "4/4 [==============================] - 0s 16ms/step - loss: 1.1070 - accuracy: 0.5619\n",
      "Epoch 28/50\n",
      "4/4 [==============================] - 0s 15ms/step - loss: 1.8860 - accuracy: 0.5000\n",
      "Epoch 29/50\n",
      "4/4 [==============================] - 0s 16ms/step - loss: 2.0294 - accuracy: 0.5825\n",
      "Epoch 30/50\n",
      "4/4 [==============================] - 0s 19ms/step - loss: 2.0138 - accuracy: 0.5722\n",
      "Epoch 31/50\n",
      "4/4 [==============================] - 0s 18ms/step - loss: 0.6549 - accuracy: 0.6340\n",
      "Epoch 32/50\n",
      "4/4 [==============================] - 0s 16ms/step - loss: 0.8404 - accuracy: 0.5361\n",
      "Epoch 33/50\n",
      "4/4 [==============================] - 0s 18ms/step - loss: 1.3443 - accuracy: 0.4948\n",
      "Epoch 34/50\n",
      "4/4 [==============================] - 0s 17ms/step - loss: 0.7423 - accuracy: 0.6856\n",
      "Epoch 35/50\n",
      "4/4 [==============================] - 0s 17ms/step - loss: 0.6951 - accuracy: 0.5515\n",
      "Epoch 36/50\n",
      "4/4 [==============================] - 0s 16ms/step - loss: 0.5499 - accuracy: 0.7062\n",
      "Epoch 37/50\n",
      "4/4 [==============================] - 0s 16ms/step - loss: 0.9381 - accuracy: 0.5464\n",
      "Epoch 38/50\n",
      "4/4 [==============================] - 0s 17ms/step - loss: 1.4499 - accuracy: 0.4485\n",
      "Epoch 39/50\n",
      "4/4 [==============================] - 0s 15ms/step - loss: 0.7763 - accuracy: 0.6082\n",
      "Epoch 40/50\n",
      "4/4 [==============================] - 0s 16ms/step - loss: 0.6171 - accuracy: 0.6856\n",
      "Epoch 41/50\n",
      "4/4 [==============================] - 0s 16ms/step - loss: 1.9716 - accuracy: 0.4485\n",
      "Epoch 42/50\n",
      "4/4 [==============================] - 0s 15ms/step - loss: 0.8472 - accuracy: 0.5103\n",
      "Epoch 43/50\n",
      "4/4 [==============================] - 0s 15ms/step - loss: 0.7479 - accuracy: 0.6804\n",
      "Epoch 44/50\n",
      "4/4 [==============================] - 0s 16ms/step - loss: 0.7786 - accuracy: 0.5773\n",
      "Epoch 45/50\n",
      "4/4 [==============================] - 0s 18ms/step - loss: 1.0407 - accuracy: 0.6598\n",
      "Epoch 46/50\n",
      "4/4 [==============================] - 0s 18ms/step - loss: 0.5648 - accuracy: 0.7165\n",
      "Epoch 47/50\n",
      "4/4 [==============================] - 0s 16ms/step - loss: 1.0038 - accuracy: 0.4639\n",
      "Epoch 48/50\n",
      "4/4 [==============================] - 0s 16ms/step - loss: 0.9353 - accuracy: 0.5361\n",
      "Epoch 49/50\n",
      "4/4 [==============================] - 0s 16ms/step - loss: 0.6052 - accuracy: 0.6598\n",
      "Epoch 50/50\n",
      "4/4 [==============================] - 0s 15ms/step - loss: 0.7327 - accuracy: 0.5825\n"
     ]
    },
    {
     "data": {
      "text/plain": [
       "<keras.callbacks.History at 0x260d5754f40>"
      ]
     },
     "execution_count": 39,
     "metadata": {},
     "output_type": "execute_result"
    }
   ],
   "source": [
    "network.fit(X_train, \n",
    "            y_train, \n",
    "            epochs=50, \n",
    "            batch_size=64)"
   ]
  },
  {
   "cell_type": "markdown",
   "metadata": {},
   "source": [
    "## 8 - How does it perform with the test set? ##\n",
    "\n",
    "Print accuracy **for the test set**"
   ]
  },
  {
   "cell_type": "code",
   "execution_count": 40,
   "metadata": {},
   "outputs": [
    {
     "name": "stdout",
     "output_type": "stream",
     "text": [
      "3/3 [==============================] - 0s 3ms/step - loss: 0.6520 - accuracy: 0.6000\n"
     ]
    }
   ],
   "source": [
    "test_loss, test_acc = network.evaluate(X_test, y_test)"
   ]
  },
  {
   "cell_type": "code",
   "execution_count": 41,
   "metadata": {},
   "outputs": [
    {
     "name": "stdout",
     "output_type": "stream",
     "text": [
      "test_acc 0.6000000238418579\n"
     ]
    }
   ],
   "source": [
    "print('test_acc', test_acc)"
   ]
  },
  {
   "cell_type": "markdown",
   "metadata": {},
   "source": [
    "## 9 - Further analysis ##\n",
    "\n",
    "- 9.1. What if we modify:\n",
    "        - Optimizer\n",
    "        - Learning rate\n",
    "        - Batch size\n",
    "        - Topology\n",
    "        - Number of epochs\n",
    "        ...\n",
    "        "
   ]
  }
 ],
 "metadata": {
  "coursera": {
   "course_slug": "neural-networks-deep-learning",
   "graded_item_id": "XaIWT",
   "launcher_item_id": "zAgPl"
  },
  "kernelspec": {
   "display_name": "Python 3 (ipykernel)",
   "language": "python",
   "name": "python3"
  },
  "language_info": {
   "codemirror_mode": {
    "name": "ipython",
    "version": 3
   },
   "file_extension": ".py",
   "mimetype": "text/x-python",
   "name": "python",
   "nbconvert_exporter": "python",
   "pygments_lexer": "ipython3",
   "version": "3.10.7"
  }
 },
 "nbformat": 4,
 "nbformat_minor": 2
}
