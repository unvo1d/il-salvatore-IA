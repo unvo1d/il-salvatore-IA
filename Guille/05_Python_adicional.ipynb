{
 "cells": [
  {
   "cell_type": "markdown",
   "metadata": {},
   "source": [
    "<div style=\"font-size: 200%; font-weight: bold; color: maroon;\">Elementos adicionales de Python</div>\n"
   ]
  },
  {
   "cell_type": "markdown",
   "metadata": {},
   "source": [
    "# Iteradores\n",
    "\n",
    "\n",
    "Hemos visto que es posible iterar sobre colecciones mediante `for`. Sin embargo, en realidad nos hemos saltado un paso: la creación de un iterador. Esto es así porque Python lo genera automáticamente en la mayoría de los contextos, de forma que nos resulta transparente.\n",
    "\n",
    "A grandes rasgos un _iterador_ es un objeto de Python que se puede ejecutar repetidas veces para ir obteniendo valores sucesivos.\n",
    "* La forma de \"ejecutarlo\" es aplicarle la función `next()`; cada vez que se llama a `next(objeto_iterador)` se obtiene el siguiente elemento de la secuencia sobre la que itera.\n",
    "* Cuando ya no quedan más elementos, el iterador genera la excepción `StopIteration` (cómo podemos manejar estas excepciones -o errores- las tratamos más adelante, en el módulo 2.9)\n",
    "* Es imposible saber cómo es de larga la secuencia de un iterador; la única forma de saberlo es iterar e ir contando\n",
    "* Cuando un iterador ha terminado, ya no es posible reusarlo. En esencia los iteradores permiten _una sola pasada_ sobre una secuencia.\n",
    "\n",
    "Como se ve, un iterador está más limitado que trabajar directamente sobre una colección de Python. Sin embargo, puede ser muy eficiente y permite trabajar con secuencias muy grandes que no serían prácticas si hubiera que tenerlas completas en memoria, por eso es un tipo de objeto muy usado.\n",
    "\n",
    "Hay varias formas de crear iteradores. La más inmediata, si un objeto es _iterable_, es aplicar la función `iter` sobre él. Las colecciones de Python son todas iterables."
   ]
  },
  {
   "cell_type": "code",
   "execution_count": 1,
   "metadata": {},
   "outputs": [],
   "source": [
    "l0 = [ 1, 2, 3 ]\n",
    "\n",
    "i0 = iter(l0)"
   ]
  },
  {
   "cell_type": "code",
   "execution_count": 2,
   "metadata": {},
   "outputs": [
    {
     "data": {
      "text/plain": [
       "1"
      ]
     },
     "execution_count": 2,
     "metadata": {},
     "output_type": "execute_result"
    }
   ],
   "source": [
    "next(i0)"
   ]
  },
  {
   "cell_type": "markdown",
   "metadata": {},
   "source": [
    "Los iteradores se pueden usar en las construcciones de Python que recorren una secuencia, por ejemplo con **`for`**\n",
    "\n",
    "De hecho, `for` lo que hace internamente cuando se le da una operación es crear un iterador, aplicar `next()` sobre él, y detener el bucle cuando salta la excepción `StopIteration`"
   ]
  },
  {
   "cell_type": "code",
   "execution_count": 3,
   "metadata": {},
   "outputs": [
    {
     "name": "stdout",
     "output_type": "stream",
     "text": [
      "<class 'list'>\n",
      "<class 'list_iterator'>\n"
     ]
    }
   ],
   "source": [
    "# Creamos una lista de 10 elementos\n",
    "l1 = list( range(10) )\n",
    "print( type(l1) )  # l1 es \"list\"\n",
    "\n",
    "# Y un iterador sobre esa lista\n",
    "i1 = iter(l1)\n",
    "print( type(i1) )  # i1 es \"iterator\" para listas"
   ]
  },
  {
   "cell_type": "code",
   "execution_count": 4,
   "metadata": {},
   "outputs": [
    {
     "name": "stdout",
     "output_type": "stream",
     "text": [
      "Colección:0 1 2 3 4 5 6 7 8 9 \n",
      "Iterador: 0 1 2 3 4 5 6 7 8 9 "
     ]
    }
   ],
   "source": [
    "# Iteramos directamente sobre la lista: Python crea por debajo un iterador sobre la lista e itera sobre él\n",
    "print( \"Colección:\", end='')\n",
    "for n in l1:\n",
    "    print( n, end=' ')\n",
    "\n",
    "# Iteramos usando el iterador. Esto sólo lo podemos hacer una vez\n",
    "print( \"\\nIterador: \", end='')\n",
    "for n in i1:\n",
    "    print( n, end=' ')"
   ]
  },
  {
   "cell_type": "markdown",
   "metadata": {},
   "source": [
    "# Entrada/salida\n",
    "Ya hemos visto una operación de salida en Python: la función [`print`](https://docs.python.org/3/library/functions.html#print). Aunque la hemos usado para imprimir a pantalla (salida estándar), es más general, permitiendo escribir a otros destinos.\n",
    "\n",
    "De forma abstracta, Python define los \"destinos tipo fichero\" (_file-like objects_), que son simplemente objetos de Python que implementan unos métodos de lectura (`read`) y/o escritura (`write`). Muchas construcciones de Python admiten objetos tipo fichero, lo que permite generalizar operaciones.\n",
    "\n",
    "Hay varias clases/operadores de E/S en Python. Nosotros vamos a usar las contenidas en el paquete [`io`](https://docs.python.org/2/library/io.html), que es compatible con Python 2 y Python 3"
   ]
  },
  {
   "cell_type": "code",
   "execution_count": 4,
   "metadata": {},
   "outputs": [
    {
     "name": "stdout",
     "output_type": "stream",
     "text": [
      "En un lugar de la Mancha, de cuyo nombre no quiero acordarme, no ha mucho\n",
      "\n"
     ]
    }
   ],
   "source": [
    "# Importa el paquete\n",
    "import io\n",
    "\n",
    "# Abre para lectura (r) un fichero de texto (t). \n",
    "# (en realidad este es el modo por defecto)\n",
    "file = io.open( 'Q.txt', 'rt', encoding='utf-8')\n",
    "\n",
    "# Lee una línea\n",
    "line = file.readline()\n",
    "print(line)\n",
    "\n",
    "# Cierra el fichero\n",
    "file.close()"
   ]
  },
  {
   "cell_type": "markdown",
   "metadata": {},
   "source": [
    "Una característica interesante de los objetos _fichero_ es que implementan un _iterador_ sobre sus contenidos. Cada iteración produce una línea"
   ]
  },
  {
   "cell_type": "code",
   "execution_count": 6,
   "metadata": {
    "scrolled": true
   },
   "outputs": [
    {
     "name": "stdout",
     "output_type": "stream",
     "text": [
      "En un lugar de la Mancha, de cuyo nombre no quiero acordarme, no ha mucho\n",
      "tiempo que vivía un hidalgo de los de lanza en astillero, adarga antigua,\n",
      "rocín flaco y galgo corredor. Una olla de algo más vaca que carnero,\n",
      "salpicón las más noches, duelos y quebrantos los sábados, lantejas los\n",
      "viernes, algún palomino de añadidura los domingos, consumían las tres\n",
      "partes de su hacienda.\n"
     ]
    }
   ],
   "source": [
    "file = io.open( 'Q.txt', 'rt')\n",
    "for line in file:\n",
    "    print(line, end = '')\n",
    "file.close()"
   ]
  },
  {
   "cell_type": "markdown",
   "metadata": {},
   "source": [
    "Introducimos aquí el parámetro end en la función print que para que funcione correctamente requiere que print sea una función como en python 3.\n",
    "\n",
    "Veamos qué sucede si introducimos una línea -adicional- al final de cada línea."
   ]
  },
  {
   "cell_type": "code",
   "execution_count": 7,
   "metadata": {
    "scrolled": true
   },
   "outputs": [
    {
     "name": "stdout",
     "output_type": "stream",
     "text": [
      "En un lugar de la Mancha, de cuyo nombre no quiero acordarme, no ha mucho\n",
      "\n",
      "tiempo que vivía un hidalgo de los de lanza en astillero, adarga antigua,\n",
      "\n",
      "rocín flaco y galgo corredor. Una olla de algo más vaca que carnero,\n",
      "\n",
      "salpicón las más noches, duelos y quebrantos los sábados, lantejas los\n",
      "\n",
      "viernes, algún palomino de añadidura los domingos, consumían las tres\n",
      "\n",
      "partes de su hacienda.\n",
      "\n"
     ]
    }
   ],
   "source": [
    "file = io.open( 'Q.txt', 'rt')\n",
    "for line in file:\n",
    "    print(line, end = '\\n')\n",
    "file.close()"
   ]
  },
  {
   "cell_type": "markdown",
   "metadata": {},
   "source": [
    "# Listas por desglose\n",
    "\n",
    "Python tiene expresiones especiales que permiten crear colecciones (listas, pero también diccionarios o sets) a partir de expresiones sobre un iterador (_list comprehensions_). Una traducción aproximada sería \"listas por desglose\""
   ]
  },
  {
   "cell_type": "code",
   "execution_count": 8,
   "metadata": {},
   "outputs": [],
   "source": [
    "# La función range() en Python crea una secuencia de números\n",
    "# OJO OJO OJO se utilizan paréntesis **NO** porque creemos una tupla, sino porque \n",
    "# le pasamos los parámetros a la función range\n",
    "secuencia = range(1,10)\n",
    "\n",
    "cuadrados1 = [ x*x for x in secuencia ]"
   ]
  },
  {
   "cell_type": "code",
   "execution_count": 9,
   "metadata": {},
   "outputs": [
    {
     "data": {
      "text/plain": [
       "[1, 4, 9, 16, 25, 36, 49, 64, 81]"
      ]
     },
     "execution_count": 9,
     "metadata": {},
     "output_type": "execute_result"
    }
   ],
   "source": [
    "cuadrados1"
   ]
  },
  {
   "cell_type": "code",
   "execution_count": 10,
   "metadata": {},
   "outputs": [
    {
     "name": "stdout",
     "output_type": "stream",
     "text": [
      "[1, 4, 9, 16, 25, 36, 49, 64, 81]\n",
      "[1, 4, 9, 16, 25, 36, 49, 64, 81]\n"
     ]
    }
   ],
   "source": [
    "# Lo mismo, pero con un bucle explícito\n",
    "# En primer luga creamos una lista **vacía**\n",
    "cuadrados2 = []\n",
    "for n in range(1,10):\n",
    "    cuadrados2.append( n*n ) #aquí añadimos el resultado a la lista creada antes\n",
    "    \n",
    "print( cuadrados1, cuadrados2, sep=\"\\n\")"
   ]
  },
  {
   "cell_type": "markdown",
   "metadata": {},
   "source": [
    "Al igual que desglosar en listas también es posible desglosar en diccionarios o sets"
   ]
  },
  {
   "cell_type": "code",
   "execution_count": 11,
   "metadata": {},
   "outputs": [
    {
     "name": "stdout",
     "output_type": "stream",
     "text": [
      "{1: 1, 2: 4, 3: 9, 4: 16, 5: 25, 6: 36, 7: 49, 8: 64, 9: 81}\n"
     ]
    }
   ],
   "source": [
    "# Dict comprehension\n",
    "cuadrados = { x : x*x for x in secuencia }\n",
    "\n",
    "print( cuadrados )"
   ]
  },
  {
   "cell_type": "code",
   "execution_count": 12,
   "metadata": {},
   "outputs": [
    {
     "name": "stdout",
     "output_type": "stream",
     "text": [
      "{64, 1, 4, 36, 9, 16, 49, 81, 25}\n"
     ]
    }
   ],
   "source": [
    "# Set comprehension\n",
    "cuadrados = { x*x for x in secuencia }\n",
    "print( cuadrados )"
   ]
  },
  {
   "cell_type": "markdown",
   "metadata": {},
   "source": [
    "IMPORTANTE: Fijaos que al crear un conjunto (set) la colección es DESORDENADA, esta es una característica importante de los set"
   ]
  },
  {
   "cell_type": "markdown",
   "metadata": {},
   "source": [
    "## Condiciones\n",
    "Finalmente, en una _list comprehension_ es posible añadir una condición, en cuyo caso sólo se incluyen en la lista los términos de la iteración que la cumplan"
   ]
  },
  {
   "cell_type": "code",
   "execution_count": 13,
   "metadata": {},
   "outputs": [
    {
     "name": "stdout",
     "output_type": "stream",
     "text": [
      "[4, 16, 36, 64]\n"
     ]
    }
   ],
   "source": [
    "secuencia = range(1, 10)\n",
    "\n",
    "cuadrados_pares = [ x*x for x in secuencia if x % 2 == 0 ]\n",
    "\n",
    "print( cuadrados_pares )"
   ]
  },
  {
   "cell_type": "markdown",
   "metadata": {},
   "source": [
    "## Otras construcciones: Gestores de contexto (la función 'with')\n",
    "Para terminar la vista de Python, comentamos en esta sección algunas construcciones más del lenguaje que, aunque más especializadas, pero sobre todo porque aparecen en determinados contextos de aplicación, conviene conocerlas.\n",
    "\n",
    "En general para este curso **no es estrictamente necesario saber usarlas**, porque lo que ofrecen se puede resolver de otras formas. Pero sí es bueno saber reconocerlas cuando aparezcan.\n"
   ]
  },
  {
   "cell_type": "markdown",
   "metadata": {},
   "source": [
    "La instrucción `with` opera sobre un elemento capaz de producir un [_gestor de contexto_](https://en.wikibooks.org/wiki/Python_Programming/Context_Managers) (_Context Manager_). Esto es un objeto que _adquiere_ un recurso al entrar en el bloque `with`, y lo _libera_ automáticamente al salir.\n",
    "\n",
    "No vamos a verlo en detalle ya que es una construcción especializada, pero sí veremos un ejemplo, en el que el recurso es un fichero:"
   ]
  },
  {
   "cell_type": "code",
   "execution_count": 14,
   "metadata": {},
   "outputs": [
    {
     "name": "stdout",
     "output_type": "stream",
     "text": [
      "En un lugar de la Mancha, de cuyo nombre no quiero acordarme, no ha mucho\n",
      "tiempo que vivía un hidalgo de los de lanza en astillero, adarga antigua,\n",
      "rocín flaco y galgo corredor. Una olla de algo más vaca que carnero,\n",
      "salpicón las más noches, duelos y quebrantos los sábados, lantejas los\n",
      "viernes, algún palomino de añadidura los domingos, consumían las tres\n",
      "partes de su hacienda.\n"
     ]
    }
   ],
   "source": [
    "import io\n",
    "with io.open( 'Q.txt', 'r', encoding='utf-8') as file:\n",
    "    for line in file:\n",
    "        print(line, end='')"
   ]
  },
  {
   "cell_type": "markdown",
   "metadata": {},
   "source": [
    "Lo que se consigue con este objeto de contexto aplicado a un fichero es que el fichero se cierre automáticamente al salir del contexto"
   ]
  }
 ],
 "metadata": {
  "kernelspec": {
   "display_name": "Python 3 (ipykernel)",
   "language": "python",
   "name": "python3"
  },
  "language_info": {
   "codemirror_mode": {
    "name": "ipython",
    "version": 3
   },
   "file_extension": ".py",
   "mimetype": "text/x-python",
   "name": "python",
   "nbconvert_exporter": "python",
   "pygments_lexer": "ipython3",
   "version": "3.10.7"
  }
 },
 "nbformat": 4,
 "nbformat_minor": 2
}
