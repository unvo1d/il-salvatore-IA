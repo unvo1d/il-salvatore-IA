{
 "cells": [
  {
   "cell_type": "markdown",
   "metadata": {},
   "source": [
    "<div style=\"font-size: 200%; font-weight: bold; color: maroon;\">Chuletas -cheatsheets- Python 3</div>\n"
   ]
  },
  {
   "cell_type": "markdown",
   "metadata": {},
   "source": [
    "# Enlaces recomendados\n",
    "\n",
    "para consultar en web, con buenos ejemplos (no imprimible, demasiado larga):\n",
    "https://www.pythoncheatsheet.org/\n",
    "\n",
    "Muy completa, en pdf, pero también muy larga:\n",
    "https://github.com/ehmatthes/pcc/releases/download/v1.0.0/beginners_python_cheat_sheet_pcc_all.pdf"
   ]
  },
  {
   "cell_type": "markdown",
   "metadata": {},
   "source": [
    "# Métodos asociados a objetos de colecciones\n",
    "\n",
    "Los métodos asociados a colecciones (tuplas, listas, diccionarios) son diferentes y a continuación exponemos los más frecuentes.\n"
   ]
  },
  {
   "cell_type": "markdown",
   "metadata": {},
   "source": [
    "## Common  List  Methods\n",
    "\n",
    "|L.method()|Result/Returns|\n",
    "|----------|--------------|\n",
    "|append(obj)|Append  obj to  end  of  L|\n",
    "|count(obj)|Returns  int  nbr  of  occurrences  of  obj in  L|\n",
    "|index(obj)|Returns  index  of  first  occurrence of  obj in L; raises  ValueError  if  obj  not  in  L|\n",
    "|pop([index])|Returns  item  at  specified  index or  item  at  end  of  L  if  index not  given;  raises  IndexError  if  L is  empty  or  index is  out  of  range|\n",
    "|remove(obj)|Removes  first  occurrence  of  obj from  L;  raisesValueError if  obj is  not  in  L|\n",
    "|reverse()|Reverses  L in  place|\n",
    "|sort()|Sorts  L in  place|"
   ]
  },
  {
   "cell_type": "markdown",
   "metadata": {},
   "source": [
    "## Common Tuple  Methods\n",
    "\n",
    "|T.method()|Returns|\n",
    "|----------|-------|\n",
    "|count(obj)|Returns  nbr  of  occurrences  of  obj in  T|\n",
    "|index(obj)|Returns  index  of  first  occurrence of  obj inT; raises  ValueError  if  obj is  not  in  T|"
   ]
  },
  {
   "cell_type": "markdown",
   "metadata": {},
   "source": [
    "## Common  Dictionary  Methods\n",
    "\n",
    "|T.method()|Result/Returns|\n",
    "|----------|--------------|\n",
    "|clear()|Remove  all  items  from  D|\n",
    "|get(k[,val])|Return  D[k]  if  k in  D,  else  val |\n",
    "|has_key(k)|Return  True  if k in D,  else  False |\n",
    "|items()|Return  list  of  key-value  pairs  in  D; each  list  item  is  2-item  tuple |\n",
    "|keys()|Return  list  of D͛ keys|\n",
    "|pop(k,  [val])| Remove  key  k,  return  mapped value  or  val if  k not  in  D|\n",
    "|values()|Return  list  of  D͛  values|"
   ]
  }
 ],
 "metadata": {
  "kernelspec": {
   "display_name": "Python 3",
   "language": "python",
   "name": "python3"
  },
  "language_info": {
   "codemirror_mode": {
    "name": "ipython",
    "version": 3
   },
   "file_extension": ".py",
   "mimetype": "text/x-python",
   "name": "python",
   "nbconvert_exporter": "python",
   "pygments_lexer": "ipython3",
   "version": "3.8.8"
  }
 },
 "nbformat": 4,
 "nbformat_minor": 2
}
