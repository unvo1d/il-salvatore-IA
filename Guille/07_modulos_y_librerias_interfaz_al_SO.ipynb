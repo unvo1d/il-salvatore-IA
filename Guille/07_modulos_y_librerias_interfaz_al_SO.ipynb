{
 "cells": [
  {
   "cell_type": "markdown",
   "metadata": {},
   "source": [
    "<div style=\"font-size: 200%; font-weight: bold; color: maroon;\">Paquetes y librerías. Interfaz al S.O.</div>\n"
   ]
  },
  {
   "cell_type": "markdown",
   "metadata": {},
   "source": [
    "## Enlaces recomendados\n",
    "\n",
    "Interfaz al Sistema Operativo (SO) https://docs.python.org/3/tutorial/stdlib.html\n",
    "\n",
    "File and directory access https://docs.python.org/3/library/filesys.html\n",
    "\n",
    "Operaciones con archivos https://python-para-impacientes.blogspot.com/2014/02/operaciones-con-archivos.html\n",
    "\n",
    "Métodos de Python para ficheros, buenos ejemplos https://www.programiz.com/python-programming/file-operation\n",
    "\n",
    "https://python-para-impacientes.blogspot.com/2015/09/explorando-directorios-con-listdir-walk.html\n"
   ]
  },
  {
   "cell_type": "code",
   "execution_count": null,
   "metadata": {},
   "outputs": [],
   "source": [
    "import os\n",
    "import shutil\n",
    "import glob\n",
    "import sys\n"
   ]
  },
  {
   "cell_type": "markdown",
   "metadata": {},
   "source": [
    "# Métodos de librería os\n",
    "\n",
    "La librería estándar os incopora muchas funciones de acceso al SO (ficheros, rutas, lanzar comandos en shell...).\n",
    "\n",
    "Algunas de ellas directamente por ejemplo operaciones sobre directorios (carpetas):\n"
   ]
  },
  {
   "cell_type": "code",
   "execution_count": null,
   "metadata": {},
   "outputs": [],
   "source": [
    "os.getcwd()      # Return the current working directory\n"
   ]
  },
  {
   "cell_type": "code",
   "execution_count": null,
   "metadata": {},
   "outputs": [],
   "source": [
    "os.chdir('C:\\\\Users\\\\Vuestro_usuario\\\\Downloads')   # Change current working directory\n",
    "                                    # Ojo a vuestro SO!!!\n"
   ]
  },
  {
   "cell_type": "code",
   "execution_count": null,
   "metadata": {},
   "outputs": [],
   "source": [
    "os.system('mkdir today')   # Run the command mkdir in the system shell\n"
   ]
  },
  {
   "cell_type": "code",
   "execution_count": null,
   "metadata": {},
   "outputs": [],
   "source": [
    "os.chdir('/home/pedro/Descargas/today')\n"
   ]
  },
  {
   "cell_type": "markdown",
   "metadata": {},
   "source": [
    "Como la clase os tiene un montonazo de métodos, es interesante contar con una ayuda. Ojo **no confundir con el comando dir del S.O. Windows**\n"
   ]
  },
  {
   "cell_type": "code",
   "execution_count": null,
   "metadata": {},
   "outputs": [],
   "source": [
    "dir(os)"
   ]
  },
  {
   "cell_type": "markdown",
   "metadata": {},
   "source": [
    "Y luego con help podemos encontrar la ayuda específica para un método concreto. Por ejemplo para dar el listado de un directorio:"
   ]
  },
  {
   "cell_type": "code",
   "execution_count": null,
   "metadata": {
    "scrolled": true
   },
   "outputs": [],
   "source": [
    "help(os.listdir)"
   ]
  },
  {
   "cell_type": "code",
   "execution_count": null,
   "metadata": {},
   "outputs": [],
   "source": [
    "help(os.system)"
   ]
  },
  {
   "cell_type": "markdown",
   "metadata": {},
   "source": [
    "Para quien quiera utilizar directamente los comandos de su S.O. (ojo que son diferentes en Windows, Mac o Linux; **hay que conocerlos**) se puede utilizar el método os.system(). Por ejemplo:"
   ]
  },
  {
   "cell_type": "code",
   "execution_count": null,
   "metadata": {},
   "outputs": [],
   "source": [
    "os.chdir('C:\\\\Users\\\\Vuestro_usuario\\\\Downloads')\n",
    "print(os.system('ls'))\n",
    "type(os.system('ls'))"
   ]
  },
  {
   "cell_type": "markdown",
   "metadata": {},
   "source": [
    "Lo que sucede es que la salida aparece en la ventana de jupyter !!\n",
    "Debemos entonces implementarlo de otra manera:"
   ]
  },
  {
   "cell_type": "code",
   "execution_count": null,
   "metadata": {},
   "outputs": [],
   "source": [
    "os.listdir('/home/pedro/Escritorio/UTAD/python')"
   ]
  },
  {
   "cell_type": "markdown",
   "metadata": {},
   "source": [
    "# Módulo shutil\n",
    "\n",
    "Para el uso convencional de ficheros y directorios, las utilidades shutils proporciona una interfaz de alto nivel que es más fácil de usar:\n"
   ]
  },
  {
   "cell_type": "code",
   "execution_count": null,
   "metadata": {},
   "outputs": [],
   "source": [
    "shutil.copyfile('Q.txt', 'Q4.txt')\n"
   ]
  },
  {
   "cell_type": "code",
   "execution_count": null,
   "metadata": {
    "scrolled": true
   },
   "outputs": [],
   "source": [
    "os.listdir('/home/pedro/Escritorio/UTAD/python')"
   ]
  },
  {
   "cell_type": "code",
   "execution_count": null,
   "metadata": {},
   "outputs": [],
   "source": [
    "os.listdir(os.getcwd())"
   ]
  },
  {
   "cell_type": "markdown",
   "metadata": {},
   "source": [
    "Muy interesante el método shutil.copytree\n",
    "\n",
    "Y ¡muy peligroso! el método shutil.rmtree"
   ]
  },
  {
   "cell_type": "code",
   "execution_count": null,
   "metadata": {},
   "outputs": [],
   "source": [
    "shutil.copytree('/home/pedro/Escritorio/UTAD/python', '/home/pedro/Descargas/python_borrar_2')"
   ]
  },
  {
   "cell_type": "code",
   "execution_count": null,
   "metadata": {
    "scrolled": true
   },
   "outputs": [],
   "source": [
    "os.listdir('/home/pedro/Descargas/python_borrar_2')"
   ]
  },
  {
   "cell_type": "markdown",
   "metadata": {},
   "source": [
    "## Uso de 'wildcards' -tipo expresiones regulares- para búsquedas en directorios con glob\n",
    "\n",
    "El módulo glob proporciona una función interesante para hacer búsquedas utilizando \"wildcards\" (expresiones regulares **simplificadas** aplicadas a nombres de ficheros):\n"
   ]
  },
  {
   "cell_type": "code",
   "execution_count": null,
   "metadata": {},
   "outputs": [],
   "source": [
    "glob.glob('*.txt')"
   ]
  },
  {
   "cell_type": "code",
   "execution_count": null,
   "metadata": {},
   "outputs": [],
   "source": [
    "glob.glob('*.ipynb')"
   ]
  },
  {
   "cell_type": "code",
   "execution_count": null,
   "metadata": {},
   "outputs": [],
   "source": [
    "glob.glob('Control_*')"
   ]
  },
  {
   "cell_type": "code",
   "execution_count": null,
   "metadata": {},
   "outputs": [],
   "source": [
    "glob.glob('Control_?_python_basico_para_alumnos.*')"
   ]
  }
 ],
 "metadata": {
  "kernelspec": {
   "display_name": "Python 3",
   "language": "python",
   "name": "python3"
  },
  "language_info": {
   "codemirror_mode": {
    "name": "ipython",
    "version": 3
   },
   "file_extension": ".py",
   "mimetype": "text/x-python",
   "name": "python",
   "nbconvert_exporter": "python",
   "pygments_lexer": "ipython3",
   "version": "3.8.8"
  }
 },
 "nbformat": 4,
 "nbformat_minor": 2
}
