{
 "cells": [
  {
   "cell_type": "markdown",
   "metadata": {},
   "source": [
    "<div style=\"font-size: 200%; font-weight: bold; color: maroon;\">Expresiones regulares</div>\n"
   ]
  },
  {
   "cell_type": "markdown",
   "metadata": {},
   "source": [
    "## Enlaces recomendados\n",
    "\n",
    "Expresiones Regulares Google Python Class : https://developers.google.com/edu/python/regular-expressions \n",
    "\n",
    "Documentación oficial python (ojo, largo, complicado): https://docs.python.org/3/library/re.html\n",
    "\n",
    "Online 'regex' tester and debugger: https://regex101.com/ \n",
    "\n",
    "https://relopezbriega.github.io/blog/2015/07/19/expresiones-regulares-con-python/ "
   ]
  },
  {
   "cell_type": "markdown",
   "metadata": {},
   "source": [
    "## Importamos librerías\n",
    "\n",
    "Ya hemos dicho en ocasiones anteriores que la convención -y es muy importante- es cargar (con import) las librerías, y dentro de ellas las funciones, que se van a usar en **toda** la sesión al principio del código.\n",
    "\n",
    "Como ya hemos hecho tantas veces, es importante importar la función 'print' de python3 para que todo el uso de funciones de python sea similar.\n",
    "\n",
    "Para manejar expresiones regulares en python es imprescible importar la funcionalidad en librería \"re\"."
   ]
  },
  {
   "cell_type": "code",
   "execution_count": null,
   "metadata": {},
   "outputs": [],
   "source": [
    "import re\n",
    "import io  # lo usamos al final del tema"
   ]
  },
  {
   "cell_type": "markdown",
   "metadata": {},
   "source": [
    "# Qué son las expresiones regulares (o regex)\n",
    "\n",
    "Es una forma de encontrar regularidades en cadenas de texto que nos permitan encontrar cuáles de entre un conjunto de cadenas coinciden con lo que estamos buscando (\"matching text patterns\").\n",
    "\n",
    "En python una expresión regular para buscar un patrón dentro de una cadena de texto se escribe así:\n",
    "\n",
    "  match = re.search(pat, str)\n",
    "\n",
    "Donde pat es el patrón que queremos buscar y str la cadena (o string). Si la búsqueda tiene éxito la función search() devuelve el objeto que cumple el patrón. Si no, devuelve None.\n",
    "\n",
    "Por tanto una forma de hacer búsquedas con expresiones regulares y re es con un procedimiento if, como en el siguiente ejemplo, con el que se trata de buscar la palabra 'word' seguida por 3 caracteres adicionales en una cadena predefinida.\n",
    "\n",
    "De momento ignorad cómo está construido el patrón que se busca, es lo más extraño de todo este tema, se trata de que veáis la funcionalidad de búsqueda con ER y luego entramos en cómo construir el patrón.\n",
    "\n",
    "También notad cómo en el patrón que le proporcionamos a re.search se utiliza r antes de la cadena. Esto es así, recordad, porque la cadena que pasamos tiene caracteres especiales (la '\\').\n"
   ]
  },
  {
   "cell_type": "code",
   "execution_count": null,
   "metadata": {},
   "outputs": [],
   "source": [
    "str = 'an example word:cat!!'\n",
    "match = re.search(r'word:\\w\\w\\w', str)\n",
    "# If-statement after search() tests if it succeeded\n",
    "if match:\n",
    "    print('found', match.group()) ## 'found word:cat'\n",
    "else:\n",
    "    print( 'did not find' )\n"
   ]
  },
  {
   "cell_type": "markdown",
   "metadata": {},
   "source": [
    "En cambio si la palabra 'word' no está seguida por tres caracteres adicionales, **sin** espacios, no encontrará el patrón de re.search()."
   ]
  },
  {
   "cell_type": "code",
   "execution_count": null,
   "metadata": {},
   "outputs": [],
   "source": [
    "str = 'an example word : cat!!'\n",
    "match = re.search(r'word:\\w\\w\\w', str)\n",
    "# If-statement after search() tests if it succeeded\n",
    "if match:\n",
    "    print('found', match.group()) ## 'found word:cat'\n",
    "else:\n",
    "    print( 'did not find' )\n"
   ]
  },
  {
   "cell_type": "markdown",
   "metadata": {},
   "source": [
    "Por tanto las expresiones regulares están diseñadas para encontrar **patrones complejos** en cadenas de texto, y por eso tienen tanta expresividad. Lo malo es que parece que se han quedado ancladas en tiempos pretéritos de la informática y es inevitable conocer la ciertamente extraña sintaxis con la que se pueden componer estos patrones.\n",
    "\n",
    "Siempre podemos acudir a la documentación oficial de Python 2.7, y de hecho es lo que todos recomendamos, pero es también imprescindible proporcionar un conocimiento básico de cómo componer patrones."
   ]
  },
  {
   "cell_type": "markdown",
   "metadata": {},
   "source": [
    "# 1 Patrones simples\n",
    "\n",
    "a-z, A-Z, 0-9  todos los caracteres básicos se buscan y equiparan por sí mismos. **ATENCIÓN Python distingue siempre entre mayúsculas y minúsculas**. Ojo que este conjunto no incluye ningún carácter de puntuación u ortográfico.\n",
    "\n",
    "Los siguientes caracteres son **metacaracteres** y tienen significado especial (se muestra el carácter entre comillas y el significado después del signo \"):\n",
    "\n",
    "'.' = cualquier carácter excepto línea nueva ('\\r')\n",
    "\n",
    "'^' = los caracteres aparecen al principio de la cadena\n",
    "\n",
    "'$' = los caracteres aparecen al final de la cadena\n",
    "\n",
    "'+' = el carácter que antecede aparece 1 o más veces \n",
    "\n",
    "'*' = el carácter que antecede aparece 0 o más veces\n",
    "\n",
    "'?' = el carácter que antecede aparece 0 o exactamente 1 vez \n",
    "\n",
    "El carácter más especial de todos es el 'backslash' ('\\'). Este carácter es conocido como 'scape character' e indica que lo que aparece a continuación es un carácter normal y no especial, además de otros significados que vamos a ver a continuación. Si no estamos seguros de si un carácter es especial o no (por ejemplo, '@' o '#' siempre podemos usar el '\\' **antes** para que la búsqueda sea literal. Ojo, solo de ese carácter.\n",
    "\n",
    "\n",
    "Ojo que es un subconjunto de todas las posibilidades que se pueden encontrar en la documentación oficial:\n",
    "\n",
    "https://docs.python.org/2.7/library/re.html \n",
    "\n",
    "'\\w' = w en minúsculas: equipara un carácter (letra, o dígito o '_'). **NO confundir con buscar una palabra completa**.\n",
    "\n",
    "'\\b' = límites entre palabra y no-palabra.\n",
    "\n",
    "'\\s' = equipara un carácter en blanco: espacio (' '), nueva línea ('\\n'), retorno de carro ('\\r'), tabulador ('\\t'), form ('\\f'). \n",
    "\n",
    "'\\S' = S mayúscula. equipara carácter **no en blanco**.\n",
    "\n",
    "'\\d' = dígito\n"
   ]
  },
  {
   "cell_type": "markdown",
   "metadata": {},
   "source": [
    "Por ejemplo, vamos a extraer la dirección de correo de una cadena compleja"
   ]
  },
  {
   "cell_type": "code",
   "execution_count": null,
   "metadata": {},
   "outputs": [],
   "source": [
    "str = 'purple alice-b@google.com monkey dishwasher'\n",
    "\n",
    "match = re.search(r'\\w+@\\w+', str)\n",
    "\n",
    "if match:\n",
    "    print(match.group())\n"
   ]
  },
  {
   "cell_type": "markdown",
   "metadata": {},
   "source": [
    "# 2 Patrones compuestos\n",
    "\n",
    "\n",
    "'[ ]' = indican conjuntos de caracteres. Por ejemplo [abc] busca las tres letras. **OJO QUE NO ES SINTAXIS DE LISTAS DE PYTHON, NO SEPARAD CON COMAS NI SIMILAR**. Ojo también que un punto ('.') dentro de corchetes es el carácter punto, *no su significado como metacarácter*.\n",
    "\n",
    "Los rangos de caracteres se pueden indicar como una secuencia con '-'. Por ejemplo [a-z] serán todas las letras **en minúsculas**. Mirad la documentación oficial para todas las posibilidades de secuencia: \n",
    "\n",
    "https://docs.python.org/2.7/library/re.html \n",
    "\n",
    "Por ejemplo [a-zA-Z0-9_] incluye todos los caracteres que se equiparán con '\\w'.\n",
    "[\\n\\r\\t\\f] son los caracteres que se equiparan con '\\s'.\n",
    "\n",
    "'|' = es el operador lógico OR, y se usa para operar de forma lógica con expresiones complejas. Por ejemplo, A|B, donde A y B pueden ser expresiones regulares, crea una expresión regular que equiparará A o B. Ojo al significado lógico de o (\"o A, o B, o ambos\")\n",
    "\n",
    "'( )' =  equipara toda expresión regular dentro del paréntesis. Se utiliza para hacer agrupaciones dentro de las expresiones regulares."
   ]
  },
  {
   "cell_type": "markdown",
   "metadata": {},
   "source": [
    "Siguiendo con el ejemplo anterior, si lo que queremos es toda la dirección de correo electrónico (incluyendo el 'alice-') podemos incluir explícitamente el carácter de puntuación así:"
   ]
  },
  {
   "cell_type": "code",
   "execution_count": null,
   "metadata": {},
   "outputs": [],
   "source": [
    "match = re.search(r'[\\w-]+@\\w+', str)\n",
    "\n",
    "if match:\n",
    "    print(match.group())\n"
   ]
  },
  {
   "cell_type": "markdown",
   "metadata": {},
   "source": [
    "# 3 Extracción de partes del resultado de búsqueda ('group extraction')\n",
    "\n",
    "\n",
    "Ya hemos visto que con el método .group de un resultado (objeto) de equiparación (match) extraemos las partes que hemos encontrado que coinciden con la especificación de la expresión regular. Esto es, la coincidencia puede ser **múltiple** (varias partes). \n",
    "\n",
    "Para separar las distintas partes de la equiparación que queremos extraer utilizamos los paréntesis. Siguiendo con nuestro ejemplo:\n"
   ]
  },
  {
   "cell_type": "code",
   "execution_count": null,
   "metadata": {},
   "outputs": [],
   "source": [
    "match = re.search(r'([\\w.-]+)@([\\w.-]+)', str)\n",
    "\n",
    "print(type(match))\n",
    "\n",
    "print(type(match.group))\n",
    "\n",
    "if match:\n",
    "    print(match.group())\n",
    "    print(match.group(1))\n",
    "    print(match.group(2))\n"
   ]
  },
  {
   "cell_type": "markdown",
   "metadata": {},
   "source": [
    "El método .match sólo devuelve **el primer elemento encontrado**."
   ]
  },
  {
   "cell_type": "markdown",
   "metadata": {},
   "source": [
    "# 4 Método .findall\n",
    "\n",
    "Con el método findall (ojo al punto delante, es un método) lo que hacemos es encontrar todas las equiparaciones y devuelve el resultado como una lista de cadenas, cada una de ellas una equiparación (match) conseguido.\n",
    "\n",
    "El método .match sólo devuelve **el primer elemento encontrado**."
   ]
  },
  {
   "cell_type": "code",
   "execution_count": null,
   "metadata": {},
   "outputs": [],
   "source": [
    "## Suppose we have a text with many email addresses\n",
    "str = 'purple alice@google.com, blah monkey bob@abc.com blah dishwasher'\n",
    "\n",
    "emails1 = re.match(r'[\\w\\.-]+@[\\w\\.-]+', str) ## ['alice@google.com', 'bob@abc.com']\n",
    "\n",
    "print(match.group())\n"
   ]
  },
  {
   "cell_type": "code",
   "execution_count": null,
   "metadata": {
    "scrolled": false
   },
   "outputs": [],
   "source": [
    "## Here re.findall() returns a list of all the found email strings\n",
    "emails2 = re.findall(r'[\\w\\.-]+@[\\w\\.-]+', str) \n",
    "for email in emails2:\n",
    "    print(email)\n",
    "    \n",
    "print(emails2)\n",
    "\n",
    "print(type(emails2))"
   ]
  },
  {
   "cell_type": "markdown",
   "metadata": {},
   "source": [
    "# 5 Método .findall con ficheros\n",
    "\n",
    "Si combinamos el método findall con la funcionalidad de ficheros que hemos visto en tema anterior, tenemos una herramienta potente para buscar patrones de texto dentro de ficheros. \n",
    "\n",
    "Por ejemplo para buscar los artículos en plural ('los', 'las') presentes en el texto que manejábamos:"
   ]
  },
  {
   "cell_type": "code",
   "execution_count": null,
   "metadata": {},
   "outputs": [],
   "source": [
    "file = io.open( 'Q.txt', 'rt', encoding='utf-8')\n",
    "\n",
    "# Feed the file text into findall(); it returns a list of all the found strings\n",
    "\n",
    "strings = re.findall(r'(l[oa]s)', file.read())\n",
    "\n",
    "print(strings)"
   ]
  },
  {
   "cell_type": "markdown",
   "metadata": {},
   "source": [
    "# 6 Sustituir el texto en las equipaciones encontradas\n",
    "\n",
    "Además de buscar coincidencias de nuestro patrón de búsqueda en un texto, podemos utilizar ese mismo patrón para realizar modificaciones al texto de entrada. Para estos casos podemos utilizar los siguientes métodos:\n",
    "\n",
    "split(): El cual divide el texto en una lista, realizando las divisiones del texto en cada lugar donde se cumple con la expresion regular.\n",
    "\n",
    "sub(): El cual encuentra todos los subtextos donde existe una coincidencia con la expresion regular y luego los reemplaza con un nuevo texto.\n",
    "\n",
    "subn(): El cual es similar al anterior pero además de devolver el nuevo texto, también devuelve el numero de reemplazos que realizó.\n",
    "\n",
    "En la página oficial de python encontramos la sintaxis básica de sub() -el que se usa más frecuentemente:\n",
    "\n",
    " re.sub(pattern, repl, string, count=0, flags=0)¶\n",
    " \n",
    "Donde pattern es el patrón (expresión regular) que estás buscando, repl. el reemplazo, string es la cadena objetivo donde lo vas a hacer y count y flags son **opcionales** y los veremos después.\n",
    "\n",
    "Si se encuentra el patrón se realizará el cambio y si no la cadena objetivo se dejará tal cual estaba.\n",
    "\n",
    "count es el número máximo de veces que se realizará el cambio, debe ser un entero mayor que 0, y si no se pone nada o si se pone 0 se sustituyen todas las ocurrencias del patrón.\n",
    "\n",
    "flags es otro parámetro opcional y solo señalaremos una opción que puede ser muy interesante:\n",
    "\n",
    "flags=re.IGNORECASE\n",
    "\n",
    "Esta función es muy socorrida para limpiar cadenas de caracteres que contienen algunos que no nos interesan. Y esto es una necesidad muy habitual en mensajes de twitter (tuits). Por ejemplo a partir de un perfil (que sinceramente recomiendo por la calidad de sus visualizaiones):\n",
    "\n",
    "https://twitter.com/aschinchon\n",
    "\n",
    "https://twitter.com/aschinchon/status/1235686823344644097\n",
    "\n",
    "\n"
   ]
  },
  {
   "cell_type": "code",
   "execution_count": null,
   "metadata": {},
   "outputs": [],
   "source": [
    "tuit = u'''Antonio S. Chinchón @aschinchon \n",
    "What I most like of experiments is to release parameters and to introduce randomness. \n",
    "Then I press run, wait a while and ...\n",
    "\n",
    "#rstats #generativeart #maths'''\n",
    "\n",
    "print(tuit)"
   ]
  },
  {
   "cell_type": "markdown",
   "metadata": {},
   "source": [
    "Aquí podemos encontrar unas funciones y expresiones regulares muy útiles para limpiar tuits:\n",
    "\n",
    "https://www.machinelearningplus.com/python/python-regex-tutorial-examples/"
   ]
  },
  {
   "cell_type": "code",
   "execution_count": null,
   "metadata": {},
   "outputs": [],
   "source": [
    "def clean_tweet(tweet):\n",
    "    tweet = re.sub('http\\S+\\s*', '', tweet)  # remove URLs\n",
    "    tweet = re.sub('RT|cc', '', tweet)  # remove RT and cc\n",
    "    tweet = re.sub('#\\S+', '', tweet)  # remove hashtags\n",
    "    tweet = re.sub('@\\S+', '', tweet)  # remove mentions\n",
    "    tweet = re.sub('[%s]' % re.escape(\"\"\"!\"#$%&'()*+,-./:;<=>?@[\\]^_`{|}~\"\"\"), '', tweet)  # remove punctuations\n",
    "    tweet = re.sub('\\s+', ' ', tweet)  # remove extra whitespace\n",
    "    return tweet\n",
    "\n"
   ]
  },
  {
   "cell_type": "code",
   "execution_count": null,
   "metadata": {},
   "outputs": [],
   "source": [
    "clean_tweet(tuit)"
   ]
  },
  {
   "cell_type": "markdown",
   "metadata": {},
   "source": [
    "Otro ejemplo: google suele \"ofuscar\" los resultados de las búsquedas de tal manera que no te resulte directo copiar y pegar sus enlaces y tengas que volver a buscar.\n",
    "\n",
    "Por ejemplo:\n"
   ]
  },
  {
   "cell_type": "code",
   "execution_count": null,
   "metadata": {},
   "outputs": [],
   "source": [
    "cheatsheet = \"https%3A%2F%2Fgithub.com%2Fehmatthes%2Fpcc%2Freleases%2Fdownload%2Fv1.0.0%2Fbeginners_python_cheat_sheet_pcc_all.pdf\""
   ]
  },
  {
   "cell_type": "code",
   "execution_count": null,
   "metadata": {},
   "outputs": [],
   "source": [
    "def clean_link(link):\n",
    "    link = re.sub('%3A', ':', link)  \n",
    "    link = re.sub('%2F', '/', link)  \n",
    "    return link\n",
    "\n"
   ]
  },
  {
   "cell_type": "code",
   "execution_count": null,
   "metadata": {},
   "outputs": [],
   "source": [
    "clean_link(cheatsheet)"
   ]
  }
 ],
 "metadata": {
  "kernelspec": {
   "display_name": "Python 3",
   "language": "python",
   "name": "python3"
  },
  "language_info": {
   "codemirror_mode": {
    "name": "ipython",
    "version": 3
   },
   "file_extension": ".py",
   "mimetype": "text/x-python",
   "name": "python",
   "nbconvert_exporter": "python",
   "pygments_lexer": "ipython3",
   "version": "3.8.8"
  }
 },
 "nbformat": 4,
 "nbformat_minor": 2
}
