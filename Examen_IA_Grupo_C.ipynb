{
  "cells": [
    {
      "cell_type": "markdown",
      "source": [
        "# Examen parcial INAR 2022, Diciembre 2022\n",
        "# Parte práctica\n",
        "\n",
        "INSTRUCCIONES:\n",
        "\n",
        "Añade el código python necesario para resolver las tareas planteadas.\n",
        "\n",
        "ES ABSOLUTAMENTE IMPRESCINDIBLE QUE EL CÓDIGO FUNCIONE -SEA PERFECTAMENTE REPRODUCIBLE-. Para ello deberás incorporar todos los import necesarios, y es aconsejable ejecutarlo para verificar que hace lo que se te pide\n",
        "\n",
        "En las instrucciones PARA CADA EJERCICIO se especifica la puntuación para cada uno:\n",
        "\n",
        "- Máximo de puntos\n",
        "- Si la puntuación es TODO O NADA ó PERMITE PUNTUACIÓN PARCIAL\n"
      ],
      "metadata": {
        "id": "6833d36a"
      },
      "id": "6833d36a"
    },
    {
      "cell_type": "markdown",
      "source": [
        "## Escribe aquí tu nombre (p.ej. con un print)"
      ],
      "metadata": {
        "id": "a0bee7ed"
      },
      "id": "a0bee7ed"
    },
    {
      "cell_type": "code",
      "execution_count": null,
      "source": [
        "print(\"Pablo\")"
      ],
      "outputs": [
        {
          "output_type": "stream",
          "name": "stdout",
          "text": [
            "Pablo\n"
          ]
        }
      ],
      "metadata": {
        "colab": {
          "base_uri": "https://localhost:8080/"
        },
        "id": "f87aae79",
        "outputId": "5ca01522-6575-410e-917d-1c6a33f46647"
      },
      "id": "f87aae79"
    },
    {
      "cell_type": "markdown",
      "source": [
        "# Ejercicio 1\n",
        "\n",
        "## PUNTUACIÓN MÁXIMA 3\n",
        "## PERMITO PUNTUACIÓN PARCIAL\n",
        "\n",
        "Para hacer un proyecto de clasificación de texto con un target categórico de **3 categorías** has leído que el mejor modelo es uno **multicapa de redes \"fully connected\" -o densas, con 5 capas**  siguiendo la recomendación de que cada capa va resumiendo o consolidando el aprendizaje de las anteriores. \n",
        "\n",
        "Se trata por tanto que implementes código keras para:\n",
        "\n",
        "1. preparar el input a la red con las siguientes especificaciones:\n",
        "\n",
        "- longitud máxima del texto = 250\n",
        "- número máximo de palabras o tokens = 50000\n",
        "- y codificación multi-hot\n",
        "\n",
        "2. definir el modelo de red neuronal\n",
        "3. aprovechar las recomendaciones habituales para optimizar el aprendizaje\n",
        "4. extraer por pantalla la especificación de la red\n"
      ],
      "metadata": {
        "id": "75f85b20"
      },
      "id": "75f85b20"
    },
    {
      "cell_type": "code",
      "execution_count": 5,
      "source": [
        "import numpy as np\n",
        "import tensorflow as tf\n",
        "\n",
        "\n",
        "# Preparar el input a la red\n",
        "max_text_length = 250\n",
        "max_num_words = 50000\n",
        "\n",
        "# Codificación multi-hot con TextVectorization de TensorFlow\n",
        "text_vectorization = tf.keras.layers.TextVectorization(\n",
        "    max_tokens=max_num_words,\n",
        "    output_mode=\"multi_hot\",\n",
        ")\n",
        "\n",
        "# Definir el modelo de red neuronal\n",
        "model = tf.keras.Sequential()\n",
        "model.add(tf.keras.layers.Dense(128, input_shape=(max_text_length,), activation='relu'))\n",
        "model.add(tf.keras.layers.Dense(64, activation='relu'))\n",
        "model.add(tf.keras.layers.Dense(32, activation='relu'))\n",
        "model.add(tf.keras.layers.Dense(16, activation='relu'))\n",
        "model.add(tf.keras.layers.Dense(3, activation='softmax'))\n",
        "\n",
        "# Compilar el modelo con las recomendaciones habituales para optimizar el aprendizaje\n",
        "model.compile(optimizer='adam', loss='categorical_crossentropy', metrics=['accuracy'])\n",
        "\n",
        "# Imprimir la especificación de la red\n",
        "print(model.summary())"
      ],
      "outputs": [
        {
          "output_type": "stream",
          "name": "stdout",
          "text": [
            "Model: \"sequential_1\"\n",
            "_________________________________________________________________\n",
            " Layer (type)                Output Shape              Param #   \n",
            "=================================================================\n",
            " dense_5 (Dense)             (None, 128)               32128     \n",
            "                                                                 \n",
            " dense_6 (Dense)             (None, 64)                8256      \n",
            "                                                                 \n",
            " dense_7 (Dense)             (None, 32)                2080      \n",
            "                                                                 \n",
            " dense_8 (Dense)             (None, 16)                528       \n",
            "                                                                 \n",
            " dense_9 (Dense)             (None, 3)                 51        \n",
            "                                                                 \n",
            "=================================================================\n",
            "Total params: 43,043\n",
            "Trainable params: 43,043\n",
            "Non-trainable params: 0\n",
            "_________________________________________________________________\n",
            "None\n"
          ]
        }
      ],
      "metadata": {
        "colab": {
          "base_uri": "https://localhost:8080/"
        },
        "id": "8a316863",
        "outputId": "5bab437c-da3a-4370-d159-042668c3b721"
      },
      "id": "8a316863"
    },
    {
      "cell_type": "markdown",
      "source": [
        "# Ejercicio 2\n",
        "\n",
        "## PUNTUACIÓN MÁXIMA 2.5\n",
        "## PERMITO PUNTUACIÓN PARCIAL\n",
        "\n",
        "Se trata de que prepares un modelo de red neuronal para realizar lo que hemos visto como \"Neural Style Transfer\". Y se trata de que utilices para ello la VGG-19 con las siguientes\n",
        "\n",
        "**CAPAS PARA EL EXTRACTOR DE ESTILO**\n",
        "\n",
        "La segunda capa convolucional de cada uno de los bloques de la VGG-19\n",
        "\n",
        "**CAPA PARA EL EXTRACTOR DE CONTENIDO**\n",
        "\n",
        "La tercera capa convolucional del último bloque de la VGG-19\n",
        "\n",
        "Y una vez realizado esto, utilices alguna función estándar para averiguar la dimensionalidad del tensor de salida de esta última capa (la tercera del último bloque de VGG-19 o capa de extractor de contenido)\n"
      ],
      "metadata": {
        "id": "882acfde"
      },
      "id": "882acfde"
    },
    {
      "cell_type": "code",
      "execution_count": 6,
      "source": [
        "from tensorflow import keras\n",
        "model = keras.applications.vgg19.VGG19(weights=\"imagenet\", include_top=False)\n",
        "\n",
        "outputs_dict = dict([(layer.name, layer.output) for layer in model.layers])\n",
        "\n",
        "feature_extractor = keras.Model(inputs=model.inputs, outputs=outputs_dict)\n",
        "\n",
        "style_layer_names = [\n",
        "    \"block1_conv1\",\n",
        "    \"block2_conv1\",\n",
        "    \"block3_conv1\",\n",
        "    \"block4_conv1\",\n",
        "    \"block5_conv1\",\n",
        "]\n",
        "\n",
        "content_layer_name = \"block5_conv2\"\n",
        "model.summary()"
      ],
      "outputs": [
        {
          "output_type": "stream",
          "name": "stdout",
          "text": [
            "Model: \"vgg19\"\n",
            "_________________________________________________________________\n",
            " Layer (type)                Output Shape              Param #   \n",
            "=================================================================\n",
            " input_3 (InputLayer)        [(None, None, None, 3)]   0         \n",
            "                                                                 \n",
            " block1_conv1 (Conv2D)       (None, None, None, 64)    1792      \n",
            "                                                                 \n",
            " block1_conv2 (Conv2D)       (None, None, None, 64)    36928     \n",
            "                                                                 \n",
            " block1_pool (MaxPooling2D)  (None, None, None, 64)    0         \n",
            "                                                                 \n",
            " block2_conv1 (Conv2D)       (None, None, None, 128)   73856     \n",
            "                                                                 \n",
            " block2_conv2 (Conv2D)       (None, None, None, 128)   147584    \n",
            "                                                                 \n",
            " block2_pool (MaxPooling2D)  (None, None, None, 128)   0         \n",
            "                                                                 \n",
            " block3_conv1 (Conv2D)       (None, None, None, 256)   295168    \n",
            "                                                                 \n",
            " block3_conv2 (Conv2D)       (None, None, None, 256)   590080    \n",
            "                                                                 \n",
            " block3_conv3 (Conv2D)       (None, None, None, 256)   590080    \n",
            "                                                                 \n",
            " block3_conv4 (Conv2D)       (None, None, None, 256)   590080    \n",
            "                                                                 \n",
            " block3_pool (MaxPooling2D)  (None, None, None, 256)   0         \n",
            "                                                                 \n",
            " block4_conv1 (Conv2D)       (None, None, None, 512)   1180160   \n",
            "                                                                 \n",
            " block4_conv2 (Conv2D)       (None, None, None, 512)   2359808   \n",
            "                                                                 \n",
            " block4_conv3 (Conv2D)       (None, None, None, 512)   2359808   \n",
            "                                                                 \n",
            " block4_conv4 (Conv2D)       (None, None, None, 512)   2359808   \n",
            "                                                                 \n",
            " block4_pool (MaxPooling2D)  (None, None, None, 512)   0         \n",
            "                                                                 \n",
            " block5_conv1 (Conv2D)       (None, None, None, 512)   2359808   \n",
            "                                                                 \n",
            " block5_conv2 (Conv2D)       (None, None, None, 512)   2359808   \n",
            "                                                                 \n",
            " block5_conv3 (Conv2D)       (None, None, None, 512)   2359808   \n",
            "                                                                 \n",
            " block5_conv4 (Conv2D)       (None, None, None, 512)   2359808   \n",
            "                                                                 \n",
            " block5_pool (MaxPooling2D)  (None, None, None, 512)   0         \n",
            "                                                                 \n",
            "=================================================================\n",
            "Total params: 20,024,384\n",
            "Trainable params: 20,024,384\n",
            "Non-trainable params: 0\n",
            "_________________________________________________________________\n"
          ]
        }
      ],
      "metadata": {
        "colab": {
          "base_uri": "https://localhost:8080/"
        },
        "id": "WFdOeNffXGhA",
        "outputId": "a90c5478-c179-45b7-9f9d-1e0661c53180"
      },
      "id": "WFdOeNffXGhA"
    },
    {
      "cell_type": "markdown",
      "source": [
        "# Ejercicio 3: \n",
        "\n",
        "## PUNTUACIÓN MÁXIMA 2.5\n",
        "## TODO O NADA\n",
        "\n",
        "\n",
        "Tengo los siguientes parámetros de una neurona, en un momento concreto del entrenamiento:\n",
        "\n",
        "$$ w = \\begin{pmatrix} 0.3 \\\\ 0.9 \\\\ 0.001 \\end{pmatrix} $$\n",
        "\n",
        "$$ b = 33 $$\n",
        "\n",
        "$$ X = \\begin{pmatrix} 0.1 & 1.0 & 0.2 \\\\ 0.0 & 0.9 & 0.3 \\\\ 0.2 & 0.5 & 1.0 \\end{pmatrix} $$\n",
        "\n",
        "$$ y = \\begin{pmatrix} 0 & 0 & 1 \\end{pmatrix} $$\n",
        "\n",
        "Debes generar código y ejecutarlo que implemente el paso forward de un entrenamiento de gradient descent y muestre el resultado de los siguientes componentes:\n",
        "\n",
        "- dw (o gradiente de los pesos)\n",
        "- db (o gradiente de la bias)\n",
        "- coste\n",
        "\n"
      ],
      "metadata": {
        "id": "646c76ae"
      },
      "id": "646c76ae"
    },
    {
      "cell_type": "code",
      "execution_count": 3,
      "source": [
        "#EJERCICIO JOAQUIN\n",
        "import numpy as np\n",
        "\n",
        "# Parámetros de la neurona\n",
        "w = np.array([0.3, 0.9, 0.001])\n",
        "b = 33\n",
        "\n",
        "# Matriz de entradas X y vector de etiquetas y\n",
        "X = np.array([[0.1, 1.0, 0.2], [0.0, 0.9, 0.3], [0.2, 0.5, 1.0]])\n",
        "y = np.array([[0, 0, 1]])\n",
        "\n",
        "# Hacer predicción\n",
        "y_hat = np.dot(X, w) + b\n",
        "\n",
        "# Calcular coste utilizando la pérdida cuadrática media\n",
        "m = y.shape[1]\n",
        "cost = (1/m) * np.sum((y_hat - y)**2)\n",
        "\n",
        "# Calcular gradientes\n",
        "dw = (1/m) * np.sum((y_hat - y) * X, axis=1, keepdims=True)\n",
        "db = (1/m) * np.sum((y_hat - y))\n",
        "\n",
        "# Mostrar resultados\n",
        "print(\"dw:\", dw)\n",
        "print(\"db:\", db)\n",
        "print(\"cost:\", cost)"
      ],
      "outputs": [
        {
          "output_type": "stream",
          "name": "stdout",
          "text": [
            "dw: [[14.56850667]\n",
            " [13.39419   ]\n",
            " [18.73406333]]\n",
            "db: 33.41716666666666\n",
            "cost: 1117.1199930433334\n"
          ]
        }
      ],
      "metadata": {
        "colab": {
          "base_uri": "https://localhost:8080/"
        },
        "id": "U-qtFcGggRSg",
        "outputId": "3757f360-83fc-4541-cdfe-264253e3c982"
      },
      "id": "U-qtFcGggRSg"
    },
    {
      "cell_type": "code",
      "execution_count": null,
      "source": [
        "#EJERCICIO DE LOS APUNTES\n",
        "def propagate(w, b, X, Y):\n",
        "    \"\"\"\n",
        "    Implement the cost function and its gradient for the propagation explained above\n",
        "\n",
        "    Arguments:\n",
        "    w -- weights, a numpy array of size (num_px * num_px * 3, 1)\n",
        "    b -- bias, a scalar\n",
        "    X -- data of size (num_px * num_px * 3, number of examples)\n",
        "    Y -- true \"label\" vector (containing 0 if non-cat, 1 if cat) of size (1, number of examples)\n",
        "\n",
        "    Return:\n",
        "    cost -- negative log-likelihood cost for logistic regression\n",
        "    dw -- gradient of the loss with respect to w, thus same shape as w\n",
        "    db -- gradient of the loss with respect to b, thus same shape as b\n",
        "    \n",
        "    Tips:\n",
        "    - Write your code step by step for the propagation. np.log(), np.dot()\n",
        "    \"\"\"\n",
        "    \n",
        "    m = X.shape[1]\n",
        "    \n",
        "    # FORWARD PROPAGATION (FROM X TO COST)\n",
        "    A = sigmoid(np.dot(w.T, X) + b)                                    # compute activation\n",
        "    dz = A - Y\n",
        "    cost = -1/m * np.sum(Y * np.log(A) + (1-Y) * (np.log(1-A)))               # compute cost\n",
        "    \n",
        "    # BACKWARD PROPAGATION (TO FIND GRAD)\n",
        "    dw = np.dot(X, dz.T) / m\n",
        "    db = np.sum(dz) / m\n",
        "\n",
        "    # The following functions make sure you are keeping the shapes\n",
        "    # squeeze removes single-dimensional entries from the shape of an array.\n",
        "    \n",
        "    assert(dw.shape == w.shape)\n",
        "    assert(db.dtype == float)\n",
        "    cost = np.squeeze(cost)\n",
        "    assert(cost.shape == ())\n",
        "    \n",
        "    grads = {\"dw\": dw,\n",
        "             \"db\": db}\n",
        "    \n",
        "    return grads, cost\n",
        "  \n",
        "def sigmoid(z):\n",
        "    \"\"\"\n",
        "    Compute the sigmoid of z\n",
        "\n",
        "    Arguments:\n",
        "    z -- A scalar or numpy array of any size.\n",
        "\n",
        "    Return:\n",
        "    s -- sigmoid(z)\n",
        "    \"\"\"\n",
        "\n",
        "    s = 1 / (1 + np.exp(-z))\n",
        "    \n",
        "    return s\n"
      ],
      "outputs": [],
      "metadata": {
        "id": "b237d47c"
      },
      "id": "b237d47c"
    },
    {
      "cell_type": "code",
      "execution_count": null,
      "source": [
        "w = np.zeros((40, 1))"
      ],
      "outputs": [],
      "metadata": {
        "id": "Vo8DlKO8VLwY"
      },
      "id": "Vo8DlKO8VLwY"
    },
    {
      "cell_type": "code",
      "execution_count": null,
      "source": [
        "\n",
        "\n",
        "w, b, X, Y = np.array([[0.3],[0.9],[0.001]]), 33., np.array([[0.1, 1.0, 0.2], [0.0, 0.9, 0.3], [0.2, 0.5, 1.0]]), np.array([[0, 0, 1]])\n",
        "grads, cost = propagate(w, b, X, Y)\n",
        "print (\"dw = \" + str(grads[\"dw\"]))\n",
        "print (\"db = \" + str(grads[\"db\"]))\n",
        "print (\"cost = \" + str(cost))\n"
      ],
      "outputs": [
        {
          "output_type": "stream",
          "name": "stdout",
          "text": [
            "dw = [[0.36666667]\n",
            " [0.3       ]\n",
            " [0.23333333]]\n",
            "db = 0.6666666666666635\n",
            "cost = 22.381888118541667\n"
          ]
        }
      ],
      "metadata": {
        "colab": {
          "base_uri": "https://localhost:8080/"
        },
        "id": "Ir_I1aiSVRBf",
        "outputId": "afc2b643-6f2d-4794-9cea-62bf785ca161"
      },
      "id": "Ir_I1aiSVRBf"
    },
    {
      "cell_type": "markdown",
      "source": [
        "# Ejercicio 4\n",
        "\n",
        "## PUNTUACIÓN MÁXIMA 2\n",
        "## TODO O NADA\n",
        "\n",
        "\n",
        "A continuación te presento un objeto python, con todos sus componentes. \n",
        "\n",
        "Lo que te pido es CÓDIGO PYTHON para extraer la predicción (yhat) de la epoch 3.\n"
      ],
      "metadata": {
        "id": "45d2835a"
      },
      "id": "45d2835a"
    },
    {
      "cell_type": "code",
      "execution_count": null,
      "source": [
        "training = { 'hiperparam' :  [1e-4, 10, 32],\n",
        "             'epoch' : ( {'dw': { 1 : [0.12, 0.14, 0.45, 0.66] , \n",
        "                                  2 : [0.01, 0.24, 0.70, 0.05] ,\n",
        "                                  3 : [0.11, 0.44, 0.02, 0.75] ,\n",
        "                                  4 : [0.02, 0.04, 0.72, 0.05] ,\n",
        "                                  5 : [0.72, 0.14, 0.02, 0.15] },\n",
        "                          'yhat': { 1 : '3' , \n",
        "                                    2 : '2' ,\n",
        "                                    3 : '2' ,\n",
        "                                    4 : '3' ,\n",
        "                                    5 : '1' }, \n",
        "                          'time' : { 15.3, \n",
        "                                     12.2,\n",
        "                                     10.9,\n",
        "                                     10.8,\n",
        "                                     10.7} } ) }"
      ],
      "outputs": [],
      "metadata": {
        "id": "778a05ce"
      },
      "id": "778a05ce"
    },
    {
      "cell_type": "code",
      "execution_count": null,
      "source": [
        "prediction = training['epoch']['yhat'][3]\n",
        "print(prediction)\n"
      ],
      "outputs": [
        {
          "output_type": "stream",
          "name": "stdout",
          "text": [
            "2\n"
          ]
        }
      ],
      "metadata": {
        "colab": {
          "base_uri": "https://localhost:8080/"
        },
        "id": "VAXLmOtlF8ua",
        "outputId": "b7d0ae2e-365b-4121-8b90-43ed43577504"
      },
      "id": "VAXLmOtlF8ua"
    }
  ],
  "metadata": {
    "kernelspec": {
      "display_name": "Python 3 (ipykernel)",
      "language": "python",
      "name": "python3"
    },
    "language_info": {
      "codemirror_mode": {
        "name": "ipython",
        "version": 3
      },
      "file_extension": ".py",
      "mimetype": "text/x-python",
      "name": "python",
      "nbconvert_exporter": "python",
      "pygments_lexer": "ipython3",
      "version": "3.10.6"
    },
    "colab": {
      "provenance": []
    }
  },
  "nbformat": 4,
  "nbformat_minor": 5
}