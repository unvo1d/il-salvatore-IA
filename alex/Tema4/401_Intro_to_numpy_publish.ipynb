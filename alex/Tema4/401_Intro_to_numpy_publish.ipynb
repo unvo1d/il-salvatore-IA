{
 "cells": [
  {
   "cell_type": "markdown",
   "source": [
    "<div style=\"font-size: 200%; font-weight: bold; color: maroon;\">401_Intro_to_numpy</div>\n"
   ],
   "metadata": {}
  },
  {
   "cell_type": "markdown",
   "source": [
    "## Some introduction to numpy\n",
    "\n",
    "numpy (most frequently imported as np) is the linear algebra library for python environments. \n",
    "\n",
    "In order to work -to implement vectorization, which is the basis of the computational advantage of numpy- you have first to define a numpy object: a matrix.\n",
    "\n",
    "Once defined a matrix, ie x, you can simply call vectorized functions using np. syntax.\n",
    "\n",
    "For instance:\n",
    "\n",
    "- np.exp(x) works for any np.array x and applies the exponential function to every coordinate\n",
    "\n",
    "In summary, numpy has efficient built-in functions for computing matrices, it is fast because it vectorizes the computations\n",
    "\n",
    "\n",
    "The following is adapted from the great Andrew Ng's coursera on deep learning\n",
    "\n",
    "## Important numpy links / reference material \n",
    "\n",
    "numpy official user guide (good, but long):  https://numpy.org/doc/stable/numpy-user.pdf\n",
    "\n",
    "one simple / quick numpy cheatsheet : https://s3.amazonaws.com/dq-blog-files/numpy-cheat-sheet.pdf\n",
    "\n",
    "yeat another (longer) cheatsheet: http://datacamp-community-prod.s3.amazonaws.com/ba1fe95a-8b70-4d2f-95b0-bc954e9071b0"
   ],
   "metadata": {}
  },
  {
   "cell_type": "markdown",
   "source": [
    "# Vectorization"
   ],
   "metadata": {
    "collapsed": true
   }
  },
  {
   "cell_type": "markdown",
   "source": [
    "\n",
    "In machine or deep learning, you deal with very large datasets. Hence, a non-computationally-optimal function can become a huge bottleneck in your algorithm and can result in a model that takes ages to run. To make sure that your code is  computationally efficient, you will use vectorization. For example, try to tell the difference between the following implementations of the dot/outer/elementwise product."
   ],
   "metadata": {}
  },
  {
   "cell_type": "code",
   "execution_count": 2,
   "source": [
    "import time\n",
    "import random\n",
    "import numpy as np\n",
    "\n",
    "x1 = [random.random() for e in range(10**4)]  # remember list comprehension\n",
    "x2 = [random.random() for e in range(10**4)]\n",
    "\n",
    "#print(x1)\n",
    "#print(x2)\n"
   ],
   "outputs": [],
   "metadata": {}
  },
  {
   "cell_type": "code",
   "execution_count": 3,
   "source": [
    "print(len(x1))\n",
    "n1 = np.array(x1)\n",
    "n1.shape  #shape solo en obejtos numpy"
   ],
   "outputs": [
    {
     "output_type": "stream",
     "name": "stdout",
     "text": [
      "10000\n"
     ]
    },
    {
     "output_type": "execute_result",
     "data": {
      "text/plain": [
       "(10000,)"
      ]
     },
     "metadata": {},
     "execution_count": 3
    }
   ],
   "metadata": {}
  },
  {
   "cell_type": "code",
   "execution_count": 7,
   "source": [
    "matriz = np.array([[1., 0., 0.],\n",
    "                   [0., 1., 2.]])\n",
    "matriz.shape   #axis 0->2   axis 1->3\n"
   ],
   "outputs": [
    {
     "output_type": "execute_result",
     "data": {
      "text/plain": [
       "dtype('float64')"
      ]
     },
     "metadata": {},
     "execution_count": 7
    }
   ],
   "metadata": {}
  },
  {
   "cell_type": "code",
   "execution_count": 11,
   "source": [
    "unos = np.ones((2,3,4), dtype=int)\n",
    "unos"
   ],
   "outputs": [
    {
     "output_type": "execute_result",
     "data": {
      "text/plain": [
       "array([[[1, 1, 1, 1],\n",
       "        [1, 1, 1, 1],\n",
       "        [1, 1, 1, 1]],\n",
       "\n",
       "       [[1, 1, 1, 1],\n",
       "        [1, 1, 1, 1],\n",
       "        [1, 1, 1, 1]]])"
      ]
     },
     "metadata": {},
     "execution_count": 11
    }
   ],
   "metadata": {}
  },
  {
   "cell_type": "code",
   "execution_count": 12,
   "source": [
    "ran = np.random.rand(2, 3, 4)\n",
    "ran"
   ],
   "outputs": [
    {
     "output_type": "execute_result",
     "data": {
      "text/plain": [
       "array([[[0.74675572, 0.97685082, 0.84379403, 0.41979389],\n",
       "        [0.83380888, 0.7183372 , 0.32266541, 0.89531003],\n",
       "        [0.99267648, 0.96775906, 0.90376308, 0.15291189]],\n",
       "\n",
       "       [[0.10825803, 0.11139605, 0.64200599, 0.37628683],\n",
       "        [0.76221891, 0.06103522, 0.3091854 , 0.9930198 ],\n",
       "        [0.9249055 , 0.33290977, 0.99249007, 0.53997838]]])"
      ]
     },
     "metadata": {},
     "execution_count": 12
    }
   ],
   "metadata": {}
  },
  {
   "cell_type": "code",
   "execution_count": 13,
   "source": [
    "ran[0,2,1]"
   ],
   "outputs": [
    {
     "output_type": "execute_result",
     "data": {
      "text/plain": [
       "0.967759055607709"
      ]
     },
     "metadata": {},
     "execution_count": 13
    }
   ],
   "metadata": {}
  },
  {
   "cell_type": "code",
   "execution_count": 18,
   "source": [
    "data1 = np.array([[1, 2], \n",
    "                 [3, 4], \n",
    "                 [5, 6]])\n",
    "data1"
   ],
   "outputs": [
    {
     "output_type": "execute_result",
     "data": {
      "text/plain": [
       "array([[1, 2],\n",
       "       [3, 4],\n",
       "       [5, 6]])"
      ]
     },
     "metadata": {},
     "execution_count": 18
    }
   ],
   "metadata": {}
  },
  {
   "cell_type": "code",
   "execution_count": 20,
   "source": [
    "data1.max()"
   ],
   "outputs": [
    {
     "output_type": "execute_result",
     "data": {
      "text/plain": [
       "6"
      ]
     },
     "metadata": {},
     "execution_count": 20
    }
   ],
   "metadata": {}
  },
  {
   "cell_type": "markdown",
   "source": [
    "For the next example code, we will make basic matrix computations **without** numpy, this is using classical for loops. \n",
    "\n",
    "Later we will do the same but using vectorization, ie, numpy\n",
    "\n",
    "NOTE:\n",
    "\n",
    "- np.zeros(x, y) produces a matrix with zeros with dimensions x, y\n",
    "\n",
    "- np.random.rand(x, y) creates a random float numbers matrix with dimensions x, y"
   ],
   "metadata": {}
  },
  {
   "cell_type": "code",
   "execution_count": 21,
   "source": [
    "### CLASSIC DOT PRODUCT OF VECTORS IMPLEMENTATION ###\n",
    "tic = time.process_time()\n",
    "dot = 0\n",
    "for i in range(len(x1)):\n",
    "    dot+= x1[i]*x2[i]\n",
    "toc = time.process_time()\n",
    "print (\"dot = \" + str(dot))\n",
    "print (\"\\n ----- Computation time dot product (for) = \" + str(1000*(toc - tic)) + \"ms\")\n",
    "\n",
    "\n",
    "### CLASSIC OUTER PRODUCT IMPLEMENTATION ###\n",
    "tic = time.process_time()\n",
    "outer = np.zeros((len(x1),len(x2))) # we create a len(x1)*len(x2) matrix with only zeros\n",
    "for i in range(len(x1)):\n",
    "    for j in range(len(x2)):\n",
    "        outer[i,j] = x1[i]*x2[j]\n",
    "toc = time.process_time()\n",
    "#print (\"outer = \" + str(outer))\n",
    "print (\"\\n ----- Computation time outer prod (for)= \" + str(1000*(toc - tic)) + \"ms\")\n",
    "\n",
    "### CLASSIC ELEMENTWISE IMPLEMENTATION ###\n",
    "tic = time.process_time()\n",
    "mul = np.zeros(len(x1))\n",
    "for i in range(len(x1)):\n",
    "    mul[i] = x1[i]*x2[i]\n",
    "toc = time.process_time()\n",
    "#print (\"elementwise multiplication = \" + str(mul))\n",
    "print (\"\\n ----- Computation time elementwise (for)= \" + str(1000*(toc - tic)) + \"ms\")\n",
    "\n",
    "### CLASSIC GENERAL DOT PRODUCT IMPLEMENTATION ###\n",
    "W = np.random.rand(3,len(x1)) # Random 3*len(x1) numpy array\n",
    "tic = time.process_time()\n",
    "gdot = np.zeros(W.shape[0])\n",
    "for i in range(W.shape[0]):\n",
    "    for j in range(len(x1)):\n",
    "        gdot[i] += W[i,j]*x1[j]\n",
    "toc = time.process_time()\n",
    "#print (\"gdot = \" + str(gdot))\n",
    "print (\"\\n ----- Computation time dot prod general (for) = \" + str(1000*(toc - tic)) + \"ms\")"
   ],
   "outputs": [
    {
     "output_type": "stream",
     "name": "stdout",
     "text": [
      "dot = 2515.956269714853\n",
      "\n",
      " ----- Computation time dot product (for) = 15.256158000001463ms\n",
      "\n",
      " ----- Computation time outer prod (for)= 48474.208836000005ms\n",
      "\n",
      " ----- Computation time elementwise (for)= 4.002757999998607ms\n",
      "\n",
      " ----- Computation time dot prod general (for) = 25.204635999998004ms\n"
     ]
    }
   ],
   "metadata": {}
  },
  {
   "cell_type": "markdown",
   "source": [
    "# Exercise\n",
    "\n",
    "Look for the np methods for:\n",
    "\n",
    "1. dot product of vectors\n",
    "\n",
    "2. outer product of vectors\n",
    "\n",
    "3. elementwise multiplication\n",
    "\n",
    "4. general dot product of W (previously generated) and x1\n"
   ],
   "metadata": {}
  },
  {
   "cell_type": "code",
   "execution_count": 22,
   "source": [
    "### VECTORIZED DOT PRODUCT OF VECTORS ###\n",
    "tic = time.process_time()\n",
    "prodescalar = np.dot(x1, x2)\n",
    "toc = time.process_time()\n",
    "print (\"\\n ----- Computation time dot prod (np) = \" + str(1000*(toc - tic)) + \"ms\")\n",
    "\n",
    "### VECTORIZED OUTER PRODUCT ###\n",
    "tic = time.process_time()\n",
    "outernp = np.outer(x1, x2)\n",
    "toc = time.process_time()\n",
    "print (\"\\n ----- Computation time outer (np) = \" + str(1000*(toc - tic)) + \"ms\")\n",
    "\n",
    "### VECTORIZED ELEMENTWISE MULTIPLICATION ###\n",
    "tic = time.process_time()\n",
    "elementwise = np.multiply(x1, x2)\n",
    "toc = time.process_time()\n",
    "print (\"\\n ----- Computation time elementwise (np) = \" + str(1000*(toc - tic)) + \"ms\")\n",
    "\n",
    "### VECTORIZED GENERAL DOT PRODUCT ###\n",
    "tic = time.process_time()\n",
    "general = np.dot(W, x1)\n",
    "toc = time.process_time()\n",
    "print (\"\\n ----- Computation time dot prod general (np) = \" + str(1000*(toc - tic)) + \"ms\")"
   ],
   "outputs": [
    {
     "output_type": "stream",
     "name": "stdout",
     "text": [
      "\n",
      " ----- Computation time dot prod (np) = 5.199277999999197ms\n",
      "\n",
      " ----- Computation time outer (np) = 1203.406729000001ms\n",
      "\n",
      " ----- Computation time elementwise (np) = 3.1477799999990452ms\n",
      "\n",
      " ----- Computation time dot prod general (np) = 1.5353810000036106ms\n"
     ]
    }
   ],
   "metadata": {}
  },
  {
   "cell_type": "markdown",
   "source": [
    "As you may have noticed, the vectorized implementation is much cleaner and more efficient. For bigger vectors/matrices, you simply **cannot compute them without numpy**. \n",
    "\n",
    "**Note** that `np.dot()` performs a matrix-matrix or matrix-vector multiplication. This is different from `np.multiply()` and the `*` operator (which is equivalent to  `.*` in Matlab/Octave), which performs an element-wise multiplication."
   ],
   "metadata": {}
  },
  {
   "cell_type": "markdown",
   "source": [
    "# Loss and cost functions for binary target \n",
    "## i.e. as logistic regression, or those linking x and y through sigmoid function\n",
    "\n",
    "**Reminder**:\n",
    "\n",
    "- The loss is used to evaluate the performance of your model. The bigger your loss is, the more different your predictions ($ \\hat{y} $) are from the true values ($y$). \n",
    "- In deep learning, you use optimization algorithms like Gradient Descent to train your model and to minimize the cost.\n",
    "- For binary targets loss is defined as:\n",
    "\n",
    "For one example $x^{(i)}$:\n",
    "$$z^{(i)} = w^T x^{(i)} + b \\tag{1}$$\n",
    "$$\\hat{y}^{(i)} = a^{(i)} = sigmoid(z^{(i)})\\tag{2}$$ \n",
    "$$ \\mathcal{L}(a^{(i)}, y^{(i)}) =  - y^{(i)}  \\log(a^{(i)}) - (1-y^{(i)} )  \\log(1-a^{(i)})\\tag{3}$$\n",
    "\n",
    "The cost is then computed by summing over all training examples:\n",
    "$$ J = \\frac{1}{m} \\sum_{i=1}^m \\mathcal{L}(a^{(i)}, y^{(i)})\\tag{6}$$\n",
    "\n",
    "- media\n"
   ],
   "metadata": {}
  },
  {
   "cell_type": "code",
   "execution_count": 23,
   "source": [
    "# ERROR FUNCTION\n",
    "\n",
    "def loss(a, y):\n",
    "    \"\"\"\n",
    "    Arguments:\n",
    "    yhat = a =  vector of size m (predicted labels)\n",
    "    y -- vector of size m (true labels)\n",
    "    \n",
    "    Returns:\n",
    "    loss -- the value of the loss function defined above **for each target element**\n",
    "    \"\"\"\n",
    "    \n",
    "    loss = -y * np.log(a) - (1-y) * (np.log(1-a))              # compute cost    \n",
    "    \n",
    "    return loss"
   ],
   "outputs": [],
   "metadata": {}
  },
  {
   "cell_type": "code",
   "execution_count": 24,
   "source": [
    "a = np.array([.9, 0.2, 0.1, .4, .9])\n",
    "y = np.array([1, 0, 0, 1, 1])\n",
    "print(\"loss = \" + str(loss(a,y)))"
   ],
   "outputs": [
    {
     "output_type": "stream",
     "name": "stdout",
     "text": [
      "loss = [0.10536052 0.22314355 0.10536052 0.91629073 0.10536052]\n"
     ]
    }
   ],
   "metadata": {
    "scrolled": true
   }
  },
  {
   "cell_type": "markdown",
   "source": [
    "**Expected Output**:\n",
    "\n",
    "<table style=\"width:20%\">\n",
    "     <tr> \n",
    "       <td> **loss** </td> \n",
    "       <td> [0.10536052 0.22314355 0.10536052 0.91629073 0.10536052] </td> \n",
    "     </tr>\n",
    "</table>"
   ],
   "metadata": {}
  },
  {
   "cell_type": "markdown",
   "source": [
    "# Exercise you must solve\n",
    "\n",
    "## Write the cost function\n",
    "\n",
    "**Exercise**: \n",
    "\n",
    "Once you have computed the loss function you can easily compute (using numpy) the cost function (which is not more than the average of the loss functions across the y or actual target vector).\n",
    "\n",
    "The cost can be computed by summing over all training examples:\n",
    "$$ J = \\frac{1}{m} \\sum_{i=1}^m \\mathcal{L}(a^{(i)}, y^{(i)})\\tag{6}$$\n"
   ],
   "metadata": {}
  },
  {
   "cell_type": "code",
   "execution_count": 25,
   "source": [
    "# FUNCTION: compute cost\n",
    "\n",
    "def cost(a, y):\n",
    "    \"\"\"\n",
    "    Computes the cost function by summing loss over all training examples.\n",
    "    \n",
    "    Arguments:\n",
    "    a -- A numpy vector or array\n",
    "    y -- A scalar or numpy vector\n",
    "    \n",
    "    You must obtain\n",
    "    m -- the size of y (use len(y))\n",
    "    \n",
    "    Return:\n",
    "    cost -- Your computed cost.\n",
    "    \"\"\"\n",
    "    \n",
    "    ### START CODE HERE ### (≈ 2 lines of code)\n",
    "    ### HINT : Define first m as a property of the input object y\n",
    "    m = len(y)\n",
    "    cost = 1/m * np.sum(loss(a, y))\n",
    "    \n",
    "    ### END CODE HERE ###\n",
    "    \n",
    "    return cost"
   ],
   "outputs": [],
   "metadata": {}
  },
  {
   "cell_type": "code",
   "execution_count": 26,
   "source": [
    "a = np.array([.9, 0.2, 0.1, .4, .9])\n",
    "y = np.array([1, 0, 0, 1, 1])\n",
    "print(\"loss = \" + str(loss(a,y)))\n",
    "print(\"cost = \" + str(cost(a,y)))"
   ],
   "outputs": [
    {
     "output_type": "stream",
     "name": "stdout",
     "text": [
      "loss = [0.10536052 0.22314355 0.10536052 0.91629073 0.10536052]\n",
      "cost = 0.29110316603236874\n"
     ]
    }
   ],
   "metadata": {
    "scrolled": true
   }
  },
  {
   "cell_type": "code",
   "execution_count": null,
   "source": [
    "# FUNCTION: compute cost including the error in the same line of code\n",
    "\n",
    "def cost(a, y):\n",
    "    \"\"\"\n",
    "    Computes the cost function by summing loss over all training examples.\n",
    "    \n",
    "    Arguments:\n",
    "    a -- A numpy vector or array\n",
    "    y -- A scalar or numpy vector\n",
    "    \n",
    "    You must obtain\n",
    "    m -- the size of y (use len(y))\n",
    "    \n",
    "    Return:\n",
    "    cost -- Your computed cost.\n",
    "    \"\"\"\n",
    "    \n",
    "    ### START CODE HERE ### (≈ 2 lines of code)\n",
    "\n",
    "    \n",
    "    ### END CODE HERE ###\n",
    "    \n",
    "    return cost"
   ],
   "outputs": [],
   "metadata": {}
  },
  {
   "cell_type": "code",
   "execution_count": null,
   "source": [
    "print(\"cost = \" + str(cost(a, y)))\n"
   ],
   "outputs": [],
   "metadata": {
    "scrolled": false
   }
  },
  {
   "cell_type": "markdown",
   "source": [
    "# What to remember\n",
    "- Vectorization is very important in deep learning. It provides computational efficiency and clarity.\n",
    "- You have reviewed the loss and cost functions for binary targets\n",
    "- You are familiar with many numpy functions such as np.sum, np.dot, np.multiply, np.maximum, etc..."
   ],
   "metadata": {}
  }
 ],
 "metadata": {
  "coursera": {
   "course_slug": "neural-networks-deep-learning",
   "graded_item_id": "XHpfv",
   "launcher_item_id": "Zh0CU"
  },
  "kernelspec": {
   "display_name": "Python 3 (ipykernel)",
   "language": "python",
   "name": "python3"
  },
  "language_info": {
   "codemirror_mode": {
    "name": "ipython",
    "version": 3
   },
   "file_extension": ".py",
   "mimetype": "text/x-python",
   "name": "python",
   "nbconvert_exporter": "python",
   "pygments_lexer": "ipython3",
   "version": "3.10.6"
  }
 },
 "nbformat": 4,
 "nbformat_minor": 2
}