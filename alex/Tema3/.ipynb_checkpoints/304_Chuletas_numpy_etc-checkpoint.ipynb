{
 "cells": [
  {
   "cell_type": "markdown",
   "metadata": {},
   "source": [
    "<div style=\"font-size: 200%; font-weight: bold; color: maroon;\">Chuletas numpy, pandas, sci-kit learn etc</div>\n"
   ]
  },
  {
   "cell_type": "markdown",
   "metadata": {},
   "source": [
    "# Enlaces recomendados\n",
    "\n"
   ]
  },
  {
   "cell_type": "markdown",
   "metadata": {},
   "source": [
    "# Métodos de pandas\n",
    "\n",
    "Los objetos pandas son dataframes, o tablas de datos. Siempre de dos dimensiones: \n",
    "\n",
    "- filas: casos o instancias\n",
    "- columnas: variables, predictoras o features\n"
   ]
  },
  {
   "cell_type": "markdown",
   "metadata": {},
   "source": [
    "## Pandas  Methods\n",
    "\n",
    "|L.method()|Result/Returns|\n",
    "|----------|--------------|\n",
    "|objeto.head()|Muestra cabecera de tabla pandas|\n",
    "|||\n"
   ]
  },
  {
   "cell_type": "markdown",
   "metadata": {},
   "source": [
    "# Métodos de numpy\n",
    "\n",
    "Los objetos numpy son matrices, pueden ser n-dimensionales. \n",
    "\n",
    "Atención: todos los elementos de una matriz numpy deben ser del mismo tipo (dtype)\n",
    "\n",
    "https://numpy.org/doc/stable/reference/arrays.html\n"
   ]
  },
  {
   "cell_type": "markdown",
   "metadata": {},
   "source": [
    "## numpy  Methods\n",
    "\n",
    "|L.method()|Result/Returns|\n",
    "|----------|--------------|\n",
    "|objeto.shape|Muestra dimensiones de matriz|\n",
    "|objeto.dtype|Muestra tipo de datos|\n",
    "\n",
    "\n"
   ]
  },
  {
   "cell_type": "markdown",
   "metadata": {},
   "source": [
    "# Métodos de sci-kit learn\n",
    "\n",
    "sci-kit learn (sklearn) es la librería estándar de machine learning del entorno python. Incorpora multitud de algoritmos \"out-of-the-box\" (listos para usar con muchos automatismos y valores por defecto):\n",
    "\n",
    "https://scikit-learn.org/stable/user_guide.html\n"
   ]
  },
  {
   "cell_type": "markdown",
   "metadata": {},
   "source": [
    "## sklearn  Methods\n",
    "\n",
    "|L.method()|Result/Returns|\n",
    "|----------|--------------|\n",
    "|objeto_sklearn.fit(X_train, y_train)|Calcula el modelo que se ha elegido para objeto_sklearn|\n"
   ]
  },
  {
   "cell_type": "code",
   "execution_count": null,
   "metadata": {},
   "outputs": [],
   "source": []
  }
 ],
 "metadata": {
  "kernelspec": {
   "display_name": "Python 3 (ipykernel)",
   "language": "python",
   "name": "python3"
  },
  "language_info": {
   "codemirror_mode": {
    "name": "ipython",
    "version": 3
   },
   "file_extension": ".py",
   "mimetype": "text/x-python",
   "name": "python",
   "nbconvert_exporter": "python",
   "pygments_lexer": "ipython3",
   "version": "3.10.6"
  }
 },
 "nbformat": 4,
 "nbformat_minor": 2
}
