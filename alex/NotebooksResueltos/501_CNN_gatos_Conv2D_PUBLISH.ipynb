{
 "cells": [
  {
   "cell_type": "code",
   "execution_count": 1,
   "id": "7084a0ab",
   "metadata": {},
   "outputs": [],
   "source": [
    "import numpy as np\n",
    "import matplotlib.pyplot as plt\n",
    "import h5py\n",
    "import scipy\n",
    "from PIL import Image\n",
    "from scipy import ndimage\n",
    "from tensorflow import keras\n",
    "\n",
    "%matplotlib inline"
   ]
  },
  {
   "cell_type": "code",
   "execution_count": 2,
   "id": "8b28ef9e",
   "metadata": {},
   "outputs": [],
   "source": [
    "def load_dataset():\n",
    "    train_dataset = h5py.File('datasets/train_catvnoncat.h5', \"r\")\n",
    "    train_set_x_orig = np.array(train_dataset[\"train_set_x\"][:]) # your train set features\n",
    "    train_set_y_orig = np.array(train_dataset[\"train_set_y\"][:]) # your train set labels\n",
    "\n",
    "    test_dataset = h5py.File('datasets/test_catvnoncat.h5', \"r\")\n",
    "    test_set_x_orig = np.array(test_dataset[\"test_set_x\"][:]) # your test set features\n",
    "    test_set_y_orig = np.array(test_dataset[\"test_set_y\"][:]) # your test set labels\n",
    "\n",
    "    classes = np.array(test_dataset[\"list_classes\"][:]) # the list of classes\n",
    "    \n",
    "    train_set_y_orig = train_set_y_orig.reshape((1, train_set_y_orig.shape[0]))\n",
    "    test_set_y_orig = test_set_y_orig.reshape((1, test_set_y_orig.shape[0]))\n",
    "    \n",
    "    return train_set_x_orig, train_set_y_orig, test_set_x_orig, test_set_y_orig, classes"
   ]
  },
  {
   "cell_type": "code",
   "execution_count": 3,
   "id": "50a41741",
   "metadata": {},
   "outputs": [],
   "source": [
    "# Loading the data (cat/non-cat)\n",
    "train_set_x_orig, train_set_y, test_set_x_orig, test_set_y, classes = load_dataset()"
   ]
  },
  {
   "cell_type": "code",
   "execution_count": 4,
   "id": "25dbbcdf",
   "metadata": {},
   "outputs": [
    {
     "name": "stdout",
     "output_type": "stream",
     "text": [
      "(209, 64, 64, 3) \n",
      " (1, 209) \n",
      " (50, 64, 64, 3) \n",
      " (1, 50)\n"
     ]
    }
   ],
   "source": [
    "train_set_x_orig.shape\n",
    "train_set_y.shape\n",
    "test_set_x_orig.shape\n",
    "test_set_y.shape\n",
    "\n",
    "print(train_set_x_orig.shape, '\\n', \n",
    "      train_set_y.shape, '\\n', \n",
    "      test_set_x_orig.shape, '\\n', \n",
    "      test_set_y.shape)"
   ]
  },
  {
   "cell_type": "code",
   "execution_count": 5,
   "id": "f805e84e",
   "metadata": {},
   "outputs": [
    {
     "name": "stdout",
     "output_type": "stream",
     "text": [
      "<class 'numpy.ndarray'>\n"
     ]
    },
    {
     "data": {
      "text/plain": [
       "(259, 64, 64, 3)"
      ]
     },
     "execution_count": 5,
     "metadata": {},
     "output_type": "execute_result"
    }
   ],
   "source": [
    "print(type(train_set_x_orig))\n",
    "\n",
    "# concatenamos ambos conjuntos de X para que no estén desproporcionados\n",
    "new_x = np.concatenate((train_set_x_orig, test_set_x_orig), axis=0)\n",
    "new_x.shape"
   ]
  },
  {
   "cell_type": "code",
   "execution_count": 6,
   "id": "1f9039c8",
   "metadata": {},
   "outputs": [
    {
     "data": {
      "text/plain": [
       "(259, 1)"
      ]
     },
     "execution_count": 6,
     "metadata": {},
     "output_type": "execute_result"
    }
   ],
   "source": [
    "new_y = np.concatenate((train_set_y.T, test_set_y.T), axis=0)\n",
    "new_y.shape"
   ]
  },
  {
   "cell_type": "code",
   "execution_count": 7,
   "id": "de8f2dd2",
   "metadata": {},
   "outputs": [],
   "source": [
    "from sklearn.model_selection import train_test_split"
   ]
  },
  {
   "cell_type": "code",
   "execution_count": 8,
   "id": "9b99e1b7",
   "metadata": {},
   "outputs": [
    {
     "name": "stdout",
     "output_type": "stream",
     "text": [
      "(194, 64, 64, 3)\n",
      "(194, 1)\n",
      "(65, 64, 64, 3)\n",
      "(65, 1)\n"
     ]
    }
   ],
   "source": [
    "# lo volvemos a separar ya con la correcta separación, no tan desproporcionada como antes\n",
    "# podemos probar 80%- 20%\n",
    "X_train, X_test, y_train, y_test = train_test_split(new_x,\n",
    "                                                    new_y, \n",
    "                                                    test_size=0.25,\n",
    "                                                    random_state=50)\n",
    "\n",
    "print(X_train.shape) \n",
    "print(y_train.shape)\n",
    "# X_test contains 25% of total dataset\n",
    "print(X_test.shape) \n",
    "print(y_test.shape)"
   ]
  },
  {
   "cell_type": "code",
   "execution_count": 9,
   "id": "c12f38d0",
   "metadata": {},
   "outputs": [],
   "source": [
    "X_train_n = X_train / 255\n",
    "\n",
    "X_test_n = X_test / 255\n"
   ]
  },
  {
   "cell_type": "code",
   "execution_count": 10,
   "id": "530a5d06",
   "metadata": {},
   "outputs": [],
   "source": [
    "from keras.utils import to_categorical \n",
    "\n",
    "y_train = to_categorical(y_train)\n",
    "y_test = to_categorical(y_test)"
   ]
  },
  {
   "cell_type": "markdown",
   "id": "3bfeebb8",
   "metadata": {},
   "source": [
    "# Your code below\n",
    "\n",
    "Use layers.Conv2D\n",
    "\n",
    "For instance for first layer\n",
    "\n",
    "network.add(layers.Conv2D(32, (3, 3),\n",
    "                         activation='relu',\n",
    "                         input_shape=(64, 64, 3)))\n",
    "\n",
    "and after that\n",
    "\n",
    "network.add(layers.MaxPool2D((2,2)))\n",
    "\n",
    "and for output layer\n",
    "\n",
    "network.add(layers.Flatten())\n",
    "network.add(layers.Dense(256,\n",
    "                        activation = 'relu'))            \n",
    "network.add(layers.Dense(2, \n",
    "                         activation='softmax'))\n",
    "\n",
    "\n"
   ]
  },
  {
   "cell_type": "code",
   "execution_count": 11,
   "id": "e6a58418",
   "metadata": {},
   "outputs": [],
   "source": [
    "from keras import models\n",
    "from keras import layers"
   ]
  },
  {
   "cell_type": "code",
   "execution_count": 12,
   "id": "a902ce4a",
   "metadata": {},
   "outputs": [],
   "source": [
    "network = models.Sequential()\n",
    "\n",
    "# primera capa convolucional, 32 neuronas, filtro 3x3\n",
    "network.add(layers.Conv2D(32,  (3, 3),\n",
    "                         activation='relu',\n",
    "                         input_shape=(64, 64, 3)))\n",
    "\n",
    "# downsampling max pooling 2x2\n",
    "network.add(layers.MaxPool2D(2,2))\n",
    "\n",
    "# capa de salida\n",
    "network.add(layers.Flatten())\n",
    "network.add(layers.Dense(256, activation = 'relu'))\n",
    "network.add(layers.Dense(2, \n",
    "                         activation='softmax'))"
   ]
  },
  {
   "cell_type": "code",
   "execution_count": 13,
   "id": "7c600bca",
   "metadata": {},
   "outputs": [
    {
     "name": "stdout",
     "output_type": "stream",
     "text": [
      "Model: \"sequential\"\n",
      "_________________________________________________________________\n",
      " Layer (type)                Output Shape              Param #   \n",
      "=================================================================\n",
      " conv2d (Conv2D)             (None, 62, 62, 32)        896       \n",
      "                                                                 \n",
      " max_pooling2d (MaxPooling2D  (None, 31, 31, 32)       0         \n",
      " )                                                               \n",
      "                                                                 \n",
      " flatten (Flatten)           (None, 30752)             0         \n",
      "                                                                 \n",
      " dense (Dense)               (None, 256)               7872768   \n",
      "                                                                 \n",
      " dense_1 (Dense)             (None, 2)                 514       \n",
      "                                                                 \n",
      "=================================================================\n",
      "Total params: 7,874,178\n",
      "Trainable params: 7,874,178\n",
      "Non-trainable params: 0\n",
      "_________________________________________________________________\n"
     ]
    }
   ],
   "source": [
    "network.summary()"
   ]
  },
  {
   "cell_type": "code",
   "execution_count": 14,
   "id": "843fde0f",
   "metadata": {},
   "outputs": [],
   "source": [
    "network.compile(optimizer='rmsprop',\n",
    "                loss='categorical_crossentropy',\n",
    "                metrics=['accuracy'])\n",
    "\n"
   ]
  },
  {
   "cell_type": "code",
   "execution_count": 15,
   "id": "00578453",
   "metadata": {},
   "outputs": [],
   "source": [
    "from keras.utils.vis_utils import plot_model"
   ]
  },
  {
   "cell_type": "code",
   "execution_count": 16,
   "id": "e9085424",
   "metadata": {},
   "outputs": [
    {
     "name": "stdout",
     "output_type": "stream",
     "text": [
      "You must install pydot (`pip install pydot`) and install graphviz (see instructions at https://graphviz.gitlab.io/download/) for plot_model to work.\n"
     ]
    }
   ],
   "source": [
    "plot_model(network, \n",
    "           to_file = 'model_plot_00.png', \n",
    "           show_shapes = True, \n",
    "           show_layer_names = True)"
   ]
  },
  {
   "cell_type": "code",
   "execution_count": 17,
   "id": "0fed9e84",
   "metadata": {
    "scrolled": true
   },
   "outputs": [
    {
     "name": "stdout",
     "output_type": "stream",
     "text": [
      "Epoch 1/10\n",
      "13/13 [==============================] - 2s 88ms/step - loss: 5.8288 - accuracy: 0.4948\n",
      "Epoch 2/10\n",
      "13/13 [==============================] - 1s 81ms/step - loss: 0.9536 - accuracy: 0.6546\n",
      "Epoch 3/10\n",
      "13/13 [==============================] - 1s 88ms/step - loss: 0.6470 - accuracy: 0.7474\n",
      "Epoch 4/10\n",
      "13/13 [==============================] - 1s 87ms/step - loss: 0.4497 - accuracy: 0.7732\n",
      "Epoch 5/10\n",
      "13/13 [==============================] - 1s 78ms/step - loss: 0.2412 - accuracy: 0.9072\n",
      "Epoch 6/10\n",
      "13/13 [==============================] - 1s 74ms/step - loss: 0.2463 - accuracy: 0.9227\n",
      "Epoch 7/10\n",
      "13/13 [==============================] - 1s 73ms/step - loss: 0.2474 - accuracy: 0.9227\n",
      "Epoch 8/10\n",
      "13/13 [==============================] - 1s 72ms/step - loss: 0.1032 - accuracy: 0.9588\n",
      "Epoch 9/10\n",
      "13/13 [==============================] - 1s 83ms/step - loss: 0.0594 - accuracy: 0.9897\n",
      "Epoch 10/10\n",
      "13/13 [==============================] - 1s 83ms/step - loss: 0.0300 - accuracy: 1.0000\n"
     ]
    },
    {
     "data": {
      "text/plain": [
       "<keras.callbacks.History at 0x1e01a04e110>"
      ]
     },
     "execution_count": 17,
     "metadata": {},
     "output_type": "execute_result"
    }
   ],
   "source": [
    "network.fit(X_train_n,\n",
    "           y_train,\n",
    "           epochs = 10,\n",
    "           batch_size = 16)"
   ]
  },
  {
   "cell_type": "code",
   "execution_count": 18,
   "id": "b244363c",
   "metadata": {},
   "outputs": [
    {
     "name": "stdout",
     "output_type": "stream",
     "text": [
      "3/3 [==============================] - 0s 22ms/step - loss: 0.6692 - accuracy: 0.7385\n",
      "test_acc 0.7384615540504456\n"
     ]
    }
   ],
   "source": [
    "test_loss, test_acc = network.evaluate(X_test_n, y_test)\n",
    "print('test_acc', test_acc)"
   ]
  },
  {
   "cell_type": "code",
   "execution_count": null,
   "id": "f153998d",
   "metadata": {},
   "outputs": [],
   "source": []
  }
 ],
 "metadata": {
  "kernelspec": {
   "display_name": "Python 3 (ipykernel)",
   "language": "python",
   "name": "python3"
  },
  "language_info": {
   "codemirror_mode": {
    "name": "ipython",
    "version": 3
   },
   "file_extension": ".py",
   "mimetype": "text/x-python",
   "name": "python",
   "nbconvert_exporter": "python",
   "pygments_lexer": "ipython3",
   "version": "3.10.7"
  }
 },
 "nbformat": 4,
 "nbformat_minor": 5
}
