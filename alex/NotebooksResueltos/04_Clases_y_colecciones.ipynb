{
 "cells": [
  {
   "cell_type": "markdown",
   "metadata": {},
   "source": [
    "<div style=\"font-size: 200%; font-weight: bold; color: maroon;\">Clases y colecciones en Python</div>\n"
   ]
  },
  {
   "cell_type": "markdown",
   "metadata": {},
   "source": [
    "## Enlaces recomendados\n",
    "\n",
    "Estructura de datos tipo lista: https://byte-mind.net/curso-python-estructura-de-datos-tipo-lista/\n",
    "\n",
    "Estructura de datos tipo tupla: https://byte-mind.net/curso-python-estructura-datos-tipo-tupla/\n",
    "\n",
    "Estructura de datos tipo diccionario: https://byte-mind.net/curso-python-tema-8-estructura-datos-tipo-diccionario/\n",
    "\n",
    "POO Programación Orientada a Objetos: https://byte-mind.net/curso-python-poo/"
   ]
  },
  {
   "cell_type": "markdown",
   "metadata": {},
   "source": [
    "# Conceptos nuevos de Programación Orientada a Objetos\n",
    "\n",
    "POO es una metodología genérica de programación. Python es una lenguaje con orientación clara a objetos. Antes de proseguir explicando la Programación Orientada a Objetos debemos tener más o menos claro la diferencia entre una clase y un objeto:\n",
    "\n",
    "Una clase es una plantilla para la creación de objetos de datos según un modelo definido previamente. Las clases se utilizan para la definición de atributos (variables) y métodos (funciones).\n",
    "\n",
    "Un objeto sería una instancia de esa clase, es decir, un objeto sería la llamada a una clase. \n",
    "\n",
    "De hecho todas las \"entidades\" de Python pueden considerarse objetos de una clase (por ejemplo, las cadenas son instancias de la clase `str`).\n",
    "\n",
    "Para crear un objeto de una clase se \"llama\" a la clase como si fuera una función; eso invoca al constructor de la clase, que devuelve un objeto creado. A esos objetos se le pueden aplicar los métodos de la clase; a los métodos de una clase se accede con la notación habitual `objeto.metodo( param )`\n",
    "\n",
    "Por ejemplo para la clase `str` hay disponibles [una gran cantidad de métodos](https://docs.python.org/3/library/stdtypes.html#string-methods). \n",
    "\n",
    "Veremos todo esto más adelante con algún ejemplo, pero de momento es esencial que diferenciemos:\n",
    "\n",
    "- Clase es el concepto abstracto para definición de objetos que puede contener atributos(variables) y métodos (funciones). Ojo que empezaremos a utilizar mucho el concepto de \"método\" asociado a una clase.\n",
    "- Objeto: instanciación o \"concreción\" de una clase.\n",
    "- Método: función u operaciones definidas en la clase. Se llaman con el '.' por ejemplo si sabem que upper es un método asociado a una cadena podemos usarlo así:"
   ]
  },
  {
   "cell_type": "code",
   "execution_count": null,
   "metadata": {},
   "outputs": [],
   "source": [
    "cd = str(\"una cadena\")\n",
    "\n",
    "cd.upper()"
   ]
  },
  {
   "cell_type": "markdown",
   "metadata": {},
   "source": [
    "# Colecciones\n",
    "\n",
    "Por encima de los tipos básicos que hemos visto, Python posee tipos más complejos, para representar diferentes tipos de colecciones de objetos: listas, tuplas, diccionarios y sets. \n",
    "\n",
    "\n",
    "## Listas\n",
    "\n",
    "Una lista es simplemente una colección ordenada de elementos. Cada elemento puede ser cualquier tipo de objeto. Tiene el tipo `list`, pero puede crearse usando corchetes.\n",
    "\n",
    "Para acceder a un elemento de una lista, se usan también corchetes como con las cadenas y el índice del elemento buscado (teniendo cuidado de que en Python el primer elemento es el 0). También es posible seleccionar una sublista (_slice_) usando los dos puntos: `[start:stop]` o `[start:stop:step]`"
   ]
  },
  {
   "cell_type": "code",
   "execution_count": null,
   "metadata": {},
   "outputs": [],
   "source": [
    "l1 = [ 1, 2, 'a', 2.5 ]\n",
    "\n",
    "print( l1 )\n",
    "\n",
    "# Selecciona un elemento\n",
    "print( \"elemento 1:\", l1[1] )\n",
    "\n",
    "# Selecciona una sublista: 2:5 selecciona los elementos 2, 3 y 4 (pero como la lista solo tiene \n",
    "# elementos del 0 al 3), la operación en realidad devuelve los elementos 2 y 3\n",
    "print( \"elementos 2 y 3:\", l1[2:5] )\n",
    "\n",
    "# Asigna un valor a un elemento de la lista\n",
    "l1[1] = 'otra'\n",
    "\n",
    "# Veamos cómo ha quedado\n",
    "l1"
   ]
  },
  {
   "cell_type": "markdown",
   "metadata": {},
   "source": [
    "## Tuplas\n",
    "\n",
    "Una tupla es una colección ordenada, igual que una lista. La única diferencia es que una tupla es inmutable: no se puede modificar una vez creada. Su tipo es `tuple` y se crea mediante paréntesis en vez de corchetes\n",
    "\n",
    "Para acceder a elementos se hace igual que con listas: se indexa con corchetes"
   ]
  },
  {
   "cell_type": "code",
   "execution_count": null,
   "metadata": {},
   "outputs": [],
   "source": [
    "t1 = ( 1, 2, 'a', 2.5 )\n",
    "\n",
    "print( t1[1] )\n",
    "print( t1[2:4] )"
   ]
  },
  {
   "cell_type": "code",
   "execution_count": null,
   "metadata": {},
   "outputs": [],
   "source": [
    "# Una tupla es inmutable: esto fallará\n",
    "t1[3] = 'otra'"
   ]
  },
  {
   "cell_type": "markdown",
   "metadata": {},
   "source": [
    "Dado que los paréntesis se usan también para expresiones, para crear una tupla con un solo elemento es necesario añadir una coma final. Comparemos:"
   ]
  },
  {
   "cell_type": "code",
   "execution_count": null,
   "metadata": {},
   "outputs": [],
   "source": [
    "vA = (44)\n",
    "vB = (44,)\n",
    "\n",
    "print(vA)\n",
    "print(vB)\n",
    "print( type(vA), type(vB) )"
   ]
  },
  {
   "cell_type": "markdown",
   "metadata": {},
   "source": [
    "## Diccionarios\n",
    "\n",
    "Una diccionario es una colección no ordenada de pares _clave_, _valor_. El tipo es `dict` y se crea mediante llaves"
   ]
  },
  {
   "cell_type": "code",
   "execution_count": null,
   "metadata": {},
   "outputs": [],
   "source": [
    "d1 = { 'lunes' : 10, 'martes' : 8, 'miercoles' : 32, 'jueves' : 12, 'viernes' : 4 }"
   ]
  },
  {
   "cell_type": "markdown",
   "metadata": {},
   "source": [
    "Cuando llamamos al objeto definido con la clave, nos devolverá el valor asociado"
   ]
  },
  {
   "cell_type": "code",
   "execution_count": null,
   "metadata": {},
   "outputs": [],
   "source": [
    "d1['lunes']"
   ]
  },
  {
   "cell_type": "markdown",
   "metadata": {},
   "source": [
    "Pero fallará si lo que le proporcionamos es simplemente el valor"
   ]
  },
  {
   "cell_type": "code",
   "execution_count": null,
   "metadata": {},
   "outputs": [],
   "source": [
    "d1[10]"
   ]
  },
  {
   "cell_type": "markdown",
   "metadata": {},
   "source": [
    "## Sets\n",
    "Un set es también una colección no ordenada, pero esta vez de elementos sueltos. Se crea también mediante llaves.\n"
   ]
  },
  {
   "cell_type": "code",
   "execution_count": null,
   "metadata": {},
   "outputs": [],
   "source": [
    "s1 = { 'enero', 'febrero', 'marzo ' }"
   ]
  },
  {
   "cell_type": "code",
   "execution_count": null,
   "metadata": {},
   "outputs": [],
   "source": [
    "s1"
   ]
  },
  {
   "cell_type": "markdown",
   "metadata": {},
   "source": [
    "Para crear un set vacío no puede usarse `{ }`, puesto que eso crea un **diccionario** vacío. En vez de ello se puede usar el constructor sin parámetros: `set()`_"
   ]
  },
  {
   "cell_type": "code",
   "execution_count": null,
   "metadata": {},
   "outputs": [],
   "source": [
    "vacio = set()"
   ]
  },
  {
   "cell_type": "code",
   "execution_count": null,
   "metadata": {},
   "outputs": [],
   "source": [
    "vacio"
   ]
  },
  {
   "cell_type": "code",
   "execution_count": null,
   "metadata": {},
   "outputs": [],
   "source": [
    "dos_set = [vacio , s1]"
   ]
  },
  {
   "cell_type": "code",
   "execution_count": null,
   "metadata": {},
   "outputs": [],
   "source": [
    "dos_set"
   ]
  },
  {
   "cell_type": "markdown",
   "metadata": {},
   "source": [
    "## Colecciones compuestas\n",
    "\n",
    "Los elementos de una colección Python son arbitrarios, luego pueden ser también otras colecciones. Esto permite por tanto crear estructuras anidadas para cumplir las necesidades de modelado.\n",
    "\n",
    "Por ejemplo, este es un diccionario que contiene listas, tuplas y sets"
   ]
  },
  {
   "cell_type": "code",
   "execution_count": null,
   "metadata": {},
   "outputs": [],
   "source": [
    "complicado = { 'lista' :  [1, 2, 3],\n",
    "               'tupla' : ( { 1 : \"lunes\", 2 : \"martes \"}, 4, \"final\"),\n",
    "                'set' : { 'enero', 'febrero'} }"
   ]
  },
  {
   "cell_type": "code",
   "execution_count": null,
   "metadata": {},
   "outputs": [],
   "source": [
    "complicado"
   ]
  },
  {
   "cell_type": "code",
   "execution_count": null,
   "metadata": {},
   "outputs": [],
   "source": [
    "# pprint es un paquete de Python que permite escribir colecciones complejas de forma legible\n",
    "import pprint\n",
    "pprint.pprint( complicado )"
   ]
  },
  {
   "cell_type": "code",
   "execution_count": null,
   "metadata": {},
   "outputs": [],
   "source": [
    "complicado['tupla'][0][2]"
   ]
  },
  {
   "cell_type": "markdown",
   "metadata": {},
   "source": [
    "## Operaciones sobre colecciones\n",
    "\n",
    "### Pertenencia\n",
    "\n",
    "Para saber si una colección contiene un elemento se usa el operador `in`. Funciona con todas, aunque con sets y diccionarios es rápida (porque están indexados), mientras que con listas y tuplas tiene que recorrerse toda la colección, por lo que si es grande puede tardar"
   ]
  },
  {
   "cell_type": "code",
   "execution_count": null,
   "metadata": {},
   "outputs": [],
   "source": [
    "'febrero' in l1"
   ]
  },
  {
   "cell_type": "markdown",
   "metadata": {},
   "source": [
    "### Añadir elementos\n",
    "Para añadir elementos a una colección se usan distintos métodos:\n",
    "* las listas tienen el método `append` que añade al final, y el método `insert` que añade en otra posición\n",
    "* los sets tienen el método `add`\n",
    "* para diccionarios, simplemente se accede al nuevo elemento y se le da un valor\n",
    "Las tuplas, al ser inmutables, no permiten añadir nuevos elementos"
   ]
  },
  {
   "cell_type": "code",
   "execution_count": null,
   "metadata": {},
   "outputs": [],
   "source": [
    "l1.append('nuevo')\n",
    "d1['nuevo'] = 'un valor nuevo'\n",
    "s1.add( 'nuevo')\n",
    "\n",
    "print( l1, d1, s1, sep='\\n----------\\n')"
   ]
  },
  {
   "cell_type": "markdown",
   "metadata": {},
   "source": [
    "### Iteración\n",
    "\n",
    "La estructura `for` es la que permite iterar sobre todos los elementos de una colección"
   ]
  },
  {
   "cell_type": "code",
   "execution_count": null,
   "metadata": {},
   "outputs": [],
   "source": [
    "for v in s1:\n",
    "    print(v)"
   ]
  },
  {
   "cell_type": "code",
   "execution_count": null,
   "metadata": {},
   "outputs": [],
   "source": [
    "for v in t1:\n",
    "    print(v)"
   ]
  },
  {
   "cell_type": "code",
   "execution_count": null,
   "metadata": {},
   "outputs": [],
   "source": [
    "for v in d1:\n",
    "    print(v)"
   ]
  },
  {
   "cell_type": "code",
   "execution_count": null,
   "metadata": {},
   "outputs": [],
   "source": [
    "for v in complicado:\n",
    "    print(v)"
   ]
  },
  {
   "cell_type": "markdown",
   "metadata": {},
   "source": [
    "### Tamaño\n",
    "\n",
    "La función `len` permite conocer el número de elementos de cualquier colección "
   ]
  },
  {
   "cell_type": "code",
   "execution_count": null,
   "metadata": {},
   "outputs": [],
   "source": [
    "print( len(l1) )\n",
    "print( len(t1) )\n",
    "print( len(d1) )\n",
    "print( len(s1) )\n"
   ]
  },
  {
   "cell_type": "markdown",
   "metadata": {},
   "source": [
    "### Métodos\n",
    "\n",
    "Las coleccciones definen [numerosos métodos y operaciones](https://docs.python.org/3/tutorial/datastructures.html) para efectuar operaciones especializadas. Por ejemplo:\n",
    "* [List](https://docs.python.org/3/tutorial/datastructures.html#more-on-lists)\n",
    "* [Set](https://docs.python.org/3/library/stdtypes.html#set)\n",
    "* [Dict](https://docs.python.org/3/library/stdtypes.html#mapping-types-dict)\n",
    "\n"
   ]
  },
  {
   "cell_type": "code",
   "execution_count": null,
   "metadata": {},
   "outputs": [],
   "source": [
    "# List: método reverse\n",
    "l1.reverse()\n",
    "print(l1)"
   ]
  },
  {
   "cell_type": "code",
   "execution_count": null,
   "metadata": {},
   "outputs": [],
   "source": [
    "# Set: operador \"|\" (OR logico)\n",
    "s_a = { 'Mafalda', 'Felipe', 'Susanita', 'Miguelito', 'Manolito' }\n",
    "s_b= { 'Mafalda', 'Guille', 'Libertad' }\n",
    "s_a | s_b\n"
   ]
  },
  {
   "cell_type": "code",
   "execution_count": null,
   "metadata": {},
   "outputs": [],
   "source": [
    "# Dict\n",
    "v = d1.pop('nuevo')\n",
    "print( \"pop = \", v, \"\\ndict = \", d1 )"
   ]
  },
  {
   "cell_type": "markdown",
   "metadata": {},
   "source": [
    "# Clases\n",
    "\n"
   ]
  },
  {
   "cell_type": "markdown",
   "metadata": {},
   "source": [
    "## Definición de clases\n",
    "Para crear nuevas clases se usa el comando `class` de Python. Por ejemplo:\n",
    "\n",
    "Implementaremos una clase llamada Persona que tendrá como atributo (variable) el nombre de la persona y dos métodos (funciones). El primero de los métodos inicializará el atributo nombre y el segundo mostrará por pantalla el contenido del mismo. Definir dos instancias (objetos) de la clase Persona."
   ]
  },
  {
   "cell_type": "code",
   "execution_count": null,
   "metadata": {},
   "outputs": [],
   "source": [
    "# creamos la clase\n",
    "class Persona:\n",
    "    # creamos la primera funcion\n",
    "    # para inicializar el atributo nombre\n",
    "    def inicializar( self,nom ):\n",
    "        self.nombre = nom\n",
    " \n",
    " \n",
    "    # creamos el segundo método\n",
    "    # para mostrar el nombre\n",
    "    def mostrar( self ):\n",
    "        print(\"Nombre: \",self.nombre)\n",
    " \n",
    " "
   ]
  },
  {
   "cell_type": "markdown",
   "metadata": {},
   "source": [
    "Y ahora definiremos dos instancias (objetos) de la clase Persona recién creada:"
   ]
  },
  {
   "cell_type": "code",
   "execution_count": null,
   "metadata": {},
   "outputs": [],
   "source": [
    "# bloque principal\n",
    "# creamos una instancia de la clase persona\n",
    "persona1 = Persona()\n",
    "persona1.inicializar( \"Marcos\" ) \n",
    "persona1.mostrar()\n",
    " \n",
    "# creamos un objeto de la clase persona\n",
    "persona2 = Persona()\n",
    "persona2.inicializar( \"Ivan\" )\n",
    "persona2.mostrar()"
   ]
  },
  {
   "cell_type": "markdown",
   "metadata": {},
   "source": [
    "Varios detalles que resaltar:\n",
    "1. La sintaxis de declaración de la clase es siempre `class Name( object ):`\n",
    "  * La palabra clave `object` indica que nuestra clase hereda de la clase raíz de Python, `object` (es importante en Python 2, puesto que no usarla supone la creación de una \"clase antigua\" de Python, que no es aconsejable; en Python 3 es opcional).\n",
    "2. Dentro de una clase se define un número arbitrario de métodos. Los métodos son funciones normales de Python, con la diferencia de que siempre reciben un primer parámetro que es el objeto de la clase sobre el que se está trabajando. Ese parámetro:\n",
    "  * Puede tener cualquier nombre, es arbitrario (aunque por convención se suele llamar `self`)\n",
    "  * Ese parámetro no hay que incluirlo en los argumentos de llamada cuando se llama al método, Python lo añade de forma automática\n",
    "3. Ese parámetro `self` permite asignar campos al objeto, usando la tipica notación de acceso `objeto.campo`\n",
    "4. Un método especial, `__init__` actúa de _constructor_ de la clase (el método al que se llama cuando _se está creando_ un objecto de la clase). Los parámetros adicionales de ese método son los argumentos del constructor\n",
    "5. Existen muchos otros _nombres especiales_ como el del constructor (`__init__`); el manual de Python [contiene una larga lista](https://docs.python.org/3/reference/datamodel.html#special-method-names). \n",
    "6. Python no fuerza ningún tipo de encapsulado de datos: los campos de un objeto de Python son siempre públicos"
   ]
  },
  {
   "cell_type": "markdown",
   "metadata": {},
   "source": [
    "De hecho para Python tanto los campos como los métodos son elementos accesibles de la clase. La diferencia es que los métodos, además de acceder a ellos es posible _ejecutarlos_"
   ]
  },
  {
   "cell_type": "markdown",
   "metadata": {},
   "source": [
    "## Herencia\n",
    "\n",
    "En Python dos clases además de poder tener una relación de colaboración, también pueden tener una relación de herencia.\n",
    "\n",
    "La herencia significa que se pueden crear nuevas clases partiendo de otras clases ya existentes, que heredarán todos los atributos y métodos de su clase padre además, de poder añadir los suyos propios.\n",
    "\n",
    "Por ejemplo, si tenemos una clase llamada vehículo, esta sería la clase padre de las clases coche, moto, bicicleta… Cada una de estas subclases tendría los atributos y métodos de su padre vehículo y aparte tendrían sus propios métodos cada uno de ellos.\n"
   ]
  },
  {
   "cell_type": "markdown",
   "metadata": {},
   "source": [
    "Vamos a verlo con un ejemplo práctico\n",
    "\n",
    "Realizaremos un programa que conste de un clase Persona con dos atributos nombre y edad. Los atributos se introducirán por teclado y habrá otro método para imprimir los datos.\n"
   ]
  },
  {
   "cell_type": "code",
   "execution_count": null,
   "metadata": {},
   "outputs": [],
   "source": [
    "class Persona:\n",
    "    # declaramos el metodo __init__\n",
    "    def __init__( self ):\n",
    "        self.nombre = input(\"Ingrese el nombre: \")\n",
    "        self.edad = int(input(\"Ingrese la edad: \"))\n",
    " \n",
    " \n",
    "    # declaramos el metodo mostrar\n",
    "    def mostrar( self ):\n",
    "        print( \"Nombre: \", self.nombre )\n",
    "        print( \"Edad: \", self.edad )\n",
    " "
   ]
  },
  {
   "cell_type": "markdown",
   "metadata": {},
   "source": [
    "A continuación declaramos una segunda clase llama Empleado que hereda de la clase Persona y agrega el atributo sueldo. Debe mostrar si tiene que pagar impuestos o no (sueldo superior a 3000)."
   ]
  },
  {
   "cell_type": "code",
   "execution_count": null,
   "metadata": {},
   "outputs": [],
   "source": [
    "# declaramos la clase empleado\n",
    "# la clase empleado hereda los atributos y metodos de la clase Persona\n",
    "class Empleado( Persona ):\n",
    "    # declaramos el metodo __init__\n",
    "    def __init__( self ):\n",
    "        # llamamos al metodo init de la clase padre\n",
    "        self.sueldo = float(input(\"Ingrese el sueldo: \"))\n",
    "\n",
    " \n",
    "    # declaramos el metodo mostrar\n",
    "    def mostrar( self ):\n",
    "        print(\"Sueldo: \",self.sueldo)\n",
    " \n",
    " \n",
    "    # declaramos el metodo pagar_impuestos\n",
    "    # comprobara si el empleado debe pagar o no\n",
    "    def pagar_impuestos( self ):\n",
    "        if self.sueldo > 3000:\n",
    "            print(\"El empleado debe pagar impuestos.\")\n",
    "        else:\n",
    "            print(\"El empleado no paga impuestos.\")\n"
   ]
  },
  {
   "cell_type": "code",
   "execution_count": null,
   "metadata": {},
   "outputs": [],
   "source": [
    "# bloque principal\n",
    "persona1=Persona()\n",
    "persona1.mostrar()\n",
    "empleado1=Empleado()\n",
    "empleado1.mostrar()\n",
    "empleado1.pagar_impuestos()\n",
    "\n"
   ]
  }
 ],
 "metadata": {
  "kernelspec": {
   "display_name": "Python 3 (ipykernel)",
   "language": "python",
   "name": "python3"
  },
  "language_info": {
   "codemirror_mode": {
    "name": "ipython",
    "version": 3
   },
   "file_extension": ".py",
   "mimetype": "text/x-python",
   "name": "python",
   "nbconvert_exporter": "python",
   "pygments_lexer": "ipython3",
   "version": "3.10.7"
  }
 },
 "nbformat": 4,
 "nbformat_minor": 2
}
