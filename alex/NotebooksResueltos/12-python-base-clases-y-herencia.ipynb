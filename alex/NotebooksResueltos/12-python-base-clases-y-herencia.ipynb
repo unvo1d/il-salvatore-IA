{
 "cells": [
  {
   "cell_type": "markdown",
   "id": "c3c1b578",
   "metadata": {},
   "source": [
    "A partir de:\n",
    "\n",
    "https://www.programiz.com/python-programming/inheritance"
   ]
  },
  {
   "cell_type": "markdown",
   "id": "99068f97",
   "metadata": {},
   "source": [
    "To demonstrate the use of inheritance, let us take an example.\n",
    "\n",
    "A polygon is a closed figure with 3 or more sides. Say, we have a class called Polygon defined as follows.\n",
    "\n"
   ]
  },
  {
   "cell_type": "code",
   "execution_count": 1,
   "id": "f96f7981",
   "metadata": {},
   "outputs": [],
   "source": [
    "class Polygon:\n",
    "    def __init__(self, no_of_sides):\n",
    "        self.n = no_of_sides\n",
    "        self.sides = [0 for i in range(no_of_sides)]\n",
    "\n",
    "    def inputSides(self):\n",
    "        self.sides = [float(input(\"Enter length of side \"+str(i+1)+\" : \")) for i in range(self.n)]\n",
    "\n",
    "    def dispSides(self):\n",
    "        for i in range(self.n):\n",
    "            print(\"Side\",i+1,\"is\",self.sides[i])\n",
    "\n"
   ]
  },
  {
   "cell_type": "markdown",
   "id": "ca9a7ca0",
   "metadata": {},
   "source": [
    "This class has data attributes to store the number of sides n and magnitude of each side as a list called sides.\n",
    "\n",
    "We can call each of the methods by producing an instance of the class and calling its methods:"
   ]
  },
  {
   "cell_type": "code",
   "execution_count": 2,
   "id": "e9c6920c",
   "metadata": {},
   "outputs": [
    {
     "name": "stdout",
     "output_type": "stream",
     "text": [
      "Enter length of side 1 : 2\n",
      "Enter length of side 2 : 3\n",
      "Enter length of side 3 : 4\n",
      "Side 1 is 2.0\n",
      "Side 2 is 3.0\n",
      "Side 3 is 4.0\n"
     ]
    }
   ],
   "source": [
    "p = Polygon(3)\n",
    "\n",
    "p.inputSides()\n",
    "p.dispSides()"
   ]
  },
  {
   "cell_type": "markdown",
   "id": "0459c108",
   "metadata": {},
   "source": [
    "A triangle is a polygon with 3 sides. So, we can create a class called Triangle which inherits from Polygon. This makes all the attributes of Polygon class available to the Triangle class.\n",
    "\n",
    "We don't need to define them again (code reusability). Triangle can be defined as follows."
   ]
  },
  {
   "cell_type": "code",
   "execution_count": 3,
   "id": "dc7369fc",
   "metadata": {},
   "outputs": [],
   "source": [
    "class Triangle(Polygon):\n",
    "    def __init__(self):\n",
    "        Polygon.__init__(self,3)\n",
    "\n",
    "    def findArea(self):\n",
    "        a, b, c = self.sides\n",
    "        # calculate the semi-perimeter\n",
    "        s = (a + b + c) / 2\n",
    "        area = (s*(s-a)*(s-b)*(s-c)) ** 0.5\n",
    "        print('The area of the triangle is %0.2f' %area)"
   ]
  },
  {
   "cell_type": "markdown",
   "id": "3312ea3d",
   "metadata": {},
   "source": [
    "However, class Triangle has a new method findArea() to find and print the area of the triangle. Here is a sample run.\n"
   ]
  },
  {
   "cell_type": "code",
   "execution_count": 4,
   "id": "ba628ec6",
   "metadata": {},
   "outputs": [
    {
     "name": "stdout",
     "output_type": "stream",
     "text": [
      "Enter length of side 1 : 2\n",
      "Enter length of side 2 : 3\n",
      "Enter length of side 3 : 4\n",
      "Side 1 is 2.0\n",
      "Side 2 is 3.0\n",
      "Side 3 is 4.0\n",
      "The area of the triangle is 2.90\n"
     ]
    }
   ],
   "source": [
    "t = Triangle()\n",
    "\n",
    "t.inputSides()\n",
    "\n",
    "t.dispSides()\n",
    "\n",
    "t.findArea()\n"
   ]
  },
  {
   "cell_type": "markdown",
   "id": "d8dd3f21",
   "metadata": {},
   "source": [
    "We can see that even though we did not define methods like inputSides() or dispSides() for class Triangle separately, we were able to use them.\n",
    "\n",
    "If an attribute is not found in the class itself, the search continues to the base class. This repeats recursively, if the base class is itself derived from other classes."
   ]
  },
  {
   "cell_type": "markdown",
   "id": "4f17a65c",
   "metadata": {},
   "source": [
    "## Method Overriding in Python\n",
    "\n",
    "In the above example, notice that __init__() method was defined in both classes, Triangle as well Polygon. When this happens, the method in the derived class overrides that in the base class. This is to say, __init__() in Triangle gets preference over the __init__ in Polygon.\n",
    "\n",
    "Generally when overriding a base method, we tend to extend the definition rather than simply replace it. The same is being done by calling the method in base class from the one in derived class (calling Polygon.__init__() from __init__() in Triangle).\n",
    "\n",
    "A better option would be to use the built-in function super(). So, super().__init__(3) is equivalent to Polygon.__init__(self,3) and is preferred. To learn more about the super() function in Python, visit Python super() function.\n",
    "\n",
    "Two built-in functions isinstance() and issubclass() are used to check inheritances.\n",
    "\n",
    "The function isinstance() returns True if the object is an instance of the class or other classes derived from it. Each and every class in Python inherits from the base class object."
   ]
  },
  {
   "cell_type": "code",
   "execution_count": null,
   "id": "6d7da451",
   "metadata": {},
   "outputs": [],
   "source": []
  }
 ],
 "metadata": {
  "kernelspec": {
   "display_name": "Python 3 (ipykernel)",
   "language": "python",
   "name": "python3"
  },
  "language_info": {
   "codemirror_mode": {
    "name": "ipython",
    "version": 3
   },
   "file_extension": ".py",
   "mimetype": "text/x-python",
   "name": "python",
   "nbconvert_exporter": "python",
   "pygments_lexer": "ipython3",
   "version": "3.10.6"
  }
 },
 "nbformat": 4,
 "nbformat_minor": 5
}
