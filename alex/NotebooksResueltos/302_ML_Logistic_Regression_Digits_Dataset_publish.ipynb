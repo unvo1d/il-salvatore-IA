{
 "cells": [
  {
   "cell_type": "markdown",
   "metadata": {},
   "source": [
    "<div style=\"font-size: 200%; font-weight: bold; color: maroon;\">302__Logistic_Regression_Digits_Dataset</div>\n"
   ]
  },
  {
   "cell_type": "markdown",
   "metadata": {},
   "source": [
    "### Importing dataset from scikit-learn"
   ]
  },
  {
   "cell_type": "code",
   "execution_count": 1,
   "metadata": {},
   "outputs": [],
   "source": [
    "from sklearn.datasets import load_digits\n",
    "digits = load_digits()"
   ]
  },
  {
   "cell_type": "code",
   "execution_count": 2,
   "metadata": {},
   "outputs": [
    {
     "name": "stdout",
     "output_type": "stream",
     "text": [
      ".. _digits_dataset:\n",
      "\n",
      "Optical recognition of handwritten digits dataset\n",
      "--------------------------------------------------\n",
      "\n",
      "**Data Set Characteristics:**\n",
      "\n",
      "    :Number of Instances: 1797\n",
      "    :Number of Attributes: 64\n",
      "    :Attribute Information: 8x8 image of integer pixels in the range 0..16.\n",
      "    :Missing Attribute Values: None\n",
      "    :Creator: E. Alpaydin (alpaydin '@' boun.edu.tr)\n",
      "    :Date: July; 1998\n",
      "\n",
      "This is a copy of the test set of the UCI ML hand-written digits datasets\n",
      "https://archive.ics.uci.edu/ml/datasets/Optical+Recognition+of+Handwritten+Digits\n",
      "\n",
      "The data set contains images of hand-written digits: 10 classes where\n",
      "each class refers to a digit.\n",
      "\n",
      "Preprocessing programs made available by NIST were used to extract\n",
      "normalized bitmaps of handwritten digits from a preprinted form. From a\n",
      "total of 43 people, 30 contributed to the training set and different 13\n",
      "to the test set. 32x32 bitmaps are divided into nonoverlapping blocks of\n",
      "4x4 and the number of on pixels are counted in each block. This generates\n",
      "an input matrix of 8x8 where each element is an integer in the range\n",
      "0..16. This reduces dimensionality and gives invariance to small\n",
      "distortions.\n",
      "\n",
      "For info on NIST preprocessing routines, see M. D. Garris, J. L. Blue, G.\n",
      "T. Candela, D. L. Dimmick, J. Geist, P. J. Grother, S. A. Janet, and C.\n",
      "L. Wilson, NIST Form-Based Handprint Recognition System, NISTIR 5469,\n",
      "1994.\n",
      "\n",
      ".. topic:: References\n",
      "\n",
      "  - C. Kaynak (1995) Methods of Combining Multiple Classifiers and Their\n",
      "    Applications to Handwritten Digit Recognition, MSc Thesis, Institute of\n",
      "    Graduate Studies in Science and Engineering, Bogazici University.\n",
      "  - E. Alpaydin, C. Kaynak (1998) Cascading Classifiers, Kybernetika.\n",
      "  - Ken Tang and Ponnuthurai N. Suganthan and Xi Yao and A. Kai Qin.\n",
      "    Linear dimensionalityreduction using relevance weighted LDA. School of\n",
      "    Electrical and Electronic Engineering Nanyang Technological University.\n",
      "    2005.\n",
      "  - Claudio Gentile. A New Approximate Maximal Margin Classification\n",
      "    Algorithm. NIPS. 2000.\n",
      "\n"
     ]
    }
   ],
   "source": [
    "# Let's check description of the dataset\n",
    "\n",
    "print(digits[\"DESCR\"])"
   ]
  },
  {
   "cell_type": "code",
   "execution_count": 3,
   "metadata": {},
   "outputs": [
    {
     "name": "stdout",
     "output_type": "stream",
     "text": [
      "Image Data Shape (1797, 64)\n",
      "Label Data Shape (1797,)\n"
     ]
    }
   ],
   "source": [
    "# Print to show there are 1797 images (8 by 8 images for a dimensionality of 64)\n",
    "print(\"Image Data Shape\" , digits.data.shape)# Print to show there are 1797 labels (integers from 0–9)\n",
    "print(\"Label Data Shape\", digits.target.shape)"
   ]
  },
  {
   "cell_type": "code",
   "execution_count": 4,
   "metadata": {},
   "outputs": [
    {
     "data": {
      "image/png": "[encoded data removed]",
      "text/plain": [
       "<Figure size 2000x400 with 5 Axes>"
      ]
     },
     "metadata": {},
     "output_type": "display_data"
    }
   ],
   "source": [
    "import numpy as np \n",
    "import matplotlib.pyplot as plt\n",
    "\n",
    "plt.figure(figsize=(20,4))\n",
    "for index, (image, label) in enumerate(zip(digits.data[0:5], digits.target[0:5])):\n",
    "    plt.subplot(1, 5, index + 1)\n",
    "    plt.imshow(np.reshape(image, (8,8)), cmap=plt.cm.gray)\n",
    "    plt.title('Training: %i\\n' % label, fontsize = 20)\n"
   ]
  },
  {
   "cell_type": "code",
   "execution_count": 5,
   "metadata": {},
   "outputs": [
    {
     "data": {
      "image/png": "[encoded data removed]",
      "text/plain": [
       "<Figure size 600x300 with 5 Axes>"
      ]
     },
     "metadata": {},
     "output_type": "display_data"
    }
   ],
   "source": [
    "plt.figure(figsize=(6,3))\n",
    "for index, (image, label) in enumerate(zip(digits.data[0:5], digits.target[0:5])):\n",
    "    plt.subplot(1, 5, index + 1)\n",
    "    plt.imshow(np.reshape(image, (8,8)), cmap=plt.cm.gray)\n",
    "    plt.title(label, fontsize = 8)\n"
   ]
  },
  {
   "cell_type": "markdown",
   "metadata": {},
   "source": [
    "# YOUR TASK #1: \n",
    "## Splitting Data into Training (75%) and Test Sets "
   ]
  },
  {
   "cell_type": "code",
   "execution_count": 6,
   "metadata": {},
   "outputs": [],
   "source": [
    "from sklearn.model_selection import train_test_split"
   ]
  },
  {
   "cell_type": "code",
   "execution_count": 7,
   "metadata": {},
   "outputs": [
    {
     "name": "stdout",
     "output_type": "stream",
     "text": [
      "(1797, 64)\n",
      "(1797,)\n"
     ]
    }
   ],
   "source": [
    "X = digits.data\n",
    "y = digits.target\n",
    "\n",
    "print(X.shape)\n",
    "print(y.shape)"
   ]
  },
  {
   "cell_type": "code",
   "execution_count": 8,
   "metadata": {},
   "outputs": [
    {
     "name": "stdout",
     "output_type": "stream",
     "text": [
      "(1347, 64)\n",
      "(1347,)\n",
      "(450, 64)\n",
      "(450,)\n"
     ]
    }
   ],
   "source": [
    "X_train, X_test, y_train, y_test = train_test_split(X,\n",
    "                                                    y, \n",
    "                                                    test_size=0.25,\n",
    "                                                    random_state=50)\n",
    "\n",
    "# X_train contains 75% of total dataset\n",
    "print(X_train.shape)\n",
    "print(y_train.shape)\n",
    "# X_test contains 25% of total dataset\n",
    "print(X_test.shape)\n",
    "print(y_test.shape)"
   ]
  },
  {
   "cell_type": "markdown",
   "metadata": {},
   "source": [
    "# YOUR TASK #2:\n",
    "## Implement and make an instance of LogisticRegression (that is the scikit name)\n",
    "## Follow the 5 standard ML methodology steps below"
   ]
  },
  {
   "cell_type": "markdown",
   "metadata": {},
   "source": [
    "## Step 1. Import the model you want to use"
   ]
  },
  {
   "cell_type": "code",
   "execution_count": 9,
   "metadata": {},
   "outputs": [],
   "source": [
    "from sklearn.linear_model import LogisticRegression"
   ]
  },
  {
   "cell_type": "markdown",
   "metadata": {},
   "source": [
    "## Step 2. Make an instance of the Model"
   ]
  },
  {
   "cell_type": "code",
   "execution_count": 10,
   "metadata": {},
   "outputs": [],
   "source": [
    "logistic_reg = LogisticRegression(max_iter = 10000)"
   ]
  },
  {
   "cell_type": "code",
   "execution_count": 11,
   "metadata": {},
   "outputs": [
    {
     "name": "stdout",
     "output_type": "stream",
     "text": [
      "LogisticRegression(max_iter=10000)\n"
     ]
    }
   ],
   "source": [
    "print(logistic_reg)"
   ]
  },
  {
   "cell_type": "markdown",
   "metadata": {},
   "source": [
    "## Step 3. Training the model on the data, storing the information learned from the data"
   ]
  },
  {
   "cell_type": "code",
   "execution_count": 12,
   "metadata": {
    "scrolled": false
   },
   "outputs": [
    {
     "data": {
      "text/html": [
       "<style>#sk-container-id-1 {color: black;background-color: white;}#sk-container-id-1 pre{padding: 0;}#sk-container-id-1 div.sk-toggleable {background-color: white;}#sk-container-id-1 label.sk-toggleable__label {cursor: pointer;display: block;width: 100%;margin-bottom: 0;padding: 0.3em;box-sizing: border-box;text-align: center;}#sk-container-id-1 label.sk-toggleable__label-arrow:before {content: \"▸\";float: left;margin-right: 0.25em;color: #696969;}#sk-container-id-1 label.sk-toggleable__label-arrow:hover:before {color: black;}#sk-container-id-1 div.sk-estimator:hover label.sk-toggleable__label-arrow:before {color: black;}#sk-container-id-1 div.sk-toggleable__content {max-height: 0;max-width: 0;overflow: hidden;text-align: left;background-color: #f0f8ff;}#sk-container-id-1 div.sk-toggleable__content pre {margin: 0.2em;color: black;border-radius: 0.25em;background-color: #f0f8ff;}#sk-container-id-1 input.sk-toggleable__control:checked~div.sk-toggleable__content {max-height: 200px;max-width: 100%;overflow: auto;}#sk-container-id-1 input.sk-toggleable__control:checked~label.sk-toggleable__label-arrow:before {content: \"▾\";}#sk-container-id-1 div.sk-estimator input.sk-toggleable__control:checked~label.sk-toggleable__label {background-color: #d4ebff;}#sk-container-id-1 div.sk-label input.sk-toggleable__control:checked~label.sk-toggleable__label {background-color: #d4ebff;}#sk-container-id-1 input.sk-hidden--visually {border: 0;clip: rect(1px 1px 1px 1px);clip: rect(1px, 1px, 1px, 1px);height: 1px;margin: -1px;overflow: hidden;padding: 0;position: absolute;width: 1px;}#sk-container-id-1 div.sk-estimator {font-family: monospace;background-color: #f0f8ff;border: 1px dotted black;border-radius: 0.25em;box-sizing: border-box;margin-bottom: 0.5em;}#sk-container-id-1 div.sk-estimator:hover {background-color: #d4ebff;}#sk-container-id-1 div.sk-parallel-item::after {content: \"\";width: 100%;border-bottom: 1px solid gray;flex-grow: 1;}#sk-container-id-1 div.sk-label:hover label.sk-toggleable__label {background-color: #d4ebff;}#sk-container-id-1 div.sk-serial::before {content: \"\";position: absolute;border-left: 1px solid gray;box-sizing: border-box;top: 0;bottom: 0;left: 50%;z-index: 0;}#sk-container-id-1 div.sk-serial {display: flex;flex-direction: column;align-items: center;background-color: white;padding-right: 0.2em;padding-left: 0.2em;position: relative;}#sk-container-id-1 div.sk-item {position: relative;z-index: 1;}#sk-container-id-1 div.sk-parallel {display: flex;align-items: stretch;justify-content: center;background-color: white;position: relative;}#sk-container-id-1 div.sk-item::before, #sk-container-id-1 div.sk-parallel-item::before {content: \"\";position: absolute;border-left: 1px solid gray;box-sizing: border-box;top: 0;bottom: 0;left: 50%;z-index: -1;}#sk-container-id-1 div.sk-parallel-item {display: flex;flex-direction: column;z-index: 1;position: relative;background-color: white;}#sk-container-id-1 div.sk-parallel-item:first-child::after {align-self: flex-end;width: 50%;}#sk-container-id-1 div.sk-parallel-item:last-child::after {align-self: flex-start;width: 50%;}#sk-container-id-1 div.sk-parallel-item:only-child::after {width: 0;}#sk-container-id-1 div.sk-dashed-wrapped {border: 1px dashed gray;margin: 0 0.4em 0.5em 0.4em;box-sizing: border-box;padding-bottom: 0.4em;background-color: white;}#sk-container-id-1 div.sk-label label {font-family: monospace;font-weight: bold;display: inline-block;line-height: 1.2em;}#sk-container-id-1 div.sk-label-container {text-align: center;}#sk-container-id-1 div.sk-container {/* jupyter's `normalize.less` sets `[hidden] { display: none; }` but bootstrap.min.css set `[hidden] { display: none !important; }` so we also need the `!important` here to be able to override the default hidden behavior on the sphinx rendered scikit-learn.org. See: https://github.com/scikit-learn/scikit-learn/issues/21755 */display: inline-block !important;position: relative;}#sk-container-id-1 div.sk-text-repr-fallback {display: none;}</style><div id=\"sk-container-id-1\" class=\"sk-top-container\"><div class=\"sk-text-repr-fallback\"><pre>LogisticRegression(max_iter=10000)</pre><b>In a Jupyter environment, please rerun this cell to show the HTML representation or trust the notebook. <br />On GitHub, the HTML representation is unable to render, please try loading this page with nbviewer.org.</b></div><div class=\"sk-container\" hidden><div class=\"sk-item\"><div class=\"sk-estimator sk-toggleable\"><input class=\"sk-toggleable__control sk-hidden--visually\" id=\"sk-estimator-id-1\" type=\"checkbox\" checked><label for=\"sk-estimator-id-1\" class=\"sk-toggleable__label sk-toggleable__label-arrow\">LogisticRegression</label><div class=\"sk-toggleable__content\"><pre>LogisticRegression(max_iter=10000)</pre></div></div></div></div></div>"
      ],
      "text/plain": [
       "LogisticRegression(max_iter=10000)"
      ]
     },
     "execution_count": 12,
     "metadata": {},
     "output_type": "execute_result"
    }
   ],
   "source": [
    "logistic_reg.fit(X_train, y_train)"
   ]
  },
  {
   "cell_type": "code",
   "execution_count": 13,
   "metadata": {},
   "outputs": [
    {
     "data": {
      "text/plain": [
       "array([ 4.0023585 , -9.96388904, -3.53269234, -1.23870539, 13.26129812,\n",
       "       -7.19429564,  3.93364477,  5.45889565,  3.60378456, -8.33039922])"
      ]
     },
     "execution_count": 13,
     "metadata": {},
     "output_type": "execute_result"
    }
   ],
   "source": [
    "logistic_reg.intercept_"
   ]
  },
  {
   "cell_type": "code",
   "execution_count": 14,
   "metadata": {
    "scrolled": true
   },
   "outputs": [
    {
     "data": {
      "text/plain": [
       "array([[ 0.00000000e+00, -3.91144201e-03, -1.49738017e-03,\n",
       "        -4.48553265e-02,  4.40906791e-02, -8.21383626e-02,\n",
       "        -1.19737232e-01, -1.09930616e-02, -7.03291376e-07,\n",
       "        -1.52525986e-02,  1.43299917e-04,  1.58041287e-01,\n",
       "         2.18123573e-02,  4.21931564e-02, -6.73395376e-02,\n",
       "        -6.77938946e-03, -3.19199664e-03,  1.98477831e-02,\n",
       "         1.08516633e-01, -2.53979425e-02, -3.07301746e-01,\n",
       "         1.63015497e-01,  1.89860813e-02, -1.27634826e-04,\n",
       "        -1.59582243e-03,  1.03382666e-01,  3.34315198e-02,\n",
       "        -1.63501590e-01, -3.39081098e-01, -4.75345251e-02,\n",
       "         1.13100823e-01, -6.29264667e-06,  0.00000000e+00,\n",
       "         1.75431468e-01,  6.59225949e-02, -1.78785818e-01,\n",
       "        -2.94931941e-01,  3.79826241e-02,  9.14133434e-02,\n",
       "         0.00000000e+00, -1.70584562e-05, -1.02370134e-02,\n",
       "         1.73543348e-01, -1.24101102e-01, -1.34001319e-01,\n",
       "         6.29627385e-02,  8.41430540e-02, -1.50225269e-05,\n",
       "        -5.37439226e-05, -3.52874761e-02,  2.04359468e-02,\n",
       "        -8.41656463e-03,  1.89038719e-01, -1.35571035e-02,\n",
       "         2.05392128e-03, -4.97438233e-03, -1.41793399e-06,\n",
       "        -1.12266373e-02, -3.96943555e-02,  8.81149828e-02,\n",
       "        -2.32501504e-02, -2.20388219e-02, -5.18376918e-02,\n",
       "        -1.33831733e-02],\n",
       "       [ 0.00000000e+00,  1.12284313e-02, -3.22903866e-02,\n",
       "         9.17213581e-02, -6.26373530e-01,  3.15224777e-01,\n",
       "         1.17860765e-01, -5.77298469e-03, -7.10420977e-07,\n",
       "        -2.97451109e-01, -4.00796659e-01, -2.83061045e-01,\n",
       "         3.20686692e-01, -1.13517734e-02, -2.98399809e-01,\n",
       "        -9.63506059e-03,  1.18582854e-01,  4.30953176e-01,\n",
       "         1.82790357e-02,  7.90303206e-01,  1.63296733e-01,\n",
       "        -1.48898820e-01,  1.06892032e-01, -6.12658613e-04,\n",
       "         5.92917592e-02, -4.13966558e-02, -5.15052218e-02,\n",
       "         1.41249968e-01,  2.53768635e-01,  1.01515813e-01,\n",
       "        -3.08479672e-02, -4.89523117e-07,  0.00000000e+00,\n",
       "         9.87790848e-02,  2.50525609e-01, -2.16078332e-01,\n",
       "         1.38342496e-01,  6.97555034e-02, -2.00460500e-01,\n",
       "         0.00000000e+00, -6.51449647e-06, -2.82747308e-01,\n",
       "        -6.39813467e-02,  3.52257700e-01,  9.24197727e-02,\n",
       "        -6.07280100e-02, -3.96833930e-01, -2.87307140e-03,\n",
       "        -5.21009359e-04, -4.70902994e-02, -1.42007061e-02,\n",
       "         4.09814554e-02,  1.40814142e-01, -1.53389944e-01,\n",
       "        -3.86790373e-02,  1.61262908e-01, -1.73002876e-04,\n",
       "        -4.92074115e-03, -2.40354384e-01,  8.65406808e-02,\n",
       "         2.53231606e-01,  1.66599108e-01,  1.52987307e-01,\n",
       "         1.76643472e-01],\n",
       "       [ 0.00000000e+00, -9.76175727e-03, -3.99079047e-02,\n",
       "         1.31781674e-01,  7.57698020e-02, -2.49471910e-02,\n",
       "         1.35801686e-02, -5.18027180e-04,  5.31184790e-06,\n",
       "         2.40126558e-01,  9.84628298e-02, -1.29700248e-01,\n",
       "         2.76416506e-01,  1.90102716e-02,  5.04761808e-02,\n",
       "        -7.91246101e-05,  2.18277309e-04, -6.08331704e-02,\n",
       "        -8.60526317e-02, -2.09886878e-01,  1.22556352e-01,\n",
       "         1.58767337e-02,  1.48545660e-01, -9.26519160e-06,\n",
       "        -2.00874963e-06, -1.74546402e-01, -4.74009926e-01,\n",
       "        -2.56379421e-01, -1.94231414e-01,  3.18626016e-03,\n",
       "         3.34006303e-02, -3.52184159e-07,  0.00000000e+00,\n",
       "        -1.26171432e-01, -2.70292908e-01, -9.29755956e-02,\n",
       "        -1.24895002e-02, -2.43200957e-01, -2.50294085e-01,\n",
       "         0.00000000e+00, -2.81435394e-06,  6.41599902e-02,\n",
       "         1.18271983e-01,  3.71893679e-01, -2.59316694e-01,\n",
       "        -2.66177145e-01, -6.12560759e-02,  1.40571308e-03,\n",
       "         1.00088078e-02,  7.24768502e-02,  2.59903691e-02,\n",
       "         3.80017930e-01,  2.19437888e-01,  3.23349635e-01,\n",
       "         1.38677915e-01,  3.08381345e-02,  3.33685967e-03,\n",
       "         5.65847682e-03,  1.67454749e-01,  1.49609985e-01,\n",
       "         9.72655755e-03,  2.46367109e-01,  3.46726048e-01,\n",
       "         1.26052255e-01],\n",
       "       [ 0.00000000e+00,  1.22487174e-01, -1.18205410e-01,\n",
       "         1.61990282e-01,  3.33519914e-01,  1.11379490e-01,\n",
       "         2.52069229e-02, -3.08089822e-03,  4.77999278e-06,\n",
       "         1.08658817e-01,  1.38690935e-01,  1.01600450e-01,\n",
       "         7.84594318e-02,  1.83460228e-01,  2.26604641e-01,\n",
       "         1.77848331e-04, -2.15247134e-04,  2.07009114e-02,\n",
       "        -2.79964026e-01, -4.14783408e-01,  1.55369236e-01,\n",
       "        -2.66638985e-01,  6.15173695e-02, -3.76052157e-04,\n",
       "        -1.75971357e-07, -1.00645817e-01, -3.84504055e-01,\n",
       "        -7.80767704e-02,  1.64837296e-01, -3.06906400e-01,\n",
       "        -2.49154368e-01, -3.51659162e-07,  0.00000000e+00,\n",
       "        -1.07820561e-01, -9.34582205e-02,  3.97174792e-02,\n",
       "         1.10112510e-01, -9.77211968e-02,  2.05253683e-02,\n",
       "         0.00000000e+00, -2.81305764e-06, -1.27623084e-02,\n",
       "        -3.32877692e-01, -4.38880800e-01,  1.07371025e-01,\n",
       "         3.38076371e-01,  1.58857912e-01, -1.42441466e-03,\n",
       "        -2.33914340e-06, -3.71536585e-02,  1.21853319e-01,\n",
       "        -1.14165822e-01, -7.94484176e-02,  2.25465355e-01,\n",
       "         2.64255021e-01, -2.39896130e-02, -1.93460034e-07,\n",
       "         1.12341882e-01,  2.28922966e-01,  6.73066969e-02,\n",
       "        -6.27027745e-02, -1.81549406e-02,  5.01612740e-02,\n",
       "        -1.27536734e-01],\n",
       "       [ 0.00000000e+00, -4.56479924e-02, -2.39895258e-01,\n",
       "        -4.43355464e-01, -2.34292848e-01, -2.75397329e-01,\n",
       "        -2.75085091e-01,  6.38489240e-02, -7.03251169e-07,\n",
       "         3.16740854e-02, -1.74698603e-01, -2.06033371e-01,\n",
       "        -4.39227168e-01, -3.49550037e-01, -8.33797638e-02,\n",
       "         9.14848275e-02, -3.75198015e-03,  2.23854294e-02,\n",
       "         1.11283118e-01,  2.24351486e-02,  1.08119540e-01,\n",
       "         9.39876599e-02, -4.04622094e-02,  1.01899900e-01,\n",
       "        -1.87581423e-03, -7.02879612e-02,  3.25670218e-01,\n",
       "         3.84144674e-02, -1.08298528e-03, -5.64843498e-02,\n",
       "         4.21336356e-01,  1.49558292e-03,  0.00000000e+00,\n",
       "         1.50804961e-01,  9.98754689e-02, -7.26014539e-02,\n",
       "         1.72542833e-01,  1.70426201e-01,  3.33107785e-01,\n",
       "         0.00000000e+00,  1.63633382e-04,  4.16207110e-01,\n",
       "         4.96002847e-02,  4.95639693e-01,  2.83689986e-01,\n",
       "        -5.96001684e-03,  6.07975995e-02, -3.94912615e-04,\n",
       "         5.86526264e-05,  1.04543335e-01, -1.49042146e-01,\n",
       "         4.86501741e-02,  6.86951383e-02, -2.02302332e-01,\n",
       "        -2.51258585e-01, -6.41609707e-04, -6.24160394e-06,\n",
       "        -2.07989868e-02, -3.87598602e-02, -2.49341339e-01,\n",
       "        -2.30236741e-01, -2.10493949e-01, -1.30609156e-01,\n",
       "        -9.29349622e-04],\n",
       "       [ 0.00000000e+00,  8.17903311e-02,  3.66214960e-01,\n",
       "        -1.48025868e-01,  2.59673639e-01,  2.54838203e-01,\n",
       "         3.59266528e-01, -5.51741913e-02, -7.09473143e-07,\n",
       "        -1.29798226e-01,  7.48296572e-02,  2.04944511e-01,\n",
       "        -8.31838866e-03, -1.10845652e-01,  2.46194065e-02,\n",
       "        -3.89560941e-02, -1.41620290e-04,  7.61199037e-02,\n",
       "         1.24665519e-01, -1.88444251e-02, -2.86087109e-01,\n",
       "        -3.65715843e-01, -4.00043568e-01, -3.40325527e-03,\n",
       "        -7.06237914e-05,  3.26461314e-01,  2.96280184e-01,\n",
       "        -1.27984934e-01,  1.88755000e-01,  3.44371108e-02,\n",
       "        -2.69899449e-01, -3.64192461e-07,  0.00000000e+00,\n",
       "        -3.51326922e-02,  1.11092324e-01, -1.92622170e-01,\n",
       "        -7.76873651e-02, -8.97314156e-03,  1.15610881e-01,\n",
       "         0.00000000e+00, -2.81658205e-06, -2.68636818e-01,\n",
       "        -2.55019550e-01, -1.93000979e-01, -1.74083141e-02,\n",
       "         9.44337982e-02,  6.93300690e-02, -4.27852587e-05,\n",
       "        -2.35988710e-06,  1.17159459e-02,  5.31478289e-02,\n",
       "        -1.14447883e-01,  1.11490785e-01,  4.93918524e-02,\n",
       "         7.28892051e-03, -1.18076839e-03, -1.98493240e-07,\n",
       "         1.66728978e-02,  3.33293098e-01,  2.20300154e-01,\n",
       "         8.86932304e-02, -6.66018243e-02, -1.85839713e-01,\n",
       "        -7.27366347e-03],\n",
       "       [ 0.00000000e+00, -7.85367465e-03, -1.27782218e-01,\n",
       "        -1.01344463e-01, -5.24752508e-02, -1.84529218e-01,\n",
       "        -7.55194931e-02, -4.79490200e-05, -7.03307843e-07,\n",
       "        -1.26675202e-01, -1.11519271e-01, -1.06354714e-02,\n",
       "        -2.73024593e-01,  3.46849865e-02,  5.15069320e-03,\n",
       "        -2.79822908e-05, -5.48866916e-03, -1.62444552e-01,\n",
       "         7.81622602e-02,  1.83564788e-02, -2.59219279e-01,\n",
       "        -4.05758419e-01, -9.07912784e-02, -3.48327348e-05,\n",
       "        -2.74415862e-03,  1.12448142e-01,  6.45655606e-02,\n",
       "         7.08275143e-02, -1.05621127e-01, -1.33606990e-02,\n",
       "        -1.89196692e-01, -1.90833919e-06,  0.00000000e+00,\n",
       "         1.30613168e-01,  1.26742201e-01,  1.97212579e-01,\n",
       "        -1.47654645e-02, -4.77622751e-02,  1.26859838e-01,\n",
       "         0.00000000e+00, -1.23126085e-04, -8.94209483e-02,\n",
       "         4.43657779e-01,  1.31363781e-01,  1.54665260e-01,\n",
       "        -1.75403653e-02,  1.70503437e-01,  3.57244390e-03,\n",
       "        -1.59259369e-05, -6.53110450e-02,  1.62030381e-01,\n",
       "         6.34753889e-03, -9.72251692e-02,  2.80676443e-01,\n",
       "         4.39355292e-02, -1.13604568e-01, -3.34596498e-07,\n",
       "        -9.65631317e-03, -1.64269646e-01, -1.50655861e-01,\n",
       "        -1.60238874e-02,  7.01160210e-02,  1.44028412e-02,\n",
       "        -7.55469628e-02],\n",
       "       [ 0.00000000e+00,  6.54908453e-02,  3.14351891e-02,\n",
       "         1.58618311e-01,  3.75246928e-02, -3.79093201e-02,\n",
       "         1.50771345e-01,  1.30750045e-01, -7.04981072e-07,\n",
       "         6.14491834e-02,  5.69199173e-02,  2.91400748e-02,\n",
       "         3.43382810e-01, -6.42124784e-03,  9.53065124e-03,\n",
       "         6.17271505e-02, -8.88046800e-07, -2.81432341e-01,\n",
       "        -2.72150653e-01, -1.89744455e-01,  7.35411040e-02,\n",
       "         1.62324807e-01,  1.66507742e-01, -9.13499197e-04,\n",
       "        -2.67214883e-07, -1.47977376e-01, -1.45957997e-02,\n",
       "        -2.25795472e-01,  2.04256167e-02,  1.07772521e-01,\n",
       "         1.91643670e-01, -1.48079907e-03,  0.00000000e+00,\n",
       "         1.58906169e-01, -3.76576744e-02,  2.54714200e-02,\n",
       "         3.86392986e-02,  2.16661901e-01,  2.57589928e-01,\n",
       "         0.00000000e+00, -2.81417928e-06,  2.94954975e-02,\n",
       "        -7.39055755e-04,  1.18872725e-01,  2.97841725e-02,\n",
       "        -1.27523270e-01, -2.83172335e-03, -9.54497512e-06,\n",
       "        -1.21722673e-05, -1.09673326e-02, -1.67848324e-01,\n",
       "         8.91588192e-02, -2.06957840e-01, -2.95516013e-01,\n",
       "        -1.09891653e-01, -1.41169713e-04, -3.46169103e-06,\n",
       "         2.96443963e-02,  6.27934825e-02, -1.56061688e-01,\n",
       "        -2.80805713e-01, -2.39370413e-01, -1.05746354e-01,\n",
       "        -2.47572461e-03],\n",
       "       [ 0.00000000e+00, -1.08558723e-01,  1.60125739e-01,\n",
       "        -1.61767360e-01,  9.59380209e-02, -5.16858454e-02,\n",
       "        -3.12215495e-01, -1.10875890e-02, -9.32944732e-07,\n",
       "        -3.41669343e-02,  1.49169329e-01, -6.27137505e-02,\n",
       "        -1.67969856e-01,  1.14764406e-01,  3.26709831e-02,\n",
       "        -7.95285848e-04, -1.05948987e-01, -5.11557582e-02,\n",
       "         1.14136251e-01, -5.84747578e-02,  5.14040781e-02,\n",
       "         2.15185666e-01, -7.90552001e-02, -8.40418490e-05,\n",
       "        -5.29742676e-02, -1.12699954e-01, -4.72939994e-02,\n",
       "         2.75625151e-01, -9.86766898e-02,  2.47932717e-02,\n",
       "        -2.69869318e-02, -1.17267518e-06,  0.00000000e+00,\n",
       "        -1.07456034e-01, -1.24370294e-01,  2.96519264e-01,\n",
       "         2.42821185e-02, -1.73013496e-01, -5.24030274e-01,\n",
       "         0.00000000e+00, -2.86287772e-06,  8.85372476e-02,\n",
       "         2.76620238e-01,  6.66300137e-02,  9.08397921e-02,\n",
       "         1.98794017e-02,  1.56351626e-01, -2.22249663e-04,\n",
       "        -9.45759884e-03,  7.45884566e-02,  7.14359993e-03,\n",
       "        -2.22556460e-01, -1.65267455e-01,  1.08908499e-01,\n",
       "         6.78757040e-02, -2.39344504e-02, -3.15182524e-03,\n",
       "        -3.58565325e-02, -3.70624647e-01, -8.12103814e-02,\n",
       "         1.68996432e-01, -4.33973724e-02, -8.91014564e-02,\n",
       "        -7.20881786e-02],\n",
       "       [ 0.00000000e+00, -1.05263192e-01,  1.80266937e-03,\n",
       "         3.55236857e-01,  6.66248816e-02, -2.48352046e-02,\n",
       "         1.15871582e-01, -1.07924268e-01, -4.92417037e-06,\n",
       "         1.61435426e-01,  1.68798563e-01,  1.98417563e-01,\n",
       "        -1.52217790e-01,  8.40556612e-02,  1.00066554e-01,\n",
       "        -9.71168895e-02, -6.17425312e-05, -1.41413816e-02,\n",
       "         8.31244935e-02,  8.60370329e-02,  1.78321090e-01,\n",
       "         5.36621702e-01,  1.07903371e-01, -9.63386597e-02,\n",
       "        -2.86205289e-05,  1.05262044e-01,  2.51961519e-01,\n",
       "         3.25621086e-01,  1.10906766e-01,  1.52580998e-01,\n",
       "         6.60392949e-03, -3.85262682e-06,  0.00000000e+00,\n",
       "        -3.37954131e-01, -1.28379101e-01,  1.94142627e-01,\n",
       "        -8.40449855e-02,  7.58448372e-02,  2.96777145e-02,\n",
       "         0.00000000e+00, -2.81329335e-06,  6.54045498e-02,\n",
       "        -4.09075988e-01, -7.80674710e-01, -3.48043682e-01,\n",
       "        -3.74235022e-02, -2.39061970e-01,  3.84411617e-06,\n",
       "        -2.31106805e-06, -6.75147763e-02, -5.95102676e-02,\n",
       "        -1.05569189e-01, -1.80577790e-01, -3.23026392e-01,\n",
       "        -1.24257736e-01, -2.36344810e-02, -1.83765509e-07,\n",
       "        -8.18584419e-02,  6.12385970e-02,  2.53967691e-02,\n",
       "         9.23714405e-02,  1.16975083e-01, -1.14309904e-03,\n",
       "        -3.46194131e-03]])"
      ]
     },
     "execution_count": 14,
     "metadata": {},
     "output_type": "execute_result"
    }
   ],
   "source": [
    "logistic_reg.coef_"
   ]
  },
  {
   "cell_type": "markdown",
   "metadata": {},
   "source": [
    "## Step 4. Predict labels for new data (new images)"
   ]
  },
  {
   "cell_type": "markdown",
   "metadata": {},
   "source": [
    "NOTE: to make the prediction on one single element, use .reshape(1, -1)\n",
    "\n",
    "This converts a numpy matrix output into a single scalar:\n",
    "https://numpy.org/doc/stable/reference/generated/numpy.reshape.html"
   ]
  },
  {
   "cell_type": "code",
   "execution_count": 15,
   "metadata": {
    "scrolled": true
   },
   "outputs": [
    {
     "name": "stdout",
     "output_type": "stream",
     "text": [
      "[8 3 7 6 2 0 4 1 9 7 4 6 1 2 6 6 3 6 9 9 0 0 8 2 0 2 7 4 0 7 6 5 3 0 1 2 1\n",
      " 6 4 3 0 2 0 5 4 6 8 9 7 5 9 5 7 5 8 6 4 0 8 5 5 9 0 1 1 8 9 8 1 1 9 9 5 5\n",
      " 7 0 2 1 4 3 5 6 7 1 4 8 2 3 4 1 8 1 9 7 4 2 1 4 9 3 9 0 4 6 6 6 2 0 3 0 3\n",
      " 5 2 0 2 4 9 0 6 9 2 5 2 3 7 6 4 3 0 9 8 9 8 7 7 5 0 9 8 1 1 5 9 7 9 9 6 9\n",
      " 0 8 7 0 9 2 3 8 5 9 2 8 0 0 5 3 9 2 9 2 2 2 4 6 9 2 4 3 7 8 2 1 7 9 2 4 1\n",
      " 7 2 4 6 6 6 0 9 0 6 1 7 7 7 0 3 5 6 8 9 9 1 3 7 1 7 4 6 2 2 4 2 0 0 1 6 5\n",
      " 8 1 0 4 2 8 1 5 4 6 8 9 1 8 1 0 2 7 0 7 5 8 7 0 9 3 0 6 3 2 9 2 2 1 0 9 1\n",
      " 8 6 5 0 1 4 6 1 5 9 8 6 6 5 0 1 6 6 5 9 2 2 9 4 3 1 9 9 8 2 3 5 8 9 7 7 7\n",
      " 7 7 3 5 2 1 2 2 3 2 7 1 1 5 5 3 4 1 4 1 0 2 2 0 2 7 1 4 6 7 3 1 8 1 0 1 9\n",
      " 6 3 3 0 9 5 4 9 8 6 7 2 6 2 1 6 5 7 6 0 9 2 7 4 1 4 0 0 0 5 1 5 2 6 7 0 7\n",
      " 3 5 0 8 8 0 6 5 6 8 9 5 8 4 1 4 6 0 3 6 9 8 5 3 9 5 7 4 0 6 5 8 0 5 0 7 7\n",
      " 5 6 6 4 3 1 6 9 2 5 8 8 3 9 4 1 4 9 4 6 2 8 9 3 5 7 7 1 4 0 1 6 8 0 7 8 7\n",
      " 4 3 9 6 7 7]\n"
     ]
    }
   ],
   "source": [
    "predictions = logistic_reg.predict(X_test)\n",
    "print(predictions)"
   ]
  },
  {
   "cell_type": "markdown",
   "metadata": {},
   "source": [
    "## Step 5. Make predictions on entire test data and measure Model Performance"
   ]
  },
  {
   "cell_type": "code",
   "execution_count": 16,
   "metadata": {},
   "outputs": [
    {
     "name": "stdout",
     "output_type": "stream",
     "text": [
      "0.9622222222222222\n"
     ]
    }
   ],
   "source": [
    "score = logistic_reg.score(X_test, y_test)\n",
    "print(score)"
   ]
  },
  {
   "cell_type": "markdown",
   "metadata": {},
   "source": [
    "## Another essential performance measure: Confusion Matrix"
   ]
  },
  {
   "cell_type": "code",
   "execution_count": 17,
   "metadata": {},
   "outputs": [],
   "source": [
    "import matplotlib.pyplot as plt\n",
    "import seaborn as sns\n",
    "from sklearn import metrics"
   ]
  },
  {
   "cell_type": "code",
   "execution_count": 18,
   "metadata": {},
   "outputs": [
    {
     "name": "stdout",
     "output_type": "stream",
     "text": [
      "[[52  0  0  0  0  0  0  0  0  0]\n",
      " [ 0 46  0  0  1  0  0  0  3  0]\n",
      " [ 0  0 47  0  0  0  0  0  0  0]\n",
      " [ 0  0  1 33  0  1  0  2  0  1]\n",
      " [ 0  1  0  0 38  0  0  0  0  0]\n",
      " [ 0  0  0  0  0 40  1  0  0  2]\n",
      " [ 0  0  0  0  0  0 49  0  0  0]\n",
      " [ 0  0  0  0  0  0  0 45  0  1]\n",
      " [ 0  1  0  0  0  1  0  0 35  0]\n",
      " [ 0  0  0  0  0  0  0  0  1 48]]\n"
     ]
    }
   ],
   "source": [
    "cm = metrics.confusion_matrix(y_test, predictions)\n",
    "print(cm)"
   ]
  },
  {
   "cell_type": "code",
   "execution_count": 19,
   "metadata": {
    "scrolled": false
   },
   "outputs": [
    {
     "data": {
      "image/png": "[encoded data removed]",
      "text/plain": [
       "<Figure size 900x900 with 2 Axes>"
      ]
     },
     "metadata": {},
     "output_type": "display_data"
    }
   ],
   "source": [
    "plt.figure(figsize=(9,9))\n",
    "sns.heatmap(cm, annot=True, \n",
    "            fmt=\".0f\", \n",
    "            linewidths=.5, \n",
    "            square = True, \n",
    "            cmap = 'Reds_r');\n",
    "plt.ylabel('Actual label');\n",
    "plt.xlabel('Predicted label');\n",
    "all_sample_title = 'Accuracy Score: {0}'.format(score)\n",
    "plt.title(all_sample_title, size = 15);"
   ]
  }
 ],
 "metadata": {
  "kernelspec": {
   "display_name": "Python 3 (ipykernel)",
   "language": "python",
   "name": "python3"
  },
  "language_info": {
   "codemirror_mode": {
    "name": "ipython",
    "version": 3
   },
   "file_extension": ".py",
   "mimetype": "text/x-python",
   "name": "python",
   "nbconvert_exporter": "python",
   "pygments_lexer": "ipython3",
   "version": "3.10.7"
  }
 },
 "nbformat": 4,
 "nbformat_minor": 2
}
