{
 "cells": [
  {
   "cell_type": "markdown",
   "id": "96f7b783",
   "metadata": {},
   "source": [
    "# Python decorators\n",
    "\n",
    "A partir de la explicación de Jordi Torres en su libro \n",
    "https://torres.ai/python-deep-learning/\n",
    "\n",
    "\"Las funciones nos permiten modularizar el código y reutilizarlo. Sin embargo a menudo queremos agregar funcionalidad antes o después de que se ejecute la función principal, y para muchas funciones diferentes\".\n",
    "\n",
    "En Python esta operación se denomina decoración precisamente porque lo que intenta es decorar o añadir funcionalidad a otro objeto, envolviendo la función sobre la que actúan y permitiendo entrar en sus entradas o salidas.\n",
    "\n",
    "Veamos un ejemplo a partir de:\n",
    "https://ellibrodepython.com/decoradores-python\n",
    "\n"
   ]
  },
  {
   "cell_type": "code",
   "execution_count": 2,
   "id": "ac7ad79c",
   "metadata": {},
   "outputs": [],
   "source": [
    "def mi_decorador(funcion):\n",
    "    def nueva_funcion(a, b):\n",
    "        print(\"Se va a llamar\")\n",
    "        c = funcion(a, b)\n",
    "        print(\"Se ha llamado\")\n",
    "        return c\n",
    "    return nueva_funcion\n"
   ]
  },
  {
   "cell_type": "code",
   "execution_count": 3,
   "id": "73ff2f1c",
   "metadata": {},
   "outputs": [],
   "source": [
    "@mi_decorador\n",
    "def suma(a, b):\n",
    "    print(\"Entra en funcion suma\")\n",
    "    return a + b\n"
   ]
  },
  {
   "cell_type": "code",
   "execution_count": 4,
   "id": "eff26185",
   "metadata": {},
   "outputs": [
    {
     "name": "stdout",
     "output_type": "stream",
     "text": [
      "Se va a llamar\n",
      "Entra en funcion suma\n",
      "Se ha llamado\n"
     ]
    },
    {
     "data": {
      "text/plain": [
       "13"
      ]
     },
     "execution_count": 4,
     "metadata": {},
     "output_type": "execute_result"
    }
   ],
   "source": [
    "suma(5,8)"
   ]
  },
  {
   "cell_type": "markdown",
   "id": "2ab9c66e",
   "metadata": {},
   "source": [
    "## Los decoradores en TensorFlow 2\n",
    "\n",
    "TensorFlow 2 hace uso de esta funcionalidad python.\n",
    "\n",
    "Por ejemplo el decorador \n",
    "@tf.function\n",
    "https://www.tensorflow.org/api_docs/python/tf/function\n",
    "\n",
    "Cuando se utiliza este decorador la función sobre la que se aplica es optimizada a nivel interno (\"compilada\" a nivel de grafo interno de TF) para poder ser acelerada en el hardware disponible."
   ]
  }
 ],
 "metadata": {
  "kernelspec": {
   "display_name": "Python 3 (ipykernel)",
   "language": "python",
   "name": "python3"
  },
  "language_info": {
   "codemirror_mode": {
    "name": "ipython",
    "version": 3
   },
   "file_extension": ".py",
   "mimetype": "text/x-python",
   "name": "python",
   "nbconvert_exporter": "python",
   "pygments_lexer": "ipython3",
   "version": "3.10.7"
  }
 },
 "nbformat": 4,
 "nbformat_minor": 5
}
