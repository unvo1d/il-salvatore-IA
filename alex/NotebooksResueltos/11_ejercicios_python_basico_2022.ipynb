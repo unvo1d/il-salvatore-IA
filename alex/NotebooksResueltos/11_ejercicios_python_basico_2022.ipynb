{
 "cells": [
  {
   "cell_type": "markdown",
   "metadata": {},
   "source": [
    "<div style=\"font-size: 200%; font-weight: bold; color: maroon;\">Ejercicio programación python básico</div>\n",
    "\n",
    "# NO SERÁ CALIFICADO, pero conviene que si lo haces, lo subas a Blackboard"
   ]
  },
  {
   "cell_type": "markdown",
   "metadata": {},
   "source": [
    "# Instrucciones generales\n",
    "\n",
    "Se trata de que escribas el código python necesario para realizar las tareas descritas, con total libertad en cuanto a las casillas (cell) que puedes generar. RECUERDA: con la función \"Insert\" en el menú de jupyter puedes añadir casillas por encima y por debajo de donde te encuentrs\n",
    "\n",
    "En este control planteo ejercicios más abiertos, y **puedes -quizás incluso debes- encontrar funciones ya escritas en internet** pero deberás no solo verificar que funcionan adecuadamente en tu entorno, que es el mismo que el mío a no ser que hayas hecho cambios, sino que te recomiendo que comentes y expliques el por qué de cada paso que da el código. También aconsejo documentar de dónde se ha obtenido el código.\n",
    "\n",
    "Cada ejercicio tiene alguna ayuda en este sentido, pero insisto, tienes total libertad para reutilizar código disponible públicamente.\n",
    "\n",
    "**IMPORTANTE**\n",
    "\n",
    "Como parte del ejercicio aconsejo plantearse **pruebas unitarias**: cálculos hechos aparte de la programación que permitirán comprobar que el código funciona como debiera. Estas pruebas deben también incluir gestión de errores.\n"
   ]
  },
  {
   "cell_type": "markdown",
   "metadata": {},
   "source": [
    "# Carga inicial de librerías necesarias\n",
    "\n",
    "Es buena práctica cargar al principio del código (en este caso del notebook) las librerías necesarias.\n"
   ]
  },
  {
   "cell_type": "code",
   "execution_count": 1,
   "metadata": {},
   "outputs": [
    {
     "name": "stdout",
     "output_type": "stream",
     "text": [
      "Requirement already satisfied: currencyconverter in c:\\users\\joaquin.bazterrica\\appdata\\local\\programs\\python\\python310\\lib\\site-packages (0.17.1)\n",
      "Requirement already satisfied: python-constraint in c:\\users\\joaquin.bazterrica\\appdata\\local\\programs\\python\\python310\\lib\\site-packages (1.4.0)\n"
     ]
    }
   ],
   "source": [
    "import requests\n",
    "!pip install currencyconverter\n",
    "!pip install python-constraint\n",
    "from currency_converter import CurrencyConverter\n",
    "from datetime import date\n",
    "import constraint"
   ]
  },
  {
   "cell_type": "markdown",
   "metadata": {},
   "source": [
    "# Ejercicio 1: Convertidor de moneda\n",
    "\n",
    "Debes generar un código que convierta de una divisa (\"currency_from\") a otra (\"currency_target\"), y que lo haga al menos con el euro (p. ej. \"EUR\" que es el estándar) y tienes libertad de elegir la otra moneda (o prpoponer varias, según quieras complicarlo). La tasa de cambio la puedes introducir como una constante o como un valor que tiene que introducir el usuario (con el método .input como hemos visto en ejemplos en clase).\n",
    "\n",
    "Existen multitud de ejemplos de cómo hacer esto con python en internet (aconsejo buscar en inglés):\n",
    "\n",
    "https://www.google.com/search?q=currecy+converter+python\n",
    "\n",
    "Y como ejemplo bastante abordable puedo recomendar este video-tutorial (en inglés):\n",
    "\n",
    "https://www.youtube.com/watch?v=5vfgirGPvD4\n",
    "\n",
    "Pero, **insisto, tienes total libertad de elegir otro código o hacer el tuyo propio si te sientes más cómodo**.\n",
    "\n",
    "Pero añado **dos requisitos para la corrección del ejercicio**: \n",
    "\n",
    "1. El código debe ser resistente -no fallar, no interrumpir ejecución- aun cuando el usuario introduzca un tipo de valor que no es el que pide el código. Esto es, debemos evitar la excepción TypeError utilizando las sentencias try: except.\n",
    "\n",
    "2. Para evaluar lo anterior, propón **al menos dos casos de prueba** y verifica que tu código los cumple.\n",
    "\n"
   ]
  },
  {
   "cell_type": "code",
   "execution_count": 2,
   "metadata": {},
   "outputs": [
    {
     "name": "stdout",
     "output_type": "stream",
     "text": [
      "1. Euro\t2. Dolar\t3. Yen Japones\t4. Peso Mexicano\t5. Yuan\n",
      "\n",
      "Ingrese la opcion de la moneda que quieres convertir\n",
      "6\n",
      "Ingrese la opcion de la moneda destino\n",
      "muere\n",
      "Se ingresó un valor invalido\n",
      "Ingrese la cantidad a convertir\n",
      "1\n"
     ]
    },
    {
     "ename": "NameError",
     "evalue": "name 'option_target' is not defined",
     "output_type": "error",
     "traceback": [
      "\u001b[1;31m---------------------------------------------------------------------------\u001b[0m",
      "\u001b[1;31mNameError\u001b[0m                                 Traceback (most recent call last)",
      "Cell \u001b[1;32mIn [2], line 35\u001b[0m\n\u001b[0;32m     31\u001b[0m \u001b[38;5;28;01mif\u001b[39;00m option_from \u001b[38;5;241m==\u001b[39m \u001b[38;5;241m5\u001b[39m:\n\u001b[0;32m     32\u001b[0m     option_from \u001b[38;5;241m=\u001b[39m \u001b[38;5;124m\"\u001b[39m\u001b[38;5;124mCNY\u001b[39m\u001b[38;5;124m\"\u001b[39m\n\u001b[1;32m---> 35\u001b[0m \u001b[38;5;28;01mif\u001b[39;00m \u001b[43moption_target\u001b[49m \u001b[38;5;241m==\u001b[39m \u001b[38;5;241m1\u001b[39m:\n\u001b[0;32m     36\u001b[0m     option_target \u001b[38;5;241m=\u001b[39m \u001b[38;5;124m\"\u001b[39m\u001b[38;5;124mEUR\u001b[39m\u001b[38;5;124m\"\u001b[39m\n\u001b[0;32m     37\u001b[0m \u001b[38;5;28;01mif\u001b[39;00m option_target \u001b[38;5;241m==\u001b[39m \u001b[38;5;241m2\u001b[39m:\n",
      "\u001b[1;31mNameError\u001b[0m: name 'option_target' is not defined"
     ]
    }
   ],
   "source": [
    "c=CurrencyConverter()\n",
    "\n",
    "print(\"1. Euro\\t2. Dolar\\t3. Yen Japones\\t4. Peso Mexicano\\t5. Yuan\\n\")\n",
    "\n",
    "try:\n",
    "    option_from = float(input(\"Ingrese la opción de la moneda que quieres convertir\\n\"))\n",
    "    \n",
    "except ValueError:\n",
    "    print(\"Se ingresó un valor invalido\")\n",
    "\n",
    "try:\n",
    "    option_target = float(input(\"Ingrese la opción de la moneda destino\\n\"))\n",
    "except ValueError:\n",
    "    print(\"Se ingresó un valor invalido\")\n",
    "    \n",
    "try:\n",
    "    currency_from = float(input(\"Ingrese la cantidad a convertir\\n\"))\n",
    "    \n",
    "except ValueError:\n",
    "    print(\"Se ingresó un valor invalido\")\n",
    "\n",
    "\n",
    "if option_from == 1:\n",
    "    option_from = \"EUR\"\n",
    "if option_from == 2:\n",
    "    option_from = \"USD\"\n",
    "if option_from == 3:\n",
    "    option_from = \"JPY\"\n",
    "if option_from == 4:\n",
    "    option_from = \"MXN\"\n",
    "if option_from == 5:\n",
    "    option_from = \"CNY\"\n",
    "    \n",
    "    \n",
    "if option_target == 1:\n",
    "    option_target = \"EUR\"\n",
    "if option_target == 2:\n",
    "    option_target = \"USD\"\n",
    "if option_target == 3:\n",
    "    option_target = \"JPY\"\n",
    "if option_target == 4:\n",
    "    option_target = \"MXN\"\n",
    "if option_target == 5:\n",
    "    option_target = \"CNY\"\n",
    "\n",
    "currency_target = c.convert(currency_from, option_from , option_target);\n",
    "\n",
    "print(str(currency_from)+ \" \" + option_from + \" es equivalente a \"+ str(currency_target) + \" \" + option_target)"
   ]
  },
  {
   "cell_type": "markdown",
   "metadata": {},
   "source": [
    "# Ejercicio 2: criptaritmético SEDE + UTAD = ROZAS por fuerza bruta\n",
    "\n",
    "\n",
    "Formulación del problema\n",
    "\n",
    "En el problema que aparece a continuación: - Cada letra representa un (y solo uno) número. Esto es, diferentes letras son estrictamente diferentes números, y una vez hecha la asignación letra-número esta permanece\n",
    "\n",
    "- El resultado numérico (después de haber sustituido letras por números) debe estar correctamente \n",
    "elaborado\n",
    "\n",
    "       UTAD  +  SEDE = ROZAS\n",
    "\n",
    "Para limitar el número de soluciones, impondremos que\n",
    "\n",
    "S = 7\n",
    "\n",
    "NO PERMITIREMOS LOS CEROS A LA IZQUIERDA. Por tanto U > 0, S > 0 (ya lo es), R > 0\n"
   ]
  },
  {
   "cell_type": "markdown",
   "metadata": {},
   "source": [
    "Ayudas:\n",
    "\n",
    "- Generaremos bucles anidados para tantas letras como necesitemos.\n",
    "- Buscaremos entre todos los valores posibles de esas letras usando range\n"
   ]
  },
  {
   "cell_type": "code",
   "execution_count": 3,
   "metadata": {},
   "outputs": [
    {
     "name": "stdout",
     "output_type": "stream",
     "text": [
      "Number of solutions found: 10\n",
      "\n",
      "U = 2, T = 5, A = 6, D = 9, S = 7, E = 8, R = 1, O = 0, Z = 4\n",
      "U = 2, T = 4, A = 6, D = 9, S = 7, E = 8, R = 1, O = 0, Z = 3\n",
      "U = 2, T = 4, A = 5, D = 9, S = 7, E = 8, R = 1, O = 0, Z = 3\n",
      "U = 2, T = 6, A = 4, D = 9, S = 7, E = 8, R = 1, O = 0, Z = 5\n",
      "U = 2, T = 6, A = 3, D = 9, S = 7, E = 8, R = 1, O = 0, Z = 5\n",
      "U = 2, T = 5, A = 3, D = 9, S = 7, E = 8, R = 1, O = 0, Z = 4\n",
      "U = 4, T = 6, A = 3, D = 9, S = 7, E = 8, R = 1, O = 2, Z = 5\n",
      "U = 4, T = 6, A = 0, D = 9, S = 7, E = 8, R = 1, O = 2, Z = 5\n",
      "U = 6, T = 3, A = 5, D = 9, S = 7, E = 8, R = 1, O = 4, Z = 2\n",
      "U = 6, T = 3, A = 0, D = 9, S = 7, E = 8, R = 1, O = 4, Z = 2\n"
     ]
    }
   ],
   "source": [
    "problem = constraint.Problem()\n",
    "problem.addVariables(\"U\", range(1,10))\n",
    "problem.addVariables(\"TAD\", range(10))\n",
    "problem.addVariables(\"S\", [7])\n",
    "problem.addVariables(\"E\", range(10))\n",
    "problem.addVariables(\"R\", range(1,10))\n",
    "problem.addVariables(\"OZ\", range(10))\n",
    "\n",
    "def sum_constraint(u, t, a, d, s, e, r, o, z):\n",
    "    if (u*1000 + t*100 + a*10 + d) + (s*1000 + e*100 + d*10 + e) == r*10000 + o*1000 + z*100 + a*10 + s:\n",
    "        return True\n",
    "    \n",
    "problem.addConstraint(sum_constraint, \"UTADSEROZ\")\n",
    "\n",
    "problem.addConstraint(constraint.AllDifferentConstraint())\n",
    "\n",
    "solutions = problem.getSolutions()\n",
    "print(\"Number of solutions found: {}\\n\".format(len(solutions)))\n",
    "\n",
    "# .getSolutions() returns a dictionary\n",
    "for s in solutions:\n",
    "    print(\"U = {}, T = {}, A = {}, D = {}, S = {}, E = {}, R = {}, O = {}, Z = {}\"\n",
    "        .format(s['U'], s['T'], s['A'], s['D'], s['S'], s['E'], s['R'], s['O'], s['Z']))"
   ]
  },
  {
   "cell_type": "markdown",
   "metadata": {},
   "source": [
    "Por ejemplo, si queremos que un número se encuentre entre 0 y 9 podemos poner\n"
   ]
  },
  {
   "cell_type": "code",
   "execution_count": 2,
   "metadata": {},
   "outputs": [
    {
     "name": "stdout",
     "output_type": "stream",
     "text": [
      "9\n",
      "8\n",
      "7\n",
      "6\n",
      "5\n",
      "4\n",
      "3\n",
      "2\n",
      "1\n",
      "0\n"
     ]
    }
   ],
   "source": [
    "for u in range(9, -1, -1):\n",
    "    print(u)"
   ]
  },
  {
   "cell_type": "markdown",
   "metadata": {},
   "source": [
    "Y si no dejamos que el número (que luego será la palabra) comience por cero, es fácil:"
   ]
  },
  {
   "cell_type": "code",
   "execution_count": 3,
   "metadata": {
    "scrolled": true
   },
   "outputs": [
    {
     "name": "stdout",
     "output_type": "stream",
     "text": [
      "9\n",
      "8\n",
      "7\n",
      "6\n",
      "5\n",
      "4\n",
      "3\n",
      "2\n",
      "1\n"
     ]
    }
   ],
   "source": [
    "for u in range(9, 0, -1):\n",
    "    print(u)"
   ]
  },
  {
   "cell_type": "markdown",
   "metadata": {},
   "source": [
    "Y verificaremos que se cumple la condición con esta fórmula, por ejemplo para UTAD:\n",
    "\n",
    "utad = 1000 * u + 100 * t + 10 * a + d"
   ]
  }
 ],
 "metadata": {
  "kernelspec": {
   "display_name": "Python 3 (ipykernel)",
   "language": "python",
   "name": "python3"
  },
  "language_info": {
   "codemirror_mode": {
    "name": "ipython",
    "version": 3
   },
   "file_extension": ".py",
   "mimetype": "text/x-python",
   "name": "python",
   "nbconvert_exporter": "python",
   "pygments_lexer": "ipython3",
   "version": "3.10.7"
  }
 },
 "nbformat": 4,
 "nbformat_minor": 2
}
