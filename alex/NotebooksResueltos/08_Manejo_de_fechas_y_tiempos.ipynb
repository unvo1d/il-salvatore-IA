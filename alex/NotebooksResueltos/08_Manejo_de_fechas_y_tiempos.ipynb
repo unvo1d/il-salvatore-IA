{
 "cells": [
  {
   "cell_type": "markdown",
   "metadata": {},
   "source": [
    "<div style=\"font-size: 200%; font-weight: bold; color: maroon;\">Manejo de fechas y tiempos.</div>\n"
   ]
  },
  {
   "cell_type": "markdown",
   "metadata": {},
   "source": [
    "## Enlaces recomendados\n",
    "\n",
    "Documentación oficial python 2.7 https://docs.python.org/3/library/datetime.html\n",
    "\n",
    "Un buen tutorial: https://www.programiz.com/python-programming/datetime\n",
    "\n",
    "En esta documentación veréis toda la complejidad de manejar fechas: dependencia de zona geográfica, cambios estacionales, alteraciones de calendarios en momentos concretos de la historia ...\n",
    "\n",
    "Nosotros **no** abordaremos estas complejidades, trataremos el manejo de fechas y tiempos de una forma totalmente práctica, pero que sepáis que son temas complejos depende de cómo usarlo.\n",
    "\n",
    "Ejemplo de introducción de fechas y horas con captura de errores: https://python-para-impacientes.blogspot.com/2014/01/entrada-estandar-input.html\n",
    "\n",
    "Lo mismo para tiempos (módulo time), para que veamos la complejidad del manejo de tiempos:\n",
    "https://docs.python.org/3/library/time.html"
   ]
  },
  {
   "cell_type": "code",
   "execution_count": null,
   "metadata": {},
   "outputs": [],
   "source": [
    "from datetime import *\n",
    "from dateutil import tz\n"
   ]
  },
  {
   "cell_type": "markdown",
   "metadata": {},
   "source": [
    "# 1. Tipos estándar de fechas y tiempos en datatime\n",
    "\n",
    "El módulo datetime proporciona las clases para manipular fechas y tiempos (y la combinación de ambos) de formas simples o complejas. El módulo también tiene objetos que tienen en cuenta la localización o timezone (timezone aware).\n"
   ]
  },
  {
   "cell_type": "markdown",
   "metadata": {},
   "source": [
    "Los objetos más simples son date y time. Comenzamos con date y sus métodos:"
   ]
  },
  {
   "cell_type": "code",
   "execution_count": null,
   "metadata": {},
   "outputs": [],
   "source": [
    "# dates are easily constructed and formatted\n",
    "now = date.today()\n",
    "print(now)\n",
    "now"
   ]
  },
  {
   "cell_type": "markdown",
   "metadata": {},
   "source": [
    "IMPORTANTE: Formato estándar de fecha es el anglosajón (año, mes, día). Por ejemplo:"
   ]
  },
  {
   "cell_type": "code",
   "execution_count": null,
   "metadata": {},
   "outputs": [],
   "source": [
    "# dates support calendar arithmetic\n",
    "birthday = date(1966, 6, 20)\n",
    "print(birthday)\n"
   ]
  },
  {
   "cell_type": "markdown",
   "metadata": {},
   "source": [
    "Y un método adicional que tenemos es la diferencia de fechas **en días** como timedelta"
   ]
  },
  {
   "cell_type": "code",
   "execution_count": null,
   "metadata": {},
   "outputs": [],
   "source": [
    "age = now - birthday\n",
    "print(age)\n",
    "print(type(age))\n",
    "age.days"
   ]
  },
  {
   "cell_type": "markdown",
   "metadata": {},
   "source": [
    "Los objetos date se pueden descomponer fácilmente en sus componentes:"
   ]
  },
  {
   "cell_type": "code",
   "execution_count": null,
   "metadata": {},
   "outputs": [],
   "source": [
    "today = date.today() \n",
    "\n",
    "print(\"Current year:\", today.year)\n",
    "print(\"Current month:\", today.month)\n",
    "print(\"Current day:\", today.day)"
   ]
  },
  {
   "cell_type": "markdown",
   "metadata": {},
   "source": [
    "# 2. Los objetos time\n",
    "\n",
    "Los objetos time incluyen los elementos hora, minutos, segundos, y opcionalmente microsegundos (millonésimas de segundo).\n",
    "\n",
    "Aquí unos ejemplos:\n"
   ]
  },
  {
   "cell_type": "code",
   "execution_count": null,
   "metadata": {},
   "outputs": [],
   "source": [
    "# time(hour = 0, minute = 0, second = 0)\n",
    "a = time()\n",
    "print(\"a =\", a)\n",
    "\n",
    "# time(hour, minute and second)\n",
    "b = time(11, 34, 56)\n",
    "print(\"b =\", b)\n",
    "\n",
    "# time(hour, minute and second)\n",
    "c = time(hour = 11, minute = 34, second = 56)\n",
    "print(\"c =\", c)\n",
    "\n",
    "# time(hour, minute, second, microsecond)\n",
    "d = time(11, 34, 56, 234566)\n",
    "print(\"d =\", d)"
   ]
  },
  {
   "cell_type": "markdown",
   "metadata": {},
   "source": [
    "# 3. Objetos datetime\n",
    "\n",
    "Como su nombre indica, los objetos datetime incluyen la información conjunta de date y de time:"
   ]
  },
  {
   "cell_type": "code",
   "execution_count": null,
   "metadata": {},
   "outputs": [],
   "source": [
    "ahora = datetime.now() \n",
    "print(type(datetime.now()))\n",
    "\n",
    "print(\"Current year:\", ahora.year)\n",
    "print(\"Current month:\", ahora.month)\n",
    "print(\"Current day:\", ahora.day)\n",
    "print(\"hour =\", ahora.hour)\n",
    "print(\"minute =\", ahora.minute)\n",
    "print(\"timezone =\", ahora.tzinfo)"
   ]
  },
  {
   "cell_type": "code",
   "execution_count": null,
   "metadata": {},
   "outputs": [],
   "source": [
    "local_tz = tz.gettz('Europe/Madrid')\n",
    "ahora = datetime.now(local_tz) \n",
    "\n",
    "print(\"Current year:\", ahora.year)\n",
    "print(\"Current month:\", ahora.month)\n",
    "print(\"Current day:\", ahora.day)\n",
    "print(\"hour =\", ahora.hour)\n",
    "print(\"minute =\", ahora.minute)\n",
    "print(\"timezone =\", ahora.tzinfo)"
   ]
  },
  {
   "cell_type": "code",
   "execution_count": null,
   "metadata": {},
   "outputs": [],
   "source": [
    "local_tz = tz.gettz('Europe/London')\n",
    "ahora = datetime.now(local_tz) \n",
    "\n",
    "print(\"Current year:\", ahora.year)\n",
    "print(\"Current month:\", ahora.month)\n",
    "print(\"Current day:\", ahora.day)\n",
    "print(\"hour =\", ahora.hour)\n",
    "print(\"minute =\", ahora.minute)\n",
    "print(\"timezone =\", ahora.tzinfo)"
   ]
  }
 ],
 "metadata": {
  "kernelspec": {
   "display_name": "Python 3",
   "language": "python",
   "name": "python3"
  },
  "language_info": {
   "codemirror_mode": {
    "name": "ipython",
    "version": 3
   },
   "file_extension": ".py",
   "mimetype": "text/x-python",
   "name": "python",
   "nbconvert_exporter": "python",
   "pygments_lexer": "ipython3",
   "version": "3.8.8"
  }
 },
 "nbformat": 4,
 "nbformat_minor": 2
}
