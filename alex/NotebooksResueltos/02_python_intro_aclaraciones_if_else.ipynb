{
 "cells": [
  {
   "cell_type": "markdown",
   "metadata": {},
   "source": [
    "# Introducción al lenguaje Python. \n",
    "\n",
    "## Primera parte: ALGUNAS ACLARACIONES A DUDAS QUE HAN SURGIDO EN CLASE SOBRE CONDICIONES IF.. ELIF.. ELSE"
   ]
  },
  {
   "cell_type": "markdown",
   "metadata": {},
   "source": [
    "# Enlaces recomendados\n",
    "\n",
    "\n",
    "https://www.programiz.com/python-programming/if-elif-else\n",
    "\n",
    "https://stackoverflow.com/questions/25703446/whats-the-main-difference-between-if-and-else-if\n",
    "\n",
    "https://stackoverflow.com/questions/23230044/if-and-elif-chain-versus-a-plain-if-chain?noredirect=1&lq=1\n"
   ]
  },
  {
   "cell_type": "markdown",
   "metadata": {},
   "source": [
    "## Python Nested if statements\n",
    "\n",
    "We can have a if...elif...else statement inside another if...elif...else statement. This is called nesting in computer programming.\n",
    "\n",
    "**Any number of these statements can be nested inside one another. Indentation is the only way to figure out the level of nesting. This can get confusing, so must be avoided if we can.**"
   ]
  },
  {
   "cell_type": "code",
   "execution_count": null,
   "metadata": {},
   "outputs": [],
   "source": [
    "# In this program, we input a number\n",
    "# check if the number is positive or\n",
    "# negative or zero and display\n",
    "# an appropriate message\n",
    "# This time we use nested if\n",
    "num = float(input(\"Enter a number: \"))\n",
    "\n",
    "if num >= 0:\n",
    "    if num == 0:\n",
    "        print(\"Zero\")\n",
    "    else:\n",
    "        print(\"Positive number\")\n",
    "else:\n",
    "    print(\"Negative number\")"
   ]
  },
  {
   "cell_type": "markdown",
   "metadata": {},
   "source": [
    "## Cuándo usar if .. if versus if .. elif\n",
    "\n",
    "¿Cuál es la diferencia entre estos dos códigos?"
   ]
  },
  {
   "cell_type": "code",
   "execution_count": null,
   "metadata": {
    "scrolled": true
   },
   "outputs": [],
   "source": [
    "n = float(input(\"Enter a number: \"))\n",
    "\n",
    "if(n > 0):\n",
    "    print \"Number is Positive\"\n",
    "if(n < 0):\n",
    "    print \"Number is Negative\"\n",
    "if(n == 0):\n",
    "    print \"Number is ZERO\""
   ]
  },
  {
   "cell_type": "code",
   "execution_count": null,
   "metadata": {},
   "outputs": [],
   "source": [
    "n = float(input(\"Enter a number: \"))\n",
    "\n",
    "if (n > 0):\n",
    "    print \"Number is Positive\"\n",
    "elif (n < 0):\n",
    "    print \"Number is Negative\"\n",
    "else:\n",
    "    print \"Number is ZERO\""
   ]
  },
  {
   "cell_type": "markdown",
   "metadata": {},
   "source": [
    "The first form if-if-if tests all conditions, whereas the second if-elif-else tests only as many as needed: if it finds one condition that is True, it stops and doesn't evaluate the rest. \n",
    "\n",
    "**In other words: if-elif-else is used when the conditions are mutually exclusive.**"
   ]
  },
  {
   "cell_type": "markdown",
   "metadata": {},
   "source": [
    "Technically speaking, elif is part of the (compound) if statement; Python picks the first test in a series of if / elif branches that tests as true, or the else branch (if present) if none are true. Using a separate if statement starts a new selection, independent of the previous if compound statement."
   ]
  }
 ],
 "metadata": {
  "kernelspec": {
   "display_name": "Python 3",
   "language": "python",
   "name": "python3"
  },
  "language_info": {
   "codemirror_mode": {
    "name": "ipython",
    "version": 3
   },
   "file_extension": ".py",
   "mimetype": "text/x-python",
   "name": "python",
   "nbconvert_exporter": "python",
   "pygments_lexer": "ipython3",
   "version": "3.8.8"
  }
 },
 "nbformat": 4,
 "nbformat_minor": 2
}
